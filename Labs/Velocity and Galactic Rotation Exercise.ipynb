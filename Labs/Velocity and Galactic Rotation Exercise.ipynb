{
 "cells": [
  {
   "cell_type": "markdown",
   "metadata": {},
   "source": [
    "# Velocity & Galactic Rotation\n",
    "\n",
    "In this notebook, you'll go through all the steps needed to go from a measured velocity to a measurement of the Galactic mass assuming circular orbits.\n",
    "\n",
    "You just need to read along and execute cells for the first ~90%.  Then, at the end, you'll repeat what you did in the top half, but for a different target."
   ]
  },
  {
   "cell_type": "markdown",
   "metadata": {},
   "source": [
    "# Basic Python Setup"
   ]
  },
  {
   "cell_type": "code",
   "execution_count": 1,
   "metadata": {
    "slideshow": {
     "slide_type": "slide"
    }
   },
   "outputs": [],
   "source": [
    "# preface - this is just stuff you need to run the code\n",
    "%matplotlib inline\n",
    "import pylab as pl\n",
    "from astropy import units as u, constants, visualization\n",
    "visualization.quantity_support()\n",
    "\n",
    "# if you're using a white background, comment this next line out or delete it\n",
    "# (\"comment out\" means put a # at the start of the line)\n",
    "pl.style.use('dark_background')"
   ]
  },
  {
   "cell_type": "code",
   "execution_count": 2,
   "metadata": {},
   "outputs": [],
   "source": [
    "# This cell loads the moduls you need to set up an observer, target, and time\n",
    "\n",
    "from astroplan import Observer\n",
    "from astropy import units as u, coordinates\n",
    "from astropy.table import Table\n",
    "import datetime\n",
    "import pytz\n",
    "tz = pytz.timezone('US/Eastern')"
   ]
  },
  {
   "cell_type": "code",
   "execution_count": 3,
   "metadata": {
    "slideshow": {
     "slide_type": "slide"
    }
   },
   "outputs": [
    {
     "data": {
      "text/plain": [
       "'\\ndatatable = Table.read(\\'data/psd_200725_100309_tint60s_sdr0_fsw.fits\\')\\nobslon = float(datatable.meta[\\'--obs_lon\\']) * u.deg\\nobslat = float(datatable.meta[\\'--obs_lat\\']) * u.deg\\nobs_time_notz = datetime.datetime.strptime(datatable.meta[\\'DATE-OBS\\'], \"%y%m%d_%H%M%S\")\\nlocation = coordinates.EarthLocation.from_geodetic(obslon, obslat, 100*u.m)\\n'"
      ]
     },
     "execution_count": 3,
     "metadata": {},
     "output_type": "execute_result"
    }
   ],
   "source": [
    "# This cell has been \"commented out\" using triple-quotes\n",
    "\n",
    "# Right now, it doesn't do anything, but it's here to show you how you would load up your own observational\n",
    "# data to make a target\n",
    "\"\"\"\n",
    "datatable = Table.read('data/psd_200725_100309_tint60s_sdr0_fsw.fits')\n",
    "obslon = float(datatable.meta['--obs_lon']) * u.deg\n",
    "obslat = float(datatable.meta['--obs_lat']) * u.deg\n",
    "obs_time_notz = datetime.datetime.strptime(datatable.meta['DATE-OBS'], \"%y%m%d_%H%M%S\")\n",
    "location = coordinates.EarthLocation.from_geodetic(obslon, obslat, 100*u.m)\n",
    "\"\"\"\n",
    "# if you wanted to use this code, you'd remove the \"\"\"'s"
   ]
  },
  {
   "cell_type": "markdown",
   "metadata": {},
   "source": [
    "# Observer / Observation Setup"
   ]
  },
  {
   "cell_type": "code",
   "execution_count": 4,
   "metadata": {},
   "outputs": [
    {
     "data": {
      "text/plain": [
       "(<SkyCoord (AltAz: obstime=2020-10-07 00:50:13, location=(743674.13504561, -5500332.52750589, 3131946.80724394) m, pressure=0.0 hPa, temperature=0.0 deg_C, relative_humidity=0.0, obswl=1.0 micron): (az, alt) in deg\n",
       "     (220., 48.)>,\n",
       " <SkyCoord (Galactic): (l, b) in deg\n",
       "     (27.85023626, -0.02210464)>)"
      ]
     },
     "execution_count": 4,
     "metadata": {},
     "output_type": "execute_result"
    }
   ],
   "source": [
    "# instead of using the \"real data\" from the previous cell, we're going to make up the data\n",
    "# You can't do this in the lab!  This is just to show you how the code works\n",
    "gainesville_location = coordinates.EarthLocation.from_geodetic(lon=-82.3*u.deg, lat=29.6*u.deg, height=100*u.m)\n",
    "observer = Observer(gainesville_location, timezone='US/Eastern')\n",
    "\n",
    "# we're using a made-up time\n",
    "obs_time_notz = datetime.datetime(year=2020, month=10, day=6, hour=20, minute=50, second=13)\n",
    "obs_time = tz.localize(obs_time_notz)\n",
    "\n",
    "# we're using a made-up pointing direction\n",
    "alt = 48*u.deg\n",
    "az = 220*u.deg\n",
    "target_altaz = coordinates.SkyCoord(alt=alt,\n",
    "                                    az=az,\n",
    "                                    location=observer.location,\n",
    "                                    obstime=obs_time, frame='altaz')\n",
    "\n",
    "# we want the coordinate in both altaz and galactic\n",
    "target_galactic = target_altaz.galactic\n",
    "\n",
    "target_altaz, target_galactic"
   ]
  },
  {
   "cell_type": "markdown",
   "metadata": {
    "slideshow": {
     "slide_type": "fragment"
    }
   },
   "source": [
    "# Radial Velocity Correction\n",
    "\n",
    "We want to calculate the `radial_velocity_correction`, which transforms from \"topocentric\" (relative toour position on the surface of the Earth) to \"barycentric\" (relative to the center-of-mass of the solar system)"
   ]
  },
  {
   "cell_type": "code",
   "execution_count": 5,
   "metadata": {
    "slideshow": {
     "slide_type": "slide"
    }
   },
   "outputs": [
    {
     "data": {
      "text/latex": [
       "$-28357.686 \\; \\mathrm{\\frac{m}{s}}$"
      ],
      "text/plain": [
       "<Quantity -28357.68568709 m / s>"
      ]
     },
     "execution_count": 5,
     "metadata": {},
     "output_type": "execute_result"
    }
   ],
   "source": [
    "# our velocity in the direction of the target\n",
    "target_galactic.radial_velocity_correction()"
   ]
  },
  {
   "cell_type": "markdown",
   "metadata": {},
   "source": [
    "This is how fast we (on the surface of Earth) are moving in this direction relative to the solar system's barycenter."
   ]
  },
  {
   "cell_type": "code",
   "execution_count": 6,
   "metadata": {},
   "outputs": [
    {
     "data": {
      "text/plain": [
       "(<SkyCoord (ICRS): (ra, dec) in deg\n",
       "     (280.55720533, -4.5315173)>,\n",
       " <SkyCoord (Galactic): (l, b) in deg\n",
       "     (27.85023626, -0.02210464)>)"
      ]
     },
     "execution_count": 6,
     "metadata": {},
     "output_type": "execute_result"
    }
   ],
   "source": [
    "# What direction were we looking in?\n",
    "# We can check this in both RA/Dec (ICRS) and Galactic\n",
    "target_galactic.icrs, target_galactic.galactic"
   ]
  },
  {
   "cell_type": "markdown",
   "metadata": {},
   "source": [
    "# Velocity Measurement -> Barycentric Conversion"
   ]
  },
  {
   "cell_type": "markdown",
   "metadata": {
    "slideshow": {
     "slide_type": "slide"
    }
   },
   "source": [
    "In the lecture, at this stage, I re-fit a spectral line.  We'll skip that now and use a made up line-of-sight velocity."
   ]
  },
  {
   "cell_type": "code",
   "execution_count": 7,
   "metadata": {},
   "outputs": [],
   "source": [
    "# this is our made-up line-of-sight velocity\n",
    "# you will measure this from your data by fitting a Gaussian profile to the observed spectrum\n",
    "# this observed velocity is in the *topocentric* frame\n",
    "observed_line_of_sight_velocity = 30*u.km/u.s"
   ]
  },
  {
   "cell_type": "markdown",
   "metadata": {
    "slideshow": {
     "slide_type": "slide"
    }
   },
   "source": [
    "To convert to *barycentric* coordinates, we use the `radial_velocity_correction` we calculated:"
   ]
  },
  {
   "cell_type": "code",
   "execution_count": 8,
   "metadata": {
    "slideshow": {
     "slide_type": "-"
    }
   },
   "outputs": [
    {
     "data": {
      "text/latex": [
       "$1.6423143 \\; \\mathrm{\\frac{km}{s}}$"
      ],
      "text/plain": [
       "<Quantity 1.64231431 km / s>"
      ]
     },
     "execution_count": 8,
     "metadata": {},
     "output_type": "execute_result"
    }
   ],
   "source": [
    "velocity_bary = observed_line_of_sight_velocity + target_galactic.radial_velocity_correction()\n",
    "velocity_bary"
   ]
  },
  {
   "cell_type": "markdown",
   "metadata": {},
   "source": [
    "# Convert to LSR coordinates"
   ]
  },
  {
   "cell_type": "markdown",
   "metadata": {
    "slideshow": {
     "slide_type": "slide"
    }
   },
   "source": [
    "The sun isn't moving much relative to nearby stars.\n",
    "\n",
    "We call the motion of our local region the \"Local Standard of Rest\" (LSR).\n",
    "\n",
    "We need to measure the velocity in the LSR frame, otherwise we get a biased measurement of the Galactic rotation."
   ]
  },
  {
   "cell_type": "code",
   "execution_count": 9,
   "metadata": {
    "slideshow": {
     "slide_type": "fragment"
    }
   },
   "outputs": [
    {
     "data": {
      "text/plain": [
       "<SkyCoord (ICRS): (ra, dec, distance) in (deg, deg, pc)\n",
       "    (280.55720533, -4.5315173, 1.)\n",
       " (pm_ra_cosdec, pm_dec, radial_velocity) in (mas / yr, mas / yr, km / s)\n",
       "    (0., 0., 1.64231431)>"
      ]
     },
     "execution_count": 9,
     "metadata": {},
     "output_type": "execute_result"
    }
   ],
   "source": [
    "# we need to add velocity information to our SkyCoord\n",
    "# because of an astropy bug, we have to add on some \"dummy\" values - the pm_ra_cosdec, pm_dec, and distance\n",
    "# don't worry about these numbers, just use exactly what we put here\n",
    "# otherwise, though, the target_altaz & velocity_bary variables are things you should define yourself\n",
    "# Note that the velocity should be the barycentric velocity here!\n",
    "skycoord_withvel = coordinates.SkyCoord(ra=target_altaz.icrs.ra, dec=target_altaz.icrs.dec,\n",
    "                                        radial_velocity=velocity_bary,\n",
    "                                        pm_ra_cosdec=0*u.arcmin/u.yr, pm_dec=0*u.arcmin/u.yr, distance=1*u.pc,\n",
    "                                        frame='icrs')\n",
    "skycoord_withvel"
   ]
  },
  {
   "cell_type": "markdown",
   "metadata": {},
   "source": [
    "Once we have a sky coordinate with velocity attached - and that velocity is barycentric - we can determine what the LSR velocity is by \"transforming\" to the LSR frame:"
   ]
  },
  {
   "cell_type": "code",
   "execution_count": 10,
   "metadata": {
    "slideshow": {
     "slide_type": "-"
    }
   },
   "outputs": [
    {
     "data": {
      "text/latex": [
       "$17.171886 \\; \\mathrm{\\frac{km}{s}}$"
      ],
      "text/plain": [
       "<Quantity 17.17188563 km / s>"
      ]
     },
     "execution_count": 10,
     "metadata": {},
     "output_type": "execute_result"
    }
   ],
   "source": [
    "# we take the skycoord_withvel defined in the previous cell and \"transform\" it to LSR\n",
    "# note that the skyframe was in the ICRS frame - this is important, since the frames\n",
    "# all move with respect to one another\n",
    "lsrcoord = skycoord_withvel.transform_to(coordinates.LSR)\n",
    "lsrcoord.radial_velocity"
   ]
  },
  {
   "cell_type": "markdown",
   "metadata": {},
   "source": [
    "# Galactocentric Radius of the Tangent Point"
   ]
  },
  {
   "cell_type": "markdown",
   "metadata": {
    "slideshow": {
     "slide_type": "slide"
    }
   },
   "source": [
    "We'll use \"LSR\" coordinates to calculate the rotation curve of the Galaxy."
   ]
  },
  {
   "cell_type": "code",
   "execution_count": 11,
   "metadata": {
    "slideshow": {
     "slide_type": "slide"
    }
   },
   "outputs": [],
   "source": [
    "# r0 is the distance between the sun and the Galactic center;\n",
    "# it's somewhere between 8 and 8.5 kpc,\n",
    "# but the IAU-recommended number is still 8.5 kpc\n",
    "r0 = 8.5*u.kpc"
   ]
  },
  {
   "cell_type": "markdown",
   "metadata": {},
   "source": [
    "Most of the gas you see when looking at the inner galaxy is \"stacked up\" at the tangent point, as illustrated below."
   ]
  },
  {
   "cell_type": "code",
   "execution_count": 12,
   "metadata": {
    "scrolled": true,
    "slideshow": {
     "slide_type": "slide"
    }
   },
   "outputs": [
    {
     "ename": "FileNotFoundError",
     "evalue": "No such file or directory: 'mw_tangentpoint_geometry.png'",
     "output_type": "error",
     "traceback": [
      "\u001b[1;31m---------------------------------------------------------------------------\u001b[0m",
      "\u001b[1;31mTypeError\u001b[0m                                 Traceback (most recent call last)",
      "\u001b[1;32mC:\\ProgramData\\Anaconda3\\lib\\site-packages\\IPython\\core\\display.py\u001b[0m in \u001b[0;36m_data_and_metadata\u001b[1;34m(self, always_both)\u001b[0m\n\u001b[0;32m   1292\u001b[0m         \u001b[1;32mtry\u001b[0m\u001b[1;33m:\u001b[0m\u001b[1;33m\u001b[0m\u001b[1;33m\u001b[0m\u001b[0m\n\u001b[1;32m-> 1293\u001b[1;33m             \u001b[0mb64_data\u001b[0m \u001b[1;33m=\u001b[0m \u001b[0mb2a_base64\u001b[0m\u001b[1;33m(\u001b[0m\u001b[0mself\u001b[0m\u001b[1;33m.\u001b[0m\u001b[0mdata\u001b[0m\u001b[1;33m)\u001b[0m\u001b[1;33m.\u001b[0m\u001b[0mdecode\u001b[0m\u001b[1;33m(\u001b[0m\u001b[1;34m'ascii'\u001b[0m\u001b[1;33m)\u001b[0m\u001b[1;33m\u001b[0m\u001b[1;33m\u001b[0m\u001b[0m\n\u001b[0m\u001b[0;32m   1294\u001b[0m         \u001b[1;32mexcept\u001b[0m \u001b[0mTypeError\u001b[0m\u001b[1;33m:\u001b[0m\u001b[1;33m\u001b[0m\u001b[1;33m\u001b[0m\u001b[0m\n",
      "\u001b[1;31mTypeError\u001b[0m: a bytes-like object is required, not 'str'",
      "\nDuring handling of the above exception, another exception occurred:\n",
      "\u001b[1;31mFileNotFoundError\u001b[0m                         Traceback (most recent call last)",
      "\u001b[1;32mC:\\ProgramData\\Anaconda3\\lib\\site-packages\\IPython\\core\\formatters.py\u001b[0m in \u001b[0;36m__call__\u001b[1;34m(self, obj, include, exclude)\u001b[0m\n\u001b[0;32m    968\u001b[0m \u001b[1;33m\u001b[0m\u001b[0m\n\u001b[0;32m    969\u001b[0m             \u001b[1;32mif\u001b[0m \u001b[0mmethod\u001b[0m \u001b[1;32mis\u001b[0m \u001b[1;32mnot\u001b[0m \u001b[1;32mNone\u001b[0m\u001b[1;33m:\u001b[0m\u001b[1;33m\u001b[0m\u001b[1;33m\u001b[0m\u001b[0m\n\u001b[1;32m--> 970\u001b[1;33m                 \u001b[1;32mreturn\u001b[0m \u001b[0mmethod\u001b[0m\u001b[1;33m(\u001b[0m\u001b[0minclude\u001b[0m\u001b[1;33m=\u001b[0m\u001b[0minclude\u001b[0m\u001b[1;33m,\u001b[0m \u001b[0mexclude\u001b[0m\u001b[1;33m=\u001b[0m\u001b[0mexclude\u001b[0m\u001b[1;33m)\u001b[0m\u001b[1;33m\u001b[0m\u001b[1;33m\u001b[0m\u001b[0m\n\u001b[0m\u001b[0;32m    971\u001b[0m             \u001b[1;32mreturn\u001b[0m \u001b[1;32mNone\u001b[0m\u001b[1;33m\u001b[0m\u001b[1;33m\u001b[0m\u001b[0m\n\u001b[0;32m    972\u001b[0m         \u001b[1;32melse\u001b[0m\u001b[1;33m:\u001b[0m\u001b[1;33m\u001b[0m\u001b[1;33m\u001b[0m\u001b[0m\n",
      "\u001b[1;32mC:\\ProgramData\\Anaconda3\\lib\\site-packages\\IPython\\core\\display.py\u001b[0m in \u001b[0;36m_repr_mimebundle_\u001b[1;34m(self, include, exclude)\u001b[0m\n\u001b[0;32m   1281\u001b[0m         \u001b[1;32mif\u001b[0m \u001b[0mself\u001b[0m\u001b[1;33m.\u001b[0m\u001b[0membed\u001b[0m\u001b[1;33m:\u001b[0m\u001b[1;33m\u001b[0m\u001b[1;33m\u001b[0m\u001b[0m\n\u001b[0;32m   1282\u001b[0m             \u001b[0mmimetype\u001b[0m \u001b[1;33m=\u001b[0m \u001b[0mself\u001b[0m\u001b[1;33m.\u001b[0m\u001b[0m_mimetype\u001b[0m\u001b[1;33m\u001b[0m\u001b[1;33m\u001b[0m\u001b[0m\n\u001b[1;32m-> 1283\u001b[1;33m             \u001b[0mdata\u001b[0m\u001b[1;33m,\u001b[0m \u001b[0mmetadata\u001b[0m \u001b[1;33m=\u001b[0m \u001b[0mself\u001b[0m\u001b[1;33m.\u001b[0m\u001b[0m_data_and_metadata\u001b[0m\u001b[1;33m(\u001b[0m\u001b[0malways_both\u001b[0m\u001b[1;33m=\u001b[0m\u001b[1;32mTrue\u001b[0m\u001b[1;33m)\u001b[0m\u001b[1;33m\u001b[0m\u001b[1;33m\u001b[0m\u001b[0m\n\u001b[0m\u001b[0;32m   1284\u001b[0m             \u001b[1;32mif\u001b[0m \u001b[0mmetadata\u001b[0m\u001b[1;33m:\u001b[0m\u001b[1;33m\u001b[0m\u001b[1;33m\u001b[0m\u001b[0m\n\u001b[0;32m   1285\u001b[0m                 \u001b[0mmetadata\u001b[0m \u001b[1;33m=\u001b[0m \u001b[1;33m{\u001b[0m\u001b[0mmimetype\u001b[0m\u001b[1;33m:\u001b[0m \u001b[0mmetadata\u001b[0m\u001b[1;33m}\u001b[0m\u001b[1;33m\u001b[0m\u001b[1;33m\u001b[0m\u001b[0m\n",
      "\u001b[1;32mC:\\ProgramData\\Anaconda3\\lib\\site-packages\\IPython\\core\\display.py\u001b[0m in \u001b[0;36m_data_and_metadata\u001b[1;34m(self, always_both)\u001b[0m\n\u001b[0;32m   1293\u001b[0m             \u001b[0mb64_data\u001b[0m \u001b[1;33m=\u001b[0m \u001b[0mb2a_base64\u001b[0m\u001b[1;33m(\u001b[0m\u001b[0mself\u001b[0m\u001b[1;33m.\u001b[0m\u001b[0mdata\u001b[0m\u001b[1;33m)\u001b[0m\u001b[1;33m.\u001b[0m\u001b[0mdecode\u001b[0m\u001b[1;33m(\u001b[0m\u001b[1;34m'ascii'\u001b[0m\u001b[1;33m)\u001b[0m\u001b[1;33m\u001b[0m\u001b[1;33m\u001b[0m\u001b[0m\n\u001b[0;32m   1294\u001b[0m         \u001b[1;32mexcept\u001b[0m \u001b[0mTypeError\u001b[0m\u001b[1;33m:\u001b[0m\u001b[1;33m\u001b[0m\u001b[1;33m\u001b[0m\u001b[0m\n\u001b[1;32m-> 1295\u001b[1;33m             raise FileNotFoundError(\n\u001b[0m\u001b[0;32m   1296\u001b[0m                 \"No such file or directory: '%s'\" % (self.data))\n\u001b[0;32m   1297\u001b[0m         \u001b[0mmd\u001b[0m \u001b[1;33m=\u001b[0m \u001b[1;33m{\u001b[0m\u001b[1;33m}\u001b[0m\u001b[1;33m\u001b[0m\u001b[1;33m\u001b[0m\u001b[0m\n",
      "\u001b[1;31mFileNotFoundError\u001b[0m: No such file or directory: 'mw_tangentpoint_geometry.png'"
     ]
    },
    {
     "ename": "FileNotFoundError",
     "evalue": "No such file or directory: 'mw_tangentpoint_geometry.png'",
     "output_type": "error",
     "traceback": [
      "\u001b[1;31m---------------------------------------------------------------------------\u001b[0m",
      "\u001b[1;31mTypeError\u001b[0m                                 Traceback (most recent call last)",
      "\u001b[1;32mC:\\ProgramData\\Anaconda3\\lib\\site-packages\\IPython\\core\\display.py\u001b[0m in \u001b[0;36m_data_and_metadata\u001b[1;34m(self, always_both)\u001b[0m\n\u001b[0;32m   1292\u001b[0m         \u001b[1;32mtry\u001b[0m\u001b[1;33m:\u001b[0m\u001b[1;33m\u001b[0m\u001b[1;33m\u001b[0m\u001b[0m\n\u001b[1;32m-> 1293\u001b[1;33m             \u001b[0mb64_data\u001b[0m \u001b[1;33m=\u001b[0m \u001b[0mb2a_base64\u001b[0m\u001b[1;33m(\u001b[0m\u001b[0mself\u001b[0m\u001b[1;33m.\u001b[0m\u001b[0mdata\u001b[0m\u001b[1;33m)\u001b[0m\u001b[1;33m.\u001b[0m\u001b[0mdecode\u001b[0m\u001b[1;33m(\u001b[0m\u001b[1;34m'ascii'\u001b[0m\u001b[1;33m)\u001b[0m\u001b[1;33m\u001b[0m\u001b[1;33m\u001b[0m\u001b[0m\n\u001b[0m\u001b[0;32m   1294\u001b[0m         \u001b[1;32mexcept\u001b[0m \u001b[0mTypeError\u001b[0m\u001b[1;33m:\u001b[0m\u001b[1;33m\u001b[0m\u001b[1;33m\u001b[0m\u001b[0m\n",
      "\u001b[1;31mTypeError\u001b[0m: a bytes-like object is required, not 'str'",
      "\nDuring handling of the above exception, another exception occurred:\n",
      "\u001b[1;31mFileNotFoundError\u001b[0m                         Traceback (most recent call last)",
      "\u001b[1;32mC:\\ProgramData\\Anaconda3\\lib\\site-packages\\IPython\\core\\formatters.py\u001b[0m in \u001b[0;36m__call__\u001b[1;34m(self, obj)\u001b[0m\n\u001b[0;32m    343\u001b[0m             \u001b[0mmethod\u001b[0m \u001b[1;33m=\u001b[0m \u001b[0mget_real_method\u001b[0m\u001b[1;33m(\u001b[0m\u001b[0mobj\u001b[0m\u001b[1;33m,\u001b[0m \u001b[0mself\u001b[0m\u001b[1;33m.\u001b[0m\u001b[0mprint_method\u001b[0m\u001b[1;33m)\u001b[0m\u001b[1;33m\u001b[0m\u001b[1;33m\u001b[0m\u001b[0m\n\u001b[0;32m    344\u001b[0m             \u001b[1;32mif\u001b[0m \u001b[0mmethod\u001b[0m \u001b[1;32mis\u001b[0m \u001b[1;32mnot\u001b[0m \u001b[1;32mNone\u001b[0m\u001b[1;33m:\u001b[0m\u001b[1;33m\u001b[0m\u001b[1;33m\u001b[0m\u001b[0m\n\u001b[1;32m--> 345\u001b[1;33m                 \u001b[1;32mreturn\u001b[0m \u001b[0mmethod\u001b[0m\u001b[1;33m(\u001b[0m\u001b[1;33m)\u001b[0m\u001b[1;33m\u001b[0m\u001b[1;33m\u001b[0m\u001b[0m\n\u001b[0m\u001b[0;32m    346\u001b[0m             \u001b[1;32mreturn\u001b[0m \u001b[1;32mNone\u001b[0m\u001b[1;33m\u001b[0m\u001b[1;33m\u001b[0m\u001b[0m\n\u001b[0;32m    347\u001b[0m         \u001b[1;32melse\u001b[0m\u001b[1;33m:\u001b[0m\u001b[1;33m\u001b[0m\u001b[1;33m\u001b[0m\u001b[0m\n",
      "\u001b[1;32mC:\\ProgramData\\Anaconda3\\lib\\site-packages\\IPython\\core\\display.py\u001b[0m in \u001b[0;36m_repr_png_\u001b[1;34m(self)\u001b[0m\n\u001b[0;32m   1311\u001b[0m     \u001b[1;32mdef\u001b[0m \u001b[0m_repr_png_\u001b[0m\u001b[1;33m(\u001b[0m\u001b[0mself\u001b[0m\u001b[1;33m)\u001b[0m\u001b[1;33m:\u001b[0m\u001b[1;33m\u001b[0m\u001b[1;33m\u001b[0m\u001b[0m\n\u001b[0;32m   1312\u001b[0m         \u001b[1;32mif\u001b[0m \u001b[0mself\u001b[0m\u001b[1;33m.\u001b[0m\u001b[0membed\u001b[0m \u001b[1;32mand\u001b[0m \u001b[0mself\u001b[0m\u001b[1;33m.\u001b[0m\u001b[0mformat\u001b[0m \u001b[1;33m==\u001b[0m \u001b[0mself\u001b[0m\u001b[1;33m.\u001b[0m\u001b[0m_FMT_PNG\u001b[0m\u001b[1;33m:\u001b[0m\u001b[1;33m\u001b[0m\u001b[1;33m\u001b[0m\u001b[0m\n\u001b[1;32m-> 1313\u001b[1;33m             \u001b[1;32mreturn\u001b[0m \u001b[0mself\u001b[0m\u001b[1;33m.\u001b[0m\u001b[0m_data_and_metadata\u001b[0m\u001b[1;33m(\u001b[0m\u001b[1;33m)\u001b[0m\u001b[1;33m\u001b[0m\u001b[1;33m\u001b[0m\u001b[0m\n\u001b[0m\u001b[0;32m   1314\u001b[0m \u001b[1;33m\u001b[0m\u001b[0m\n\u001b[0;32m   1315\u001b[0m     \u001b[1;32mdef\u001b[0m \u001b[0m_repr_jpeg_\u001b[0m\u001b[1;33m(\u001b[0m\u001b[0mself\u001b[0m\u001b[1;33m)\u001b[0m\u001b[1;33m:\u001b[0m\u001b[1;33m\u001b[0m\u001b[1;33m\u001b[0m\u001b[0m\n",
      "\u001b[1;32mC:\\ProgramData\\Anaconda3\\lib\\site-packages\\IPython\\core\\display.py\u001b[0m in \u001b[0;36m_data_and_metadata\u001b[1;34m(self, always_both)\u001b[0m\n\u001b[0;32m   1293\u001b[0m             \u001b[0mb64_data\u001b[0m \u001b[1;33m=\u001b[0m \u001b[0mb2a_base64\u001b[0m\u001b[1;33m(\u001b[0m\u001b[0mself\u001b[0m\u001b[1;33m.\u001b[0m\u001b[0mdata\u001b[0m\u001b[1;33m)\u001b[0m\u001b[1;33m.\u001b[0m\u001b[0mdecode\u001b[0m\u001b[1;33m(\u001b[0m\u001b[1;34m'ascii'\u001b[0m\u001b[1;33m)\u001b[0m\u001b[1;33m\u001b[0m\u001b[1;33m\u001b[0m\u001b[0m\n\u001b[0;32m   1294\u001b[0m         \u001b[1;32mexcept\u001b[0m \u001b[0mTypeError\u001b[0m\u001b[1;33m:\u001b[0m\u001b[1;33m\u001b[0m\u001b[1;33m\u001b[0m\u001b[0m\n\u001b[1;32m-> 1295\u001b[1;33m             raise FileNotFoundError(\n\u001b[0m\u001b[0;32m   1296\u001b[0m                 \"No such file or directory: '%s'\" % (self.data))\n\u001b[0;32m   1297\u001b[0m         \u001b[0mmd\u001b[0m \u001b[1;33m=\u001b[0m \u001b[1;33m{\u001b[0m\u001b[1;33m}\u001b[0m\u001b[1;33m\u001b[0m\u001b[1;33m\u001b[0m\u001b[0m\n",
      "\u001b[1;31mFileNotFoundError\u001b[0m: No such file or directory: 'mw_tangentpoint_geometry.png'"
     ]
    },
    {
     "data": {
      "text/plain": [
       "<IPython.core.display.Image object>"
      ]
     },
     "execution_count": 12,
     "metadata": {},
     "output_type": "execute_result"
    }
   ],
   "source": [
    "# don't run this cell unless you have the file mw_tangentpoint_geometry.png in your current directory\n",
    "# (it will crash and then you won't have the diagram any more)\n",
    "from IPython.display import Image\n",
    "Image(\"mw_tangentpoint_geometry.png\")"
   ]
  },
  {
   "cell_type": "markdown",
   "metadata": {
    "slideshow": {
     "slide_type": "slide"
    }
   },
   "source": [
    "The tangent point geometry tells you what Galactocentric distance you're observing.\n",
    "\n",
    "For example, for $\\ell=30$, $r_0=8.5$ kpc, $r_{gal} = \\sin(\\ell) r_0 = 4.25$ kpc."
   ]
  },
  {
   "cell_type": "markdown",
   "metadata": {
    "slideshow": {
     "slide_type": "fragment"
    }
   },
   "source": [
    "The velocity we observe is the circular velocity, $v_{orb}$, minus the sun's velocity projected in that direction.\n",
    "\n",
    "However, the LSR is \"at rest\" with respect to the galaxy (to the best of our ability to measure it), so we've already subtracted that."
   ]
  },
  {
   "cell_type": "markdown",
   "metadata": {},
   "source": [
    "# Orbital Velocity to Mass: Overview"
   ]
  },
  {
   "cell_type": "markdown",
   "metadata": {
    "slideshow": {
     "slide_type": "slide"
    }
   },
   "source": [
    "Recall that the orbital velocity of a body in a gravitational potential only depends on the mass interior to that body.\n",
    "\n",
    "$$v_{orb} = \\sqrt{\\frac{G M}{R}}$$\n",
    "\n",
    "If we can measure $v_{orb}$, and we know what $R$ we're observing, we can infer the contained mass, $M$.\n",
    "\n",
    "$$M = \\frac{R_{gal} v_{orb}^2}{G}$$"
   ]
  },
  {
   "cell_type": "markdown",
   "metadata": {},
   "source": [
    "What mass do we infer?"
   ]
  },
  {
   "cell_type": "code",
   "execution_count": 13,
   "metadata": {},
   "outputs": [
    {
     "data": {
      "text/latex": [
       "$27^\\circ51{}^\\prime00.8505193{}^{\\prime\\prime}$"
      ],
      "text/plain": [
       "<Longitude 27.85023626 deg>"
      ]
     },
     "execution_count": 13,
     "metadata": {},
     "output_type": "execute_result"
    }
   ],
   "source": [
    "# our longitude comes from the target we pointed at:\n",
    "target_galactic.l"
   ]
  },
  {
   "cell_type": "code",
   "execution_count": 14,
   "metadata": {},
   "outputs": [
    {
     "data": {
      "text/latex": [
       "$-0^\\circ01{}^\\prime19.57670739{}^{\\prime\\prime}$"
      ],
      "text/plain": [
       "<Latitude -0.02210464 deg>"
      ]
     },
     "execution_count": 14,
     "metadata": {},
     "output_type": "execute_result"
    }
   ],
   "source": [
    "# it's in the midplane because b is about zero\n",
    "# (if this number's not close to zero, you're not looking at the Galactic plane!)\n",
    "target_galactic.b"
   ]
  },
  {
   "cell_type": "markdown",
   "metadata": {},
   "source": [
    "# Galactic Longitude to Galactocentric Radius\n",
    "\n",
    "What is $R_{gal}$?  $R_{gal} = \\sin\\ell \\times r_0$:"
   ]
  },
  {
   "cell_type": "code",
   "execution_count": 16,
   "metadata": {},
   "outputs": [
    {
     "data": {
      "text/latex": [
       "$3.9708774 \\; \\mathrm{kpc}$"
      ],
      "text/plain": [
       "<Quantity 3.97087743 kpc>"
      ]
     },
     "execution_count": 16,
     "metadata": {},
     "output_type": "execute_result"
    }
   ],
   "source": [
    "# calculate rgal, the distance from the galactic center to the tangent point along our target line-of-sight\n",
    "import numpy as np\n",
    "rgal = np.sin(target_galactic.l) * r0\n",
    "rgal"
   ]
  },
  {
   "cell_type": "markdown",
   "metadata": {
    "slideshow": {
     "slide_type": "slide"
    }
   },
   "source": [
    "Our LSR velocity is the velocity we want to measure, so to get mass, we just put in:\n",
    "\n",
    "$$ M = \\frac{R_{gal} v^2}{G} $$"
   ]
  },
  {
   "cell_type": "code",
   "execution_count": 17,
   "metadata": {},
   "outputs": [],
   "source": [
    "# we'll put the observed radial velocity into its own variable, but we calculated it already above\n",
    "vlsr = lsrcoord.radial_velocity"
   ]
  },
  {
   "cell_type": "markdown",
   "metadata": {},
   "source": [
    "# Orbital Velocity + Galactocentric Radius -> Mass"
   ]
  },
  {
   "cell_type": "code",
   "execution_count": 18,
   "metadata": {},
   "outputs": [
    {
     "data": {
      "text/latex": [
       "$1.754352 \\times 10^{13} \\; \\mathrm{\\frac{km^{2}\\,kg\\,kpc}{m^{3}}}$"
      ],
      "text/plain": [
       "<Quantity 1.75435199e+13 kg km2 kpc / m3>"
      ]
     },
     "execution_count": 18,
     "metadata": {},
     "output_type": "execute_result"
    }
   ],
   "source": [
    "# calculate the mass\n",
    "mass = rgal * vlsr**2 / constants.G\n",
    "mass"
   ]
  },
  {
   "cell_type": "markdown",
   "metadata": {},
   "source": [
    "That mass is in not-very-useful units.  Convert it to Solar Masses:"
   ]
  },
  {
   "cell_type": "code",
   "execution_count": 19,
   "metadata": {},
   "outputs": [
    {
     "data": {
      "text/latex": [
       "$2.7224591 \\times 10^{8} \\; \\mathrm{M_{\\odot}}$"
      ],
      "text/plain": [
       "<Quantity 2.72245913e+08 solMass>"
      ]
     },
     "execution_count": 19,
     "metadata": {},
     "output_type": "execute_result"
    }
   ],
   "source": [
    "mass.to(u.M_sun)"
   ]
  },
  {
   "cell_type": "markdown",
   "metadata": {},
   "source": [
    "So if we had done this observation, we would infer that the mass of the Galaxy within a radius of $r_{gal} = 4$ kpc is about $3\\times10^8$ M$_\\odot$.   Because the numbers above are made up, though, don't trust this measurement!"
   ]
  },
  {
   "cell_type": "markdown",
   "metadata": {},
   "source": [
    "# Exercise step\n",
    "\n",
    "Repeat the above for an observation with the following properties:\n",
    "\n",
    "\n",
    "altitude = 58$^\\circ$\n",
    "\n",
    "azimuth = 220$^\\circ$\n",
    "\n",
    "observation time: October 6, 2020 at 20:44:35\n",
    "\n",
    "observed velocity: 27 km/s\n"
   ]
  },
  {
   "cell_type": "code",
   "execution_count": 23,
   "metadata": {},
   "outputs": [],
   "source": [
    "# Step 1: Create your observer object\n",
    "# (you can reuse the same observer)\n",
    "# instead of using the \"real data\" from the previous cell, we're going to make up the data\n",
    "# You can't do this in the lab!  This is just to show you how the code works\n",
    "observer2_location = coordinates.EarthLocation.from_geodetic(lon=-82.3*u.deg, lat=29.6*u.deg, height=100*u.m)\n",
    "observer2 = Observer(observer2_location, timezone='US/Eastern')"
   ]
  },
  {
   "cell_type": "code",
   "execution_count": 24,
   "metadata": {},
   "outputs": [],
   "source": [
    "# Step 2: Create the assigned \"datetime\" object\n",
    "# Remember to localize it with the pytz localize tool, otherwise it will be in the wrong time zone!\n",
    "obs_time_notz2 = datetime.datetime(year=2020, month=10, day=6, hour=20, minute=44, second=35)\n",
    "obs_time2 = tz.localize(obs_time_notz)"
   ]
  },
  {
   "cell_type": "code",
   "execution_count": 25,
   "metadata": {},
   "outputs": [],
   "source": [
    "# Step 3: Create the target Alt/Az coordinate object\n",
    "alt2 = 58*u.deg\n",
    "az2 = 220*u.deg\n",
    "target_altaz2 = coordinates.SkyCoord(alt=alt2,\n",
    "                                    az=az2,\n",
    "                                    location=observer2.location,\n",
    "                                    obstime=obs_time2, frame='altaz')"
   ]
  },
  {
   "cell_type": "code",
   "execution_count": 26,
   "metadata": {},
   "outputs": [],
   "source": [
    "# Step 4: convert the target altaz to galactic\n",
    "target_galactic2 = target_altaz2.galactic"
   ]
  },
  {
   "cell_type": "code",
   "execution_count": 27,
   "metadata": {},
   "outputs": [],
   "source": [
    "# Step 5: Create your topocentric velocity variable\n",
    "observed_line_of_sight_velocity2 = 27*u.km/u.s"
   ]
  },
  {
   "cell_type": "code",
   "execution_count": 28,
   "metadata": {},
   "outputs": [
    {
     "data": {
      "text/latex": [
       "$0.17213266 \\; \\mathrm{\\frac{km}{s}}$"
      ],
      "text/plain": [
       "<Quantity 0.17213266 km / s>"
      ]
     },
     "execution_count": 28,
     "metadata": {},
     "output_type": "execute_result"
    }
   ],
   "source": [
    "# Step 6: Convert from topocentric to barycentric\n",
    "velocity_bary2 = observed_line_of_sight_velocity2 + target_galactic2.radial_velocity_correction()\n",
    "velocity_bary2"
   ]
  },
  {
   "cell_type": "code",
   "execution_count": 29,
   "metadata": {},
   "outputs": [
    {
     "data": {
      "text/plain": [
       "<SkyCoord (ICRS): (ra, dec, distance) in (deg, deg, pc)\n",
       "    (286.17169258, 3.74588686, 1.)\n",
       " (pm_ra_cosdec, pm_dec, radial_velocity) in (mas / yr, mas / yr, km / s)\n",
       "    (0., 0., 0.17213266)>"
      ]
     },
     "execution_count": 29,
     "metadata": {},
     "output_type": "execute_result"
    }
   ],
   "source": [
    "# Step 7: Convert from barycentric to LSR\n",
    "# (you'll need to do the special steps noted above - you need \"dummy\" proper motion, distance)\n",
    "skycoord_withvel2 = coordinates.SkyCoord(ra=target_altaz2.icrs.ra, dec=target_altaz2.icrs.dec,\n",
    "                                        radial_velocity=velocity_bary2,\n",
    "                                        pm_ra_cosdec=0*u.arcmin/u.yr, pm_dec=0*u.arcmin/u.yr, distance=1*u.pc,\n",
    "                                        frame='icrs')\n",
    "skycoord_withvel2"
   ]
  },
  {
   "cell_type": "code",
   "execution_count": 30,
   "metadata": {},
   "outputs": [
    {
     "data": {
      "text/latex": [
       "$16.283863 \\; \\mathrm{\\frac{km}{s}}$"
      ],
      "text/plain": [
       "<Quantity 16.28386326 km / s>"
      ]
     },
     "execution_count": 30,
     "metadata": {},
     "output_type": "execute_result"
    }
   ],
   "source": [
    "lsrcoord2 = skycoord_withvel2.transform_to(coordinates.LSR)\n",
    "lsrcoord2.radial_velocity"
   ]
  },
  {
   "cell_type": "code",
   "execution_count": 31,
   "metadata": {},
   "outputs": [
    {
     "data": {
      "text/latex": [
       "$37^\\circ46{}^\\prime35.35305447{}^{\\prime\\prime}$"
      ],
      "text/plain": [
       "<Longitude 37.77648696 deg>"
      ]
     },
     "execution_count": 31,
     "metadata": {},
     "output_type": "execute_result"
    }
   ],
   "source": [
    "target_galactic2.l"
   ]
  },
  {
   "cell_type": "code",
   "execution_count": 33,
   "metadata": {},
   "outputs": [
    {
     "data": {
      "text/latex": [
       "$-1^\\circ13{}^\\prime59.31733987{}^{\\prime\\prime}$"
      ],
      "text/plain": [
       "<Latitude -1.23314371 deg>"
      ]
     },
     "execution_count": 33,
     "metadata": {},
     "output_type": "execute_result"
    }
   ],
   "source": [
    "target_galactic2.b"
   ]
  },
  {
   "cell_type": "code",
   "execution_count": 34,
   "metadata": {},
   "outputs": [],
   "source": [
    "vlsr2 = lsrcoord2.radial_velocity"
   ]
  },
  {
   "cell_type": "code",
   "execution_count": 35,
   "metadata": {},
   "outputs": [
    {
     "data": {
      "text/latex": [
       "$5.2069533 \\; \\mathrm{kpc}$"
      ],
      "text/plain": [
       "<Quantity 5.20695328 kpc>"
      ]
     },
     "execution_count": 35,
     "metadata": {},
     "output_type": "execute_result"
    }
   ],
   "source": [
    "# Step 8: Compute the Galactocentric radius you're observing\n",
    "# (we are assuming that we're observing the tangent point along our specified line-of-sight)\n",
    "rgal2 = np.sin(target_galactic2.l) * r0\n",
    "rgal2"
   ]
  },
  {
   "cell_type": "code",
   "execution_count": 36,
   "metadata": {},
   "outputs": [],
   "source": [
    "# Step 9: Compute the mass interior to this orbit\n",
    "mass2 = rgal2 * vlsr2**2 / constants.G"
   ]
  },
  {
   "cell_type": "code",
   "execution_count": 37,
   "metadata": {},
   "outputs": [
    {
     "data": {
      "text/latex": [
       "$3.2102399 \\times 10^{8} \\; \\mathrm{M_{\\odot}}$"
      ],
      "text/plain": [
       "<Quantity 3.21023988e+08 solMass>"
      ]
     },
     "execution_count": 37,
     "metadata": {},
     "output_type": "execute_result"
    }
   ],
   "source": [
    "mass2.to(u.M_sun)"
   ]
  }
 ],
 "metadata": {
  "kernelspec": {
   "display_name": "Python 3",
   "language": "python",
   "name": "python3"
  },
  "language_info": {
   "codemirror_mode": {
    "name": "ipython",
    "version": 3
   },
   "file_extension": ".py",
   "mimetype": "text/x-python",
   "name": "python",
   "nbconvert_exporter": "python",
   "pygments_lexer": "ipython3",
   "version": "3.8.5"
  },
  "rise": {
   "transition": "none"
  }
 },
 "nbformat": 4,
 "nbformat_minor": 4
}

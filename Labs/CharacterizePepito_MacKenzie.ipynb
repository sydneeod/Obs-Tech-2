{
 "cells": [
  {
   "cell_type": "markdown",
   "metadata": {},
   "source": [
    "<img src=\"images/pepito_topdown.jpg\">"
   ]
  },
  {
   "cell_type": "code",
   "execution_count": 1,
   "metadata": {},
   "outputs": [],
   "source": [
    "from astropy import units as u"
   ]
  },
  {
   "cell_type": "code",
   "execution_count": 2,
   "metadata": {},
   "outputs": [],
   "source": [
    "import numpy as np"
   ]
  },
  {
   "cell_type": "markdown",
   "metadata": {
    "jp-MarkdownHeadingCollapsed": true,
    "tags": []
   },
   "source": [
    "# Pepito Characterization Exercise & Lab\n",
    "\n",
    "The fiber output from Pepito has 7 spots that each have diameter 100$\\mu$m.  They are separated by less than that, maybe $\\sim10\\mu$m.\n",
    "\n",
    "The expected input is from an f/10 beam, so the first lens is an f/10 collimator.\n",
    "\n",
    "Parallel rays come and hit the diffraction grating, which has 830 lines/mm.  It is about 2cm long.\n",
    "\n",
    "The diffracted light is then focused onto the CCD with an f/10 camera.\n",
    "\n",
    "Assume the camera has focal length 10cm.  (These numbers are largely guesswork!)\n",
    "\n",
    "The SBIG has 9 micron pixels."
   ]
  },
  {
   "cell_type": "markdown",
   "metadata": {},
   "source": [
    "# Fill in the blanks.\n",
    "\n",
    "Questions are asked using\n",
    "\n",
    "## bigger\n",
    "### fonts"
   ]
  },
  {
   "cell_type": "markdown",
   "metadata": {},
   "source": [
    "The angle of the bend in Pepito is _approximately_ 20 degrees.\n",
    "\n",
    "## Using a protractor or other device, what angle do you measure for the whole system?"
   ]
  },
  {
   "cell_type": "code",
   "execution_count": 3,
   "metadata": {},
   "outputs": [],
   "source": [
    "angle = 21"
   ]
  },
  {
   "cell_type": "markdown",
   "metadata": {},
   "source": [
    "The angle of the grating is _supposedly_ 0 degrees with respect to the collimated beam - we'll assume that at the start of this exercise.   But, now's a good time to measure it.\n",
    "\n",
    "## Using the same tool, what is the angle of the grating with respect to the incoming light?\n",
    "\n",
    "(you won't use this until the [redesign](#Redesign-questions) section below"
   ]
  },
  {
   "cell_type": "code",
   "execution_count": 4,
   "metadata": {},
   "outputs": [],
   "source": [
    "grating_angle = 0"
   ]
  },
  {
   "cell_type": "markdown",
   "metadata": {},
   "source": [
    "The information above comes from lab notes and Amanda Townsend's thesis.  We will aim to verify these measurements."
   ]
  },
  {
   "cell_type": "code",
   "execution_count": 5,
   "metadata": {},
   "outputs": [],
   "source": [
    "grooves_per_mm = 830*u.mm**-1\n",
    "pixel_size = 10*u.um\n",
    "f_cam = 10*u.cm"
   ]
  },
  {
   "cell_type": "markdown",
   "metadata": {},
   "source": [
    "### At what angle is the first order for $\\lambda=4000,5000,6000 \\dot{A}$?\n",
    "\n",
    "Recall the grating equation:\n",
    "\n",
    "$$ n \\lambda = D \\sin \\theta $$\n",
    "\n",
    "where\n",
    "\n",
    " * $n$ is the order number and must be an integer\n",
    " * $\\lambda$ is the wavelength\n",
    " * $D$ is the distance between holes (gaps) in the grating\n",
    " * $\\theta$ is the angle defined such that $\\theta=0$ is perpendicular to the grating (or parallel to the direction of the light) \n",
    " "
   ]
  },
  {
   "cell_type": "code",
   "execution_count": 6,
   "metadata": {},
   "outputs": [
    {
     "name": "stdout",
     "output_type": "stream",
     "text": [
      "[400, 500, 600]\n"
     ]
    }
   ],
   "source": [
    "order_number = 1\n",
    "wavelength = [4000,5000,6000]*u.AA\n",
    "# 1 Angstrom = 0.1 nanometers\n",
    "wavelength = [400,500,600]\n",
    "print(wavelength)"
   ]
  },
  {
   "cell_type": "code",
   "execution_count": 7,
   "metadata": {},
   "outputs": [
    {
     "data": {
      "text/latex": [
       "$[28.81138,~37.042671,~46.293732] \\; \\mathrm{{}^{\\circ}}$"
      ],
      "text/plain": [
       "<Quantity [28.81137971, 37.04267093, 46.29373244] deg>"
      ]
     },
     "execution_count": 7,
     "metadata": {},
     "output_type": "execute_result"
    }
   ],
   "source": [
    "theta = []\n",
    "D = 830\n",
    "for n in wavelength:\n",
    "    theta_angle = np.arcsin(n/D)\n",
    "    theta.append(theta_angle)\n",
    "theta = theta*u.rad\n",
    "theta.to(u.deg)"
   ]
  },
  {
   "cell_type": "markdown",
   "metadata": {},
   "source": [
    "### What wavelength is centered assuming the angle is 20 deg?"
   ]
  },
  {
   "cell_type": "code",
   "execution_count": 8,
   "metadata": {},
   "outputs": [
    {
     "data": {
      "text/latex": [
       "$2838.7672 \\; \\mathrm{\\mathring{A}}$"
      ],
      "text/plain": [
       "<Quantity 2838.7671896 Angstrom>"
      ]
     },
     "execution_count": 8,
     "metadata": {},
     "output_type": "execute_result"
    }
   ],
   "source": [
    "degrees = 20*u.deg\n",
    "radians = degrees.to(u.rad)\n",
    "wavelength = D*np.sin(radians)\n",
    "wavelength = wavelength*u.nm\n",
    "wavelength = wavelength.to(u.AA)\n",
    "wavelength"
   ]
  },
  {
   "cell_type": "markdown",
   "metadata": {},
   "source": [
    "### What is the diffraction limited resolution from the grating?\n",
    "\n",
    "Recall $$ \\Delta \\lambda = \\frac{\\lambda}{N n}$$\n",
    "\n",
    "Assuming our slit has 1cm of illuminated area, what is the resolution in terms of both wavelength and $R$?\n",
    "\n",
    "Assume 5000 Angstroms as our central wavelength"
   ]
  },
  {
   "cell_type": "code",
   "execution_count": 9,
   "metadata": {},
   "outputs": [],
   "source": [
    "illumination_size_on_grating = 1*u.cm"
   ]
  },
  {
   "cell_type": "code",
   "execution_count": 10,
   "metadata": {},
   "outputs": [
    {
     "data": {
      "text/latex": [
       "$5 \\times 10^{-5} \\; \\mathrm{}$"
      ],
      "text/plain": [
       "<Quantity 5.e-05>"
      ]
     },
     "execution_count": 10,
     "metadata": {},
     "output_type": "execute_result"
    }
   ],
   "source": [
    "dlambda_diffraction = (5000*u.AA/illumination_size_on_grating.to(u.AA))\n",
    "dlambda_diffraction"
   ]
  },
  {
   "cell_type": "markdown",
   "metadata": {},
   "source": [
    "If this is smaller than our pixel size, we under-sample the diffraction limit.\n",
    "\n",
    "In that case, the pixel size sets our resolution limit, not the grating diffraction limit."
   ]
  },
  {
   "cell_type": "code",
   "execution_count": 11,
   "metadata": {},
   "outputs": [
    {
     "data": {
      "text/latex": [
       "$5 \\times 10^{-5} \\; \\mathrm{rad}$"
      ],
      "text/plain": [
       "<Quantity 5.e-05 rad>"
      ]
     },
     "execution_count": 11,
     "metadata": {},
     "output_type": "execute_result"
    }
   ],
   "source": [
    "# What is the resolution or resolving power \"R\" at 5000 angstroms?\n",
    "R = (np.arcsin(dlambda_diffraction)).decompose()\n",
    "R"
   ]
  },
  {
   "cell_type": "markdown",
   "metadata": {},
   "source": [
    "### What is the wavelength difference per pixel?\n",
    "\n",
    "Recall that the spatial separation per unit wavelength is:\n",
    "$$ \\frac{dx}{d\\lambda} = \\frac{\\Delta x}{\\Delta \\lambda} =  \\frac{ f_{cam} n }{D \\cos \\theta}$$\n",
    "where $n$ is the order number, $D$ is the distance between gaps in the grating, $dx\\sim\\Delta x$ is the pixel spacing, and $d\\lambda\\sim\\Delta\\lambda$ is the wavelength spacing."
   ]
  },
  {
   "cell_type": "code",
   "execution_count": 12,
   "metadata": {},
   "outputs": [],
   "source": [
    "d_groove = grooves_per_mm**-1\n",
    "dispersion = d_groove*np.cos(degrees)\n",
    "dispersion = dispersion.to(u.um)/f_cam\n",
    "dispersion = dispersion.decompose()"
   ]
  },
  {
   "cell_type": "code",
   "execution_count": 13,
   "metadata": {},
   "outputs": [
    {
     "data": {
      "text/latex": [
       "$0.11321598 \\; \\mathrm{nm}$"
      ],
      "text/plain": [
       "<Quantity 0.11321598 nm>"
      ]
     },
     "execution_count": 13,
     "metadata": {},
     "output_type": "execute_result"
    }
   ],
   "source": [
    "dlambda_per_pix = (dispersion * pixel_size).to(u.nm)\n",
    "dlambda_per_pix"
   ]
  },
  {
   "cell_type": "markdown",
   "metadata": {},
   "source": [
    "### What is the resolution limit from our slit?\n",
    "\n",
    "Recall, to be diffraction-limited, the spectrograph must have\n",
    "$$ \\sin \\theta_{slit} < \\frac{n \\Delta \\lambda}{D}$$"
   ]
  },
  {
   "cell_type": "code",
   "execution_count": 14,
   "metadata": {
    "scrolled": true
   },
   "outputs": [
    {
     "data": {
      "text/latex": [
       "$19.382552 \\; \\mathrm{{}^{\\prime\\prime}}$"
      ],
      "text/plain": [
       "<Quantity 19.38255166 arcsec>"
      ]
     },
     "execution_count": 14,
     "metadata": {},
     "output_type": "execute_result"
    }
   ],
   "source": [
    "arcsind = (dlambda_per_pix/d_groove).decompose()\n",
    "slit_resolution_limit = np.arcsin(arcsind).to(u.arcsec)\n",
    "slit_resolution_limit"
   ]
  },
  {
   "cell_type": "markdown",
   "metadata": {},
   "source": [
    "### What is the effect if our slit is bigger than this?"
   ]
  },
  {
   "cell_type": "markdown",
   "metadata": {},
   "source": [
    "If the slit is bigger than this our resolution limit will decrease."
   ]
  },
  {
   "cell_type": "markdown",
   "metadata": {},
   "source": [
    "Assume that the size of the fiber pinholes is 100 $\\mu$m.\n",
    "\n",
    "Our telescope is a 14\" f/10.\n",
    "\n",
    "### Is the fiber slit limiting our resolution?"
   ]
  },
  {
   "cell_type": "code",
   "execution_count": 15,
   "metadata": {},
   "outputs": [
    {
     "data": {
      "text/latex": [
       "$0.23352472 \\; \\mathrm{{}^{\\prime\\prime}}$"
      ],
      "text/plain": [
       "<Quantity 0.23352472 arcsec>"
      ]
     },
     "execution_count": 15,
     "metadata": {},
     "output_type": "execute_result"
    }
   ],
   "source": [
    "new_d_groove = 100*u.um\n",
    "arcsind2 = (dlambda_per_pix/new_d_groove).decompose()\n",
    "angsize_of_slit = np.arcsin(arcsind2).to(u.arcsec)\n",
    "angsize_of_slit"
   ]
  },
  {
   "cell_type": "markdown",
   "metadata": {},
   "source": [
    "### What is the expected resolution of Pepito at 5000 Angstroms??"
   ]
  },
  {
   "cell_type": "code",
   "execution_count": 16,
   "metadata": {},
   "outputs": [
    {
     "data": {
      "text/latex": [
       "$18.766461 \\; \\mathrm{{}^{\\prime\\prime}}$"
      ],
      "text/plain": [
       "<Quantity 18.76646102 arcsec>"
      ]
     },
     "execution_count": 16,
     "metadata": {},
     "output_type": "execute_result"
    }
   ],
   "source": [
    "theta = 24.519*u.deg\n",
    "radians = theta.to(u.rad)\n",
    "wavelength = (1/grooves_per_mm)*np.sin(radians)\n",
    "wavelength = wavelength.to(u.AA)\n",
    "\n",
    "dispersion = (1/grooves_per_mm)*np.cos(theta)/f_cam\n",
    "dispersion = dispersion.decompose()\n",
    "dlambda_per_pix = (dispersion * pixel_size).to(u.nm)\n",
    "dlambda_per_pix\n",
    "\n",
    "arcsind = (dlambda_per_pix/d_groove).decompose()\n",
    "slit_resolution_limit = np.arcsin(arcsind).to(u.arcsec)\n",
    "slit_resolution_limit"
   ]
  },
  {
   "cell_type": "markdown",
   "metadata": {},
   "source": [
    "## What if we use the other grating?\n",
    "\n",
    "Our second grating has 1200 grooves/mm.\n",
    "\n",
    "### Assume it's operating at the same angle.  What wavelength is at the center?"
   ]
  },
  {
   "cell_type": "code",
   "execution_count": 17,
   "metadata": {},
   "outputs": [],
   "source": [
    "grooves_per_mm_2 = 1200*u.mm**-1"
   ]
  },
  {
   "cell_type": "code",
   "execution_count": 18,
   "metadata": {},
   "outputs": [
    {
     "data": {
      "text/latex": [
       "$2838.7672 \\; \\mathrm{\\mathring{A}}$"
      ],
      "text/plain": [
       "<Quantity 2838.7671896 Angstrom>"
      ]
     },
     "execution_count": 18,
     "metadata": {},
     "output_type": "execute_result"
    }
   ],
   "source": [
    "radians = degrees.to(u.rad)\n",
    "wavelength = D*np.sin(radians)\n",
    "wavelength = wavelength*u.nm\n",
    "wavelength = wavelength.to(u.AA)\n",
    "wavelength"
   ]
  },
  {
   "cell_type": "markdown",
   "metadata": {},
   "source": [
    "### What angle do we need to position our camera at if we want the same central wavelength as the first grating?"
   ]
  },
  {
   "cell_type": "code",
   "execution_count": 19,
   "metadata": {},
   "outputs": [
    {
     "data": {
      "text/latex": [
       "$29.630193 \\; \\mathrm{{}^{\\circ}}$"
      ],
      "text/plain": [
       "<Quantity 29.63019344 deg>"
      ]
     },
     "execution_count": 19,
     "metadata": {},
     "output_type": "execute_result"
    }
   ],
   "source": [
    "angle_to_match_800gmm_grating = (np.arcsin(4120*u.AA/(1/grooves_per_mm_2))).to(u.deg)\n",
    "angle_to_match_800gmm_grating"
   ]
  },
  {
   "cell_type": "markdown",
   "metadata": {},
   "source": [
    "### What's the effective resolution (at the same central wavelength)?"
   ]
  },
  {
   "cell_type": "code",
   "execution_count": 20,
   "metadata": {},
   "outputs": [
    {
     "data": {
      "text/latex": [
       "$7.2436209 \\times 10^{-5} \\; \\mathrm{\\frac{mm}{cm}}$"
      ],
      "text/plain": [
       "<Quantity 7.24362095e-05 mm / cm>"
      ]
     },
     "execution_count": 20,
     "metadata": {},
     "output_type": "execute_result"
    }
   ],
   "source": [
    "dispersion_1200gmm_grating = (1/grooves_per_mm_2)*np.cos(angle_to_match_800gmm_grating)/f_cam\n",
    "dispersion_1200gmm_grating"
   ]
  },
  {
   "cell_type": "code",
   "execution_count": 21,
   "metadata": {},
   "outputs": [
    {
     "data": {
      "text/latex": [
       "$0.72436209 \\; \\mathrm{\\mathring{A}}$"
      ],
      "text/plain": [
       "<Quantity 0.72436209 Angstrom>"
      ]
     },
     "execution_count": 21,
     "metadata": {},
     "output_type": "execute_result"
    }
   ],
   "source": [
    "dlambda_per_pix_1200gmm_grating = (dispersion_1200gmm_grating*pixel_size).to(u.AA)\n",
    "dlambda_per_pix_1200gmm_grating"
   ]
  },
  {
   "cell_type": "markdown",
   "metadata": {
    "hidePrompt": false
   },
   "source": [
    "### What is the resolution?"
   ]
  },
  {
   "cell_type": "code",
   "execution_count": 22,
   "metadata": {},
   "outputs": [
    {
     "data": {
      "text/latex": [
       "$17.929249 \\; \\mathrm{{}^{\\prime\\prime}}$"
      ],
      "text/plain": [
       "<Quantity 17.92924888 arcsec>"
      ]
     },
     "execution_count": 22,
     "metadata": {},
     "output_type": "execute_result"
    }
   ],
   "source": [
    "resolution = np.arcsin(dlambda_per_pix_1200gmm_grating/(1/grooves_per_mm_2)).to(u.arcsec)\n",
    "resolution"
   ]
  },
  {
   "cell_type": "markdown",
   "metadata": {},
   "source": [
    "### What is the slit size required for our system to be grating-limited?"
   ]
  },
  {
   "cell_type": "code",
   "execution_count": 23,
   "metadata": {
    "scrolled": true
   },
   "outputs": [
    {
     "data": {
      "text/latex": [
       "$8.3333333 \\times 10^{-7} \\; \\mathrm{m}$"
      ],
      "text/plain": [
       "<Quantity 8.33333333e-07 m>"
      ]
     },
     "execution_count": 23,
     "metadata": {},
     "output_type": "execute_result"
    }
   ],
   "source": [
    "slit_size_required = dlambda_per_pix_1200gmm_grating/np.sin(resolution.to(u.arcsec))\n",
    "slit_size_required = slit_size_required.decompose()\n",
    "slit_size_required"
   ]
  },
  {
   "cell_type": "markdown",
   "metadata": {},
   "source": [
    "# Redesign questions"
   ]
  },
  {
   "cell_type": "markdown",
   "metadata": {},
   "source": [
    "Remember that the incident angle of light can be nonzero, resulting in the modified grating equation\n",
    "\n",
    "$$ n \\lambda = D \\left(\\sin \\theta_{in} + \\sin \\theta_{out}\\right) $$\n"
   ]
  },
  {
   "cell_type": "markdown",
   "metadata": {},
   "source": [
    "Our spectrograph has a fixed angle, which you've measured (but hope to measure even more precisely).\n",
    "\n",
    "### Given that measured angle of the _whole system_, at what angles is it possible to center $\\lambda=500$ nm, assuming we're using the grating in its first order?"
   ]
  },
  {
   "cell_type": "markdown",
   "metadata": {},
   "source": [
    "(Exercise for students)\n"
   ]
  },
  {
   "cell_type": "code",
   "execution_count": 24,
   "metadata": {},
   "outputs": [],
   "source": [
    "import pylab as pl\n",
    "pl.rcParams['figure.facecolor'] = 'w'\n",
    "pl.rcParams['font.size'] = 14"
   ]
  },
  {
   "cell_type": "code",
   "execution_count": 25,
   "metadata": {},
   "outputs": [
    {
     "data": {
      "image/png": "[encoded data removed]",
      "text/plain": [
       "<Figure size 432x288 with 1 Axes>"
      ]
     },
     "metadata": {},
     "output_type": "display_data"
    }
   ],
   "source": [
    "theta_in = np.linspace(0,angle)*u.deg\n",
    "wavelength = 500*u.nm\n",
    "theta_out = np.arcsin((wavelength/(1/grooves_per_mm)-np.sin(theta_in)))\n",
    "pl.plot(theta_in, theta_out.to(u.deg))\n",
    "pl.xlabel(r\"$\\theta_{in}$\", fontsize=16)\n",
    "pl.ylabel(r\"$\\theta_{out}$\", fontsize=16);"
   ]
  },
  {
   "cell_type": "markdown",
   "metadata": {},
   "source": [
    "Say we want to position 500 nm at the center of our detector, and the angle of the system is still the same we assumed above.\n",
    "\n",
    "### Can we rotate the grating such that 500nm will be centered on the detector?  If so, at what angle?"
   ]
  },
  {
   "cell_type": "markdown",
   "metadata": {},
   "source": [
    "(exercise)\n"
   ]
  },
  {
   "cell_type": "code",
   "execution_count": 26,
   "metadata": {},
   "outputs": [
    {
     "data": {
      "text/latex": [
       "$3.2465144 \\; \\mathrm{{}^{\\circ}}$"
      ],
      "text/plain": [
       "<Quantity 3.24651442 deg>"
      ]
     },
     "execution_count": 26,
     "metadata": {},
     "output_type": "execute_result"
    }
   ],
   "source": [
    "angle = 21*u.deg\n",
    "theta_out = np.arcsin((500*u.nm/(1/grooves_per_mm))-np.sin(angle.to(u.rad)))\n",
    "theta_out.to(u.deg)"
   ]
  },
  {
   "cell_type": "markdown",
   "metadata": {},
   "source": [
    "### Can we rotate the grating such that 400nm will be centered on the detector?  If so, at what angle?"
   ]
  },
  {
   "cell_type": "code",
   "execution_count": 27,
   "metadata": {},
   "outputs": [
    {
     "data": {
      "text/latex": [
       "$-1.5109473 \\; \\mathrm{{}^{\\circ}}$"
      ],
      "text/plain": [
       "<Quantity -1.51094734 deg>"
      ]
     },
     "execution_count": 27,
     "metadata": {},
     "output_type": "execute_result"
    }
   ],
   "source": [
    "theta_out = np.arcsin((400*u.nm/(1/grooves_per_mm))-np.sin(angle.to(u.rad)))\n",
    "theta_out.to(u.deg)"
   ]
  },
  {
   "cell_type": "markdown",
   "metadata": {},
   "source": [
    "### Can we rotate the grating such that 656.3nm will be centered on the detector?  If so, at what angle?  Why is this a significant wavelength?"
   ]
  },
  {
   "cell_type": "code",
   "execution_count": 28,
   "metadata": {},
   "outputs": [
    {
     "data": {
      "text/latex": [
       "$10.740495 \\; \\mathrm{{}^{\\circ}}$"
      ],
      "text/plain": [
       "<Quantity 10.74049495 deg>"
      ]
     },
     "execution_count": 28,
     "metadata": {},
     "output_type": "execute_result"
    }
   ],
   "source": [
    "theta_out = np.arcsin((656.3*u.nm/(1/grooves_per_mm))-np.sin(angle.to(u.rad)))\n",
    "theta_out.to(u.deg)"
   ]
  },
  {
   "cell_type": "markdown",
   "metadata": {},
   "source": [
    "This wavelength is the H-alpha wavelength. The H-alpha light is the brightest hydrogen line wavelength in the visible spectra."
   ]
  },
  {
   "cell_type": "markdown",
   "metadata": {},
   "source": [
    "### What is the actual angle of the grating?  And what central wavelength does it imply?"
   ]
  },
  {
   "cell_type": "code",
   "execution_count": 29,
   "metadata": {},
   "outputs": [
    {
     "data": {
      "text/latex": [
       "$4120.7246 \\; \\mathrm{\\mathring{A}}$"
      ],
      "text/plain": [
       "<Quantity 4120.72461838 Angstrom>"
      ]
     },
     "execution_count": 29,
     "metadata": {},
     "output_type": "execute_result"
    }
   ],
   "source": [
    "actual_angle = 20*u.deg\n",
    "radians = actual_angle.to(u.rad)\n",
    "wavelength = (1/grooves_per_mm)*np.sin(radians)\n",
    "wavelength.to(u.AA)"
   ]
  },
  {
   "cell_type": "markdown",
   "metadata": {},
   "source": [
    "# Lab Measurements Part II\n",
    "\n",
    "Each group will need to take turns performing these measurements, since we have only 1 Pepito."
   ]
  },
  {
   "cell_type": "markdown",
   "metadata": {},
   "source": [
    "Set up Pepito to take in-lab spectra.  Obtain spectra of:\n",
    "\n",
    "* The overhead fluorescent bulbs\n",
    "* Helium\n",
    "* Hydrogen\n",
    "* Neon\n",
    "\n",
    "Ensure that the spectra are obtained in-focus and properly aligned on the detector."
   ]
  },
  {
   "cell_type": "markdown",
   "metadata": {},
   "source": [
    "Be careful that the fiber does not rotate between observations!"
   ]
  },
  {
   "cell_type": "markdown",
   "metadata": {},
   "source": [
    "Examine the spectra. Start with hydrogen.\n",
    "\n",
    "Recall from your quantum class that the wavelength of hydrogen lines is given by:\n",
    "\n",
    "$$ \\lambda = Ry \\left(\\frac{1}{n_l}^2 - \\frac{1}{n_u}^2\\right)$$"
   ]
  },
  {
   "cell_type": "markdown",
   "metadata": {},
   "source": [
    "### What lines are in the spectrum? *What lines COULD be in our spectrum*"
   ]
  },
  {
   "cell_type": "markdown",
   "metadata": {},
   "source": [
    "The CCD is sensitive to 400 to 1000 nm"
   ]
  },
  {
   "cell_type": "code",
   "execution_count": 30,
   "metadata": {},
   "outputs": [],
   "source": [
    "alpha = 6562.8\n",
    "beta = 4861\n",
    "gamma = 4339.4\n",
    "delta = 4100"
   ]
  },
  {
   "cell_type": "markdown",
   "metadata": {},
   "source": [
    "### Given your measurement of the central wavelength on the detector, what is the angle of the grating?"
   ]
  },
  {
   "cell_type": "code",
   "execution_count": 31,
   "metadata": {},
   "outputs": [
    {
     "data": {
      "text/latex": [
       "$9.7739263 \\; \\mathrm{{}^{\\circ}}$"
      ],
      "text/plain": [
       "<Quantity 9.77392632 deg>"
      ]
     },
     "execution_count": 31,
     "metadata": {},
     "output_type": "execute_result"
    }
   ],
   "source": [
    "angle = 21*u.deg\n",
    "theta_out = np.arcsin((636.3*u.nm/(1/grooves_per_mm))-np.sin(angle.to(u.rad)))\n",
    "theta_out.to(u.deg)"
   ]
  },
  {
   "cell_type": "markdown",
   "metadata": {},
   "source": [
    "## Wavelength Calibration"
   ]
  },
  {
   "cell_type": "code",
   "execution_count": 32,
   "metadata": {},
   "outputs": [],
   "source": [
    "from astropy.io import fits\n",
    "from PIL import Image as PILImage\n",
    "import pylab as pl\n",
    "from astropy.modeling.polynomial import Polynomial1D\n",
    "from astropy.modeling.models import Gaussian1D, Linear1D\n",
    "from astropy.modeling.fitting import LinearLSQFitter\n",
    "from IPython.display import Image\n",
    "from astroquery.nist import Nist\n",
    "pl.rcParams['image.origin'] = 'lower'\n",
    "pl.matplotlib.style.use('dark_background')"
   ]
  },
  {
   "cell_type": "markdown",
   "metadata": {},
   "source": [
    "Let's do neon because we know it will be the most relatively well behaved to start out."
   ]
  },
  {
   "cell_type": "code",
   "execution_count": 33,
   "metadata": {},
   "outputs": [],
   "source": [
    "hg_filename = \"\\\\Users\\\\Sydnee O'Donnell\\\\OneDrive\\\\UF\\\\Obs Tech 2\\\\BestGroup_Aug31\\\\lights_straight_up.FIT\"\n",
    "hy_filename = \"\\\\Users\\\\Sydnee O'Donnell\\\\OneDrive\\\\UF\\\\Obs Tech 2\\\\BestGroup_Aug31\\\\hydrogen.FIT\"\n",
    "he_filename = \"\\\\Users\\\\Sydnee O'Donnell\\\\OneDrive\\\\UF\\\\Obs Tech 2\\\\BestGroup_Aug31\\\\helium.FIT\"\n",
    "ne_filename = \"\\\\Users\\\\Sydnee O'Donnell\\\\OneDrive\\\\UF\\\\Obs Tech 2\\\\BestGroup_Aug31\\\\neon.FIT\"\n",
    "sun_filename = \"\\\\Users\\\\Sydnee O'Donnell\\\\OneDrive\\\\UF\\\\Obs Tech 2\\\\BestGroup_Aug31\\\\sun_10s.FIT\"\n",
    "hy1_filename = \"\\\\Users\\\\Sydnee O'Donnell\\\\OneDrive\\\\UF\\\\Obs Tech 2\\\\BestGroup_Aug31\\\\group1_hydrogen_10s.FIT\"\n",
    "hy2_filename = \"\\\\Users\\\\Sydnee O'Donnell\\\\OneDrive\\\\UF\\\\Obs Tech 2\\\\BestGroup_Aug31\\\\group2_hydrogen_10s.FIT\""
   ]
  },
  {
   "cell_type": "code",
   "execution_count": 34,
   "metadata": {},
   "outputs": [],
   "source": [
    "ne_image = fits.getdata(ne_filename)\n",
    "he_image = fits.getdata(he_filename)\n",
    "h_image = fits.getdata(hy_filename)\n",
    "lights_image = fits.getdata(hg_filename)"
   ]
  },
  {
   "cell_type": "code",
   "execution_count": 35,
   "metadata": {},
   "outputs": [
    {
     "data": {
      "image/png": "[encoded data removed]",
      "text/plain": [
       "<Figure size 432x288 with 1 Axes>"
      ]
     },
     "metadata": {},
     "output_type": "display_data"
    }
   ],
   "source": [
    "pl.imshow(ne_image);"
   ]
  },
  {
   "cell_type": "code",
   "execution_count": 36,
   "metadata": {},
   "outputs": [
    {
     "data": {
      "image/png": "[encoded data removed]",
      "text/plain": [
       "<Figure size 432x288 with 1 Axes>"
      ]
     },
     "metadata": {},
     "output_type": "display_data"
    }
   ],
   "source": [
    "pl.imshow(he_image);"
   ]
  },
  {
   "cell_type": "code",
   "execution_count": 37,
   "metadata": {},
   "outputs": [
    {
     "data": {
      "image/png": "[encoded data removed]",
      "text/plain": [
       "<Figure size 432x288 with 1 Axes>"
      ]
     },
     "metadata": {},
     "output_type": "display_data"
    }
   ],
   "source": [
    "pl.imshow(h_image);"
   ]
  },
  {
   "cell_type": "code",
   "execution_count": 38,
   "metadata": {},
   "outputs": [
    {
     "data": {
      "image/png": "[encoded data removed]",
      "text/plain": [
       "<Figure size 432x288 with 1 Axes>"
      ]
     },
     "metadata": {},
     "output_type": "display_data"
    }
   ],
   "source": [
    "pl.imshow(lights_image);"
   ]
  },
  {
   "cell_type": "code",
   "execution_count": 39,
   "metadata": {},
   "outputs": [
    {
     "data": {
      "image/png": "[encoded data removed]",
      "text/plain": [
       "<Figure size 432x288 with 1 Axes>"
      ]
     },
     "metadata": {},
     "output_type": "display_data"
    }
   ],
   "source": [
    "pl.imshow(he_image[355:430,260:280]);"
   ]
  },
  {
   "cell_type": "code",
   "execution_count": 40,
   "metadata": {},
   "outputs": [],
   "source": [
    "ne_spectrum = ne_image[350:450,:].mean(axis=0)\n",
    "he_spectrum = he_image[350:450,:].mean(axis=0)\n",
    "h_spectrum = h_image[350:450,:].mean(axis=0)\n",
    "lights_spectrum = lights_image[350:450,:].mean(axis=0)"
   ]
  },
  {
   "cell_type": "code",
   "execution_count": 41,
   "metadata": {},
   "outputs": [],
   "source": [
    "xaxis = np.arange(he_image.shape[1])"
   ]
  },
  {
   "cell_type": "code",
   "execution_count": 42,
   "metadata": {},
   "outputs": [
    {
     "data": {
      "image/png": "[encoded data removed]",
      "text/plain": [
       "<Figure size 864x576 with 1 Axes>"
      ]
     },
     "metadata": {},
     "output_type": "display_data"
    }
   ],
   "source": [
    "pl.figure(figsize = (12,8))\n",
    "pl.plot(xaxis, ne_spectrum, label='Neon')\n",
    "pl.plot(xaxis, he_spectrum, label='Helium')\n",
    "pl.plot(xaxis, h_spectrum, label='Hydrogen')\n",
    "pl.plot(xaxis, lights_spectrum, label='Lights')\n",
    "pl.legend(loc='best');"
   ]
  },
  {
   "cell_type": "code",
   "execution_count": 43,
   "metadata": {},
   "outputs": [
    {
     "data": {
      "image/png": "[encoded data removed]",
      "text/plain": [
       "<Figure size 864x576 with 1 Axes>"
      ]
     },
     "metadata": {},
     "output_type": "display_data"
    }
   ],
   "source": [
    "pl.figure(figsize = (12,8))\n",
    "pl.plot(xaxis, he_spectrum);"
   ]
  },
  {
   "cell_type": "code",
   "execution_count": 44,
   "metadata": {},
   "outputs": [
    {
     "data": {
      "image/png": "[encoded data removed]",
      "text/plain": [
       "<Figure size 864x576 with 1 Axes>"
      ]
     },
     "metadata": {},
     "output_type": "display_data"
    }
   ],
   "source": [
    "pl.figure(figsize = (12,8))\n",
    "pl.plot(xaxis, h_spectrum);"
   ]
  },
  {
   "cell_type": "code",
   "execution_count": 45,
   "metadata": {},
   "outputs": [
    {
     "data": {
      "image/png": "[encoded data removed]",
      "text/plain": [
       "<Figure size 864x576 with 1 Axes>"
      ]
     },
     "metadata": {},
     "output_type": "display_data"
    }
   ],
   "source": [
    "pl.figure(figsize = (12,8))\n",
    "pl.plot(xaxis, ne_spectrum);"
   ]
  },
  {
   "cell_type": "markdown",
   "metadata": {},
   "source": [
    "### We have a labeled spectrum for Neon already so I'm going to try to work with that one first because I think it would be easiest."
   ]
  },
  {
   "cell_type": "code",
   "execution_count": 46,
   "metadata": {},
   "outputs": [
    {
     "ename": "FileNotFoundError",
     "evalue": "[Errno 2] No such file or directory: 'NeonLampOldPepitoLabeled.png'",
     "output_type": "error",
     "traceback": [
      "\u001b[1;31m---------------------------------------------------------------------------\u001b[0m",
      "\u001b[1;31mFileNotFoundError\u001b[0m                         Traceback (most recent call last)",
      "\u001b[1;32m<ipython-input-46-ecd4cae5167a>\u001b[0m in \u001b[0;36m<module>\u001b[1;34m\u001b[0m\n\u001b[0;32m      1\u001b[0m \u001b[1;32mfrom\u001b[0m \u001b[0mIPython\u001b[0m\u001b[1;33m.\u001b[0m\u001b[0mdisplay\u001b[0m \u001b[1;32mimport\u001b[0m \u001b[0mImage\u001b[0m\u001b[1;33m\u001b[0m\u001b[1;33m\u001b[0m\u001b[0m\n\u001b[1;32m----> 2\u001b[1;33m \u001b[0mImage\u001b[0m\u001b[1;33m(\u001b[0m\u001b[0mfilename\u001b[0m \u001b[1;33m=\u001b[0m \u001b[1;34m\"NeonLampOldPepitoLabeled.png\"\u001b[0m\u001b[1;33m)\u001b[0m\u001b[1;33m\u001b[0m\u001b[1;33m\u001b[0m\u001b[0m\n\u001b[0m",
      "\u001b[1;32mC:\\ProgramData\\Anaconda3\\lib\\site-packages\\IPython\\core\\display.py\u001b[0m in \u001b[0;36m__init__\u001b[1;34m(self, data, url, filename, format, embed, width, height, retina, unconfined, metadata)\u001b[0m\n\u001b[0;32m   1222\u001b[0m         \u001b[0mself\u001b[0m\u001b[1;33m.\u001b[0m\u001b[0mretina\u001b[0m \u001b[1;33m=\u001b[0m \u001b[0mretina\u001b[0m\u001b[1;33m\u001b[0m\u001b[1;33m\u001b[0m\u001b[0m\n\u001b[0;32m   1223\u001b[0m         \u001b[0mself\u001b[0m\u001b[1;33m.\u001b[0m\u001b[0munconfined\u001b[0m \u001b[1;33m=\u001b[0m \u001b[0munconfined\u001b[0m\u001b[1;33m\u001b[0m\u001b[1;33m\u001b[0m\u001b[0m\n\u001b[1;32m-> 1224\u001b[1;33m         super(Image, self).__init__(data=data, url=url, filename=filename, \n\u001b[0m\u001b[0;32m   1225\u001b[0m                 metadata=metadata)\n\u001b[0;32m   1226\u001b[0m \u001b[1;33m\u001b[0m\u001b[0m\n",
      "\u001b[1;32mC:\\ProgramData\\Anaconda3\\lib\\site-packages\\IPython\\core\\display.py\u001b[0m in \u001b[0;36m__init__\u001b[1;34m(self, data, url, filename, metadata)\u001b[0m\n\u001b[0;32m    628\u001b[0m             \u001b[0mself\u001b[0m\u001b[1;33m.\u001b[0m\u001b[0mmetadata\u001b[0m \u001b[1;33m=\u001b[0m \u001b[1;33m{\u001b[0m\u001b[1;33m}\u001b[0m\u001b[1;33m\u001b[0m\u001b[1;33m\u001b[0m\u001b[0m\n\u001b[0;32m    629\u001b[0m \u001b[1;33m\u001b[0m\u001b[0m\n\u001b[1;32m--> 630\u001b[1;33m         \u001b[0mself\u001b[0m\u001b[1;33m.\u001b[0m\u001b[0mreload\u001b[0m\u001b[1;33m(\u001b[0m\u001b[1;33m)\u001b[0m\u001b[1;33m\u001b[0m\u001b[1;33m\u001b[0m\u001b[0m\n\u001b[0m\u001b[0;32m    631\u001b[0m         \u001b[0mself\u001b[0m\u001b[1;33m.\u001b[0m\u001b[0m_check_data\u001b[0m\u001b[1;33m(\u001b[0m\u001b[1;33m)\u001b[0m\u001b[1;33m\u001b[0m\u001b[1;33m\u001b[0m\u001b[0m\n\u001b[0;32m    632\u001b[0m \u001b[1;33m\u001b[0m\u001b[0m\n",
      "\u001b[1;32mC:\\ProgramData\\Anaconda3\\lib\\site-packages\\IPython\\core\\display.py\u001b[0m in \u001b[0;36mreload\u001b[1;34m(self)\u001b[0m\n\u001b[0;32m   1254\u001b[0m         \u001b[1;34m\"\"\"Reload the raw data from file or URL.\"\"\"\u001b[0m\u001b[1;33m\u001b[0m\u001b[1;33m\u001b[0m\u001b[0m\n\u001b[0;32m   1255\u001b[0m         \u001b[1;32mif\u001b[0m \u001b[0mself\u001b[0m\u001b[1;33m.\u001b[0m\u001b[0membed\u001b[0m\u001b[1;33m:\u001b[0m\u001b[1;33m\u001b[0m\u001b[1;33m\u001b[0m\u001b[0m\n\u001b[1;32m-> 1256\u001b[1;33m             \u001b[0msuper\u001b[0m\u001b[1;33m(\u001b[0m\u001b[0mImage\u001b[0m\u001b[1;33m,\u001b[0m\u001b[0mself\u001b[0m\u001b[1;33m)\u001b[0m\u001b[1;33m.\u001b[0m\u001b[0mreload\u001b[0m\u001b[1;33m(\u001b[0m\u001b[1;33m)\u001b[0m\u001b[1;33m\u001b[0m\u001b[1;33m\u001b[0m\u001b[0m\n\u001b[0m\u001b[0;32m   1257\u001b[0m             \u001b[1;32mif\u001b[0m \u001b[0mself\u001b[0m\u001b[1;33m.\u001b[0m\u001b[0mretina\u001b[0m\u001b[1;33m:\u001b[0m\u001b[1;33m\u001b[0m\u001b[1;33m\u001b[0m\u001b[0m\n\u001b[0;32m   1258\u001b[0m                 \u001b[0mself\u001b[0m\u001b[1;33m.\u001b[0m\u001b[0m_retina_shape\u001b[0m\u001b[1;33m(\u001b[0m\u001b[1;33m)\u001b[0m\u001b[1;33m\u001b[0m\u001b[1;33m\u001b[0m\u001b[0m\n",
      "\u001b[1;32mC:\\ProgramData\\Anaconda3\\lib\\site-packages\\IPython\\core\\display.py\u001b[0m in \u001b[0;36mreload\u001b[1;34m(self)\u001b[0m\n\u001b[0;32m    653\u001b[0m         \u001b[1;34m\"\"\"Reload the raw data from file or URL.\"\"\"\u001b[0m\u001b[1;33m\u001b[0m\u001b[1;33m\u001b[0m\u001b[0m\n\u001b[0;32m    654\u001b[0m         \u001b[1;32mif\u001b[0m \u001b[0mself\u001b[0m\u001b[1;33m.\u001b[0m\u001b[0mfilename\u001b[0m \u001b[1;32mis\u001b[0m \u001b[1;32mnot\u001b[0m \u001b[1;32mNone\u001b[0m\u001b[1;33m:\u001b[0m\u001b[1;33m\u001b[0m\u001b[1;33m\u001b[0m\u001b[0m\n\u001b[1;32m--> 655\u001b[1;33m             \u001b[1;32mwith\u001b[0m \u001b[0mopen\u001b[0m\u001b[1;33m(\u001b[0m\u001b[0mself\u001b[0m\u001b[1;33m.\u001b[0m\u001b[0mfilename\u001b[0m\u001b[1;33m,\u001b[0m \u001b[0mself\u001b[0m\u001b[1;33m.\u001b[0m\u001b[0m_read_flags\u001b[0m\u001b[1;33m)\u001b[0m \u001b[1;32mas\u001b[0m \u001b[0mf\u001b[0m\u001b[1;33m:\u001b[0m\u001b[1;33m\u001b[0m\u001b[1;33m\u001b[0m\u001b[0m\n\u001b[0m\u001b[0;32m    656\u001b[0m                 \u001b[0mself\u001b[0m\u001b[1;33m.\u001b[0m\u001b[0mdata\u001b[0m \u001b[1;33m=\u001b[0m \u001b[0mf\u001b[0m\u001b[1;33m.\u001b[0m\u001b[0mread\u001b[0m\u001b[1;33m(\u001b[0m\u001b[1;33m)\u001b[0m\u001b[1;33m\u001b[0m\u001b[1;33m\u001b[0m\u001b[0m\n\u001b[0;32m    657\u001b[0m         \u001b[1;32melif\u001b[0m \u001b[0mself\u001b[0m\u001b[1;33m.\u001b[0m\u001b[0murl\u001b[0m \u001b[1;32mis\u001b[0m \u001b[1;32mnot\u001b[0m \u001b[1;32mNone\u001b[0m\u001b[1;33m:\u001b[0m\u001b[1;33m\u001b[0m\u001b[1;33m\u001b[0m\u001b[0m\n",
      "\u001b[1;31mFileNotFoundError\u001b[0m: [Errno 2] No such file or directory: 'NeonLampOldPepitoLabeled.png'"
     ]
    }
   ],
   "source": [
    "from IPython.display import Image\n",
    "Image(filename = \"NeonLampOldPepitoLabeled.png\")"
   ]
  },
  {
   "cell_type": "markdown",
   "metadata": {},
   "source": [
    "As we can see we have clearly some of the same wavelengths as the already labeled image. Our spectrum is flipped horizontally in reference to the already labeled one but this happens sometimes and doesn't mean anything is wrong with our data."
   ]
  },
  {
   "cell_type": "code",
   "execution_count": null,
   "metadata": {},
   "outputs": [],
   "source": [
    "guessed_wavelengths = [540, 534, 520, 515, 511, 508, 504]\n",
    "guessed_xvals = [80, 115, 185, 207, 220, 240, 260]"
   ]
  },
  {
   "cell_type": "code",
   "execution_count": null,
   "metadata": {},
   "outputs": [],
   "source": [
    "npixels = 10\n",
    "improved_xval_guesses = [np.average(xaxis[g-npixels:g+npixels],\n",
    "                                    weights=ne_spectrum[g-npixels:g+npixels] - np.median(ne_spectrum))\n",
    "                         for g in guessed_xvals]\n",
    "improved_xval_guesses"
   ]
  },
  {
   "cell_type": "code",
   "execution_count": null,
   "metadata": {},
   "outputs": [],
   "source": [
    "pl.figure(figsize = (14,10))\n",
    "pl.plot(xaxis[0:400], ne_spectrum[0:400])\n",
    "pl.plot(guessed_xvals[0:400], [2000]*7, 'x')\n",
    "pl.plot(improved_xval_guesses[0:400], [2000]*7, '+');"
   ]
  },
  {
   "cell_type": "markdown",
   "metadata": {},
   "source": [
    "I really like this fit that we got with our improved guesses so we're gonna work with this. It took a while to tweak the guesses and the npixels values but I ended up getting something I liked."
   ]
  },
  {
   "cell_type": "code",
   "execution_count": null,
   "metadata": {},
   "outputs": [],
   "source": [
    "linfitter = LinearLSQFitter()"
   ]
  },
  {
   "cell_type": "code",
   "execution_count": null,
   "metadata": {},
   "outputs": [],
   "source": [
    "wlmodel = Linear1D()\n",
    "linfit_wlmodel = linfitter(model=wlmodel, x=improved_xval_guesses, y=guessed_wavelengths)\n",
    "wavelengths = linfit_wlmodel(xaxis) * u.nm\n",
    "linfit_wlmodel"
   ]
  },
  {
   "cell_type": "code",
   "execution_count": null,
   "metadata": {},
   "outputs": [],
   "source": [
    "pl.figure(figsize = (14,10))\n",
    "pl.plot(wavelengths, ne_spectrum)\n",
    "pl.plot(guessed_wavelengths, [2000]*7, 'x');"
   ]
  },
  {
   "cell_type": "code",
   "execution_count": null,
   "metadata": {},
   "outputs": [],
   "source": [
    "pl.plot(improved_xval_guesses, guessed_wavelengths, 'o')\n",
    "pl.plot(xaxis, wavelengths, '-')\n",
    "pl.ylabel(\"$\\lambda(x)$\")\n",
    "pl.xlabel(\"x (pixels)\")"
   ]
  },
  {
   "cell_type": "markdown",
   "metadata": {},
   "source": [
    "This fit looks pretty good but we have a lot of data to fit past ~250 pixels to accurately assess if it really is a good fit or not."
   ]
  },
  {
   "cell_type": "code",
   "execution_count": null,
   "metadata": {},
   "outputs": [],
   "source": [
    "minwave = wavelengths.min()\n",
    "maxwave = wavelengths.max()\n",
    "\n",
    "hydrogen_lines = Nist.query(minwav=minwave,\n",
    "                           maxwav=maxwave,\n",
    "                           linename='H I')\n",
    "helium_lines = Nist.query(minwav=minwave,\n",
    "                           maxwav=maxwave,\n",
    "                           linename='He I')\n",
    "neon_lines = Nist.query(minwav=minwave,\n",
    "                        maxwav=maxwave,\n",
    "                        linename='Ne I')"
   ]
  },
  {
   "cell_type": "code",
   "execution_count": null,
   "metadata": {},
   "outputs": [],
   "source": [
    "pl.figure(figsize = (14,10))\n",
    "pl.plot(wavelengths, ne_spectrum)\n",
    "pl.vlines(neon_lines['Observed'], 6000, 250, 'w', alpha=0.20);\n",
    "pl.axis([450, 550, 1000, 6000])"
   ]
  },
  {
   "cell_type": "code",
   "execution_count": null,
   "metadata": {},
   "outputs": [],
   "source": [
    "ne_keep = np.array([('*' not in x) and ('f' not in x) for x in neon_lines['Rel.']])\n",
    "ne_wl_tbl = neon_lines['Observed'][ne_keep]\n",
    "ne_rel_tbl = np.array([float(x) for x in neon_lines['Rel.'][ne_keep]])"
   ]
  },
  {
   "cell_type": "code",
   "execution_count": null,
   "metadata": {},
   "outputs": [],
   "source": [
    "ne_rel_intens = ne_rel_tbl / ne_rel_tbl.max() * ne_spectrum.max()\n",
    "pl.plot(wavelengths, ne_spectrum)\n",
    "pl.plot(ne_wl_tbl, ne_rel_intens, 'x')\n",
    "pl.xlabel('Wavelength (nm)');"
   ]
  },
  {
   "cell_type": "code",
   "execution_count": null,
   "metadata": {},
   "outputs": [],
   "source": [
    "ne_keep_final = ne_rel_intens > 1500\n",
    "pl.plot(wavelengths, ne_spectrum)\n",
    "pl.plot(ne_wl_tbl[ne_keep_final], ne_rel_intens[ne_keep_final], 'x')\n",
    "pl.xlabel('Wavelength (nm)');"
   ]
  },
  {
   "cell_type": "code",
   "execution_count": null,
   "metadata": {},
   "outputs": [],
   "source": [
    "ne_wl_final = ne_wl_tbl[ne_keep_final]\n",
    "ne_pixel_vals = linfit_wlmodel.inverse(ne_wl_final)"
   ]
  },
  {
   "cell_type": "code",
   "execution_count": null,
   "metadata": {},
   "outputs": [],
   "source": [
    "npixels = 10\n",
    "improved_xval_guesses_ne = [np.average(xaxis[g-npixels:g+npixels],\n",
    "                                    weights=ne_spectrum[g-npixels:g+npixels] - np.median(ne_spectrum))\n",
    "                         for g in map(int, ne_pixel_vals)]\n",
    "improved_xval_guesses_ne"
   ]
  },
  {
   "cell_type": "code",
   "execution_count": null,
   "metadata": {},
   "outputs": [],
   "source": [
    "pl.plot(improved_xval_guesses_ne, ne_wl_final, '^', label='Neon')\n",
    "#pl.plot(improved_xval_guesses, guessed_wavelengths, '+', label='Hydrogen')\n",
    "pl.plot(xaxis, wavelengths, zorder=-5)\n",
    "pl.plot(xaxis, linfit_wlmodel(xaxis), zorder=-5)\n",
    "pl.legend(loc='best')\n",
    "pl.xlabel(\"Pixel Coordinate\")\n",
    "pl.ylabel(\"Wavelength (nm)\");"
   ]
  },
  {
   "cell_type": "markdown",
   "metadata": {},
   "source": [
    "### Helium wavelength assessment"
   ]
  },
  {
   "cell_type": "code",
   "execution_count": 47,
   "metadata": {},
   "outputs": [
    {
     "ename": "NameError",
     "evalue": "name 'helium_lines' is not defined",
     "output_type": "error",
     "traceback": [
      "\u001b[1;31m---------------------------------------------------------------------------\u001b[0m",
      "\u001b[1;31mNameError\u001b[0m                                 Traceback (most recent call last)",
      "\u001b[1;32m<ipython-input-47-550decb9b655>\u001b[0m in \u001b[0;36m<module>\u001b[1;34m\u001b[0m\n\u001b[1;32m----> 1\u001b[1;33m \u001b[0mhe_keep1\u001b[0m \u001b[1;33m=\u001b[0m \u001b[0mnp\u001b[0m\u001b[1;33m.\u001b[0m\u001b[0marray\u001b[0m\u001b[1;33m(\u001b[0m\u001b[1;33m[\u001b[0m\u001b[1;34m'*'\u001b[0m \u001b[1;32mnot\u001b[0m \u001b[1;32min\u001b[0m \u001b[0mx\u001b[0m \u001b[1;32mfor\u001b[0m \u001b[0mx\u001b[0m \u001b[1;32min\u001b[0m \u001b[0mhelium_lines\u001b[0m\u001b[1;33m[\u001b[0m\u001b[1;34m'Rel.'\u001b[0m\u001b[1;33m]\u001b[0m\u001b[1;33m]\u001b[0m\u001b[1;33m)\u001b[0m\u001b[1;33m\u001b[0m\u001b[1;33m\u001b[0m\u001b[0m\n\u001b[0m\u001b[0;32m      2\u001b[0m \u001b[0mhe_keep2\u001b[0m \u001b[1;33m=\u001b[0m \u001b[1;33m(\u001b[0m\u001b[1;33m~\u001b[0m\u001b[0mhelium_lines\u001b[0m\u001b[1;33m[\u001b[0m\u001b[1;34m'Rel.'\u001b[0m\u001b[1;33m]\u001b[0m\u001b[1;33m.\u001b[0m\u001b[0mmask\u001b[0m\u001b[1;33m)\u001b[0m\u001b[1;33m\u001b[0m\u001b[1;33m\u001b[0m\u001b[0m\n\u001b[0;32m      3\u001b[0m \u001b[0mhe_keep2\u001b[0m\u001b[1;33m\u001b[0m\u001b[1;33m\u001b[0m\u001b[0m\n",
      "\u001b[1;31mNameError\u001b[0m: name 'helium_lines' is not defined"
     ]
    }
   ],
   "source": [
    "he_keep1 = np.array(['*' not in x for x in helium_lines['Rel.']])\n",
    "he_keep2 = (~helium_lines['Rel.'].mask)"
   ]
  },
  {
   "cell_type": "code",
   "execution_count": null,
   "metadata": {},
   "outputs": [],
   "source": [
    "he_keep = []\n",
    "for i in range(len(he_keep1)):\n",
    "    if he_keep2[i] == 1 & he_keep1[i] == 1:\n",
    "        he_keep.append(1)\n",
    "    else:\n",
    "        he_keep.append(0)\n",
    "he_keep = np.array(he_keep)\n",
    "he_keep"
   ]
  },
  {
   "cell_type": "markdown",
   "metadata": {
    "jp-MarkdownHeadingCollapsed": true,
    "tags": []
   },
   "source": [
    "I have to make this for loop because I want the true values that are shared among both arrays. For some reason when I tried to remove the masked values and the * values at once I would get a lot of weird errors so this is my work around. Even with this I still have to remove more * which is weird but I eventually get it to kind of work."
   ]
  },
  {
   "cell_type": "code",
   "execution_count": null,
   "metadata": {},
   "outputs": [],
   "source": [
    "helium_lines['Rel.'] = helium_lines['Rel.'][he_keep]\n",
    "he_keep_true = np.array(['*' not in x for x in helium_lines['Rel.']])"
   ]
  },
  {
   "cell_type": "code",
   "execution_count": null,
   "metadata": {},
   "outputs": [],
   "source": [
    "he_wl_tbl = helium_lines['Observed'][he_keep_true]\n",
    "he_rel_tbl = np.array([float(x) for x in helium_lines['Rel.'][he_keep_true]])"
   ]
  },
  {
   "cell_type": "code",
   "execution_count": null,
   "metadata": {},
   "outputs": [],
   "source": [
    "he_rel_intens = he_rel_tbl / he_rel_tbl.max() * 10000"
   ]
  },
  {
   "cell_type": "code",
   "execution_count": null,
   "metadata": {},
   "outputs": [],
   "source": [
    "he_keep_final = he_rel_intens > 9999\n",
    "pl.plot(wavelengths, he_spectrum)\n",
    "pl.plot(he_wl_tbl[he_keep_final], he_rel_intens[he_keep_final], 'x')\n",
    "pl.xlabel('Wavelength (nm)');"
   ]
  },
  {
   "cell_type": "markdown",
   "metadata": {},
   "source": [
    "A few of the values along our spectrum are represented but not the largest spike at 500 nm which is unfortunate. But, this spike in our data could be due to a physical error in the collection of the data during the lab so I'm not going to think too much about it."
   ]
  },
  {
   "cell_type": "code",
   "execution_count": null,
   "metadata": {},
   "outputs": [],
   "source": [
    "he_wl_final = he_wl_tbl[he_keep_final]\n",
    "he_pixel_vals = linfit_wlmodel.inverse(he_wl_final)"
   ]
  },
  {
   "cell_type": "code",
   "execution_count": null,
   "metadata": {},
   "outputs": [],
   "source": [
    "he_pixel_remove = (~he_pixel_vals.mask)\n",
    "he_pixel_vals = he_pixel_vals[he_pixel_remove]\n",
    "he_wl_remove = (~he_wl_final.mask)\n",
    "he_wl_final = he_wl_final[he_wl_remove]"
   ]
  },
  {
   "cell_type": "markdown",
   "metadata": {},
   "source": [
    "Somehow I still had masked values in my array so I hade to remove those values AGAIN. Our data is very janky compared to what I expected from this lab so it's taking a lot more work than I thought to get somewhat accurate wavelength guesses."
   ]
  },
  {
   "cell_type": "code",
   "execution_count": null,
   "metadata": {},
   "outputs": [],
   "source": [
    "npixels = 5\n",
    "improved_xval_guesses_he = [np.average(xaxis[g-npixels:g+npixels],\n",
    "                                    weights=he_spectrum[g-npixels:g+npixels] - np.median(he_spectrum))\n",
    "                         for g in map(int, he_pixel_vals)]\n",
    "improved_xval_guesses_he"
   ]
  },
  {
   "cell_type": "code",
   "execution_count": null,
   "metadata": {},
   "outputs": [],
   "source": [
    "pl.plot(improved_xval_guesses_he, he_wl_final, '^', label='Helium')\n",
    "pl.plot(improved_xval_guesses_ne, ne_wl_final, '+', label='Neon')\n",
    "pl.plot(xaxis, wavelengths, zorder=-5)\n",
    "pl.plot(xaxis, linfit_wlmodel(xaxis), zorder=-5)\n",
    "pl.legend(loc='best')\n",
    "pl.xlabel(\"Pixel Coordinate\")\n",
    "pl.ylabel(\"Wavelength (nm)\");"
   ]
  },
  {
   "cell_type": "markdown",
   "metadata": {},
   "source": [
    "### Now onto Hydrogen"
   ]
  },
  {
   "cell_type": "code",
   "execution_count": 48,
   "metadata": {},
   "outputs": [
    {
     "ename": "NameError",
     "evalue": "name 'wavelengths' is not defined",
     "output_type": "error",
     "traceback": [
      "\u001b[1;31m---------------------------------------------------------------------------\u001b[0m",
      "\u001b[1;31mNameError\u001b[0m                                 Traceback (most recent call last)",
      "\u001b[1;32m<ipython-input-48-4eaed82024ea>\u001b[0m in \u001b[0;36m<module>\u001b[1;34m\u001b[0m\n\u001b[0;32m      1\u001b[0m \u001b[0mpl\u001b[0m\u001b[1;33m.\u001b[0m\u001b[0mfigure\u001b[0m\u001b[1;33m(\u001b[0m\u001b[0mfigsize\u001b[0m \u001b[1;33m=\u001b[0m \u001b[1;33m(\u001b[0m\u001b[1;36m14\u001b[0m\u001b[1;33m,\u001b[0m\u001b[1;36m10\u001b[0m\u001b[1;33m)\u001b[0m\u001b[1;33m)\u001b[0m\u001b[1;33m\u001b[0m\u001b[1;33m\u001b[0m\u001b[0m\n\u001b[1;32m----> 2\u001b[1;33m \u001b[0mpl\u001b[0m\u001b[1;33m.\u001b[0m\u001b[0mplot\u001b[0m\u001b[1;33m(\u001b[0m\u001b[0mwavelengths\u001b[0m\u001b[1;33m,\u001b[0m \u001b[0mh_spectrum\u001b[0m\u001b[1;33m)\u001b[0m\u001b[1;33m\u001b[0m\u001b[1;33m\u001b[0m\u001b[0m\n\u001b[0m\u001b[0;32m      3\u001b[0m \u001b[0mpl\u001b[0m\u001b[1;33m.\u001b[0m\u001b[0mvlines\u001b[0m\u001b[1;33m(\u001b[0m\u001b[0mhydrogen_lines\u001b[0m\u001b[1;33m[\u001b[0m\u001b[1;34m'Observed'\u001b[0m\u001b[1;33m]\u001b[0m\u001b[1;33m,\u001b[0m \u001b[1;36m30000\u001b[0m\u001b[1;33m,\u001b[0m \u001b[1;36m250\u001b[0m\u001b[1;33m,\u001b[0m \u001b[1;34m'w'\u001b[0m\u001b[1;33m,\u001b[0m \u001b[0malpha\u001b[0m\u001b[1;33m=\u001b[0m\u001b[1;36m0.20\u001b[0m\u001b[1;33m)\u001b[0m\u001b[1;33m;\u001b[0m\u001b[1;33m\u001b[0m\u001b[1;33m\u001b[0m\u001b[0m\n",
      "\u001b[1;31mNameError\u001b[0m: name 'wavelengths' is not defined"
     ]
    },
    {
     "data": {
      "text/plain": [
       "<Figure size 1008x720 with 0 Axes>"
      ]
     },
     "metadata": {},
     "output_type": "display_data"
    }
   ],
   "source": [
    "pl.figure(figsize = (14,10))\n",
    "pl.plot(wavelengths, h_spectrum)\n",
    "pl.vlines(hydrogen_lines['Observed'], 30000, 250, 'w', alpha=0.20);"
   ]
  },
  {
   "cell_type": "code",
   "execution_count": null,
   "metadata": {},
   "outputs": [],
   "source": [
    "h_keep = (~hydrogen_lines['Rel.'].mask) & (hydrogen_lines['Rel.'] != \"700bl\") & (hydrogen_lines['Rel.'] != \"1100bl\") & (hydrogen_lines['Rel.'] != \"900bl\") & (hydrogen_lines['Rel.'] != \"1000bl\") & (hydrogen_lines['Rel.'] != \"1200bl\")\n",
    "h_wl_tbl = hydrogen_lines['Observed'][h_keep]\n",
    "h_rel_tbl = np.array([float(x) for x in hydrogen_lines['Rel.'][h_keep]])"
   ]
  },
  {
   "cell_type": "code",
   "execution_count": null,
   "metadata": {},
   "outputs": [],
   "source": [
    "pl.plot(wavelengths, h_spectrum)\n",
    "pl.plot(h_wl_tbl, h_rel_tbl / h_rel_tbl.max() * h_spectrum.max(), 'x')\n",
    "pl.xlabel(\"$\\lambda$ [nm]\")\n",
    "pl.title(\"Hydrogen\");"
   ]
  },
  {
   "cell_type": "code",
   "execution_count": null,
   "metadata": {},
   "outputs": [],
   "source": [
    "h_rel_intens =  h_rel_tbl / h_rel_tbl.max() * h_spectrum.max()\n",
    "h_keep_final = h_rel_intens > 12500\n",
    "h_wl_final = h_wl_tbl[h_keep_final]"
   ]
  },
  {
   "cell_type": "code",
   "execution_count": null,
   "metadata": {},
   "outputs": [],
   "source": [
    "h_pixel_vals = linfit_wlmodel.inverse(h_wl_final)"
   ]
  },
  {
   "cell_type": "code",
   "execution_count": null,
   "metadata": {},
   "outputs": [],
   "source": [
    "pl.plot(xaxis, h_spectrum)\n",
    "pl.plot(h_pixel_vals, h_rel_intens[h_keep_final], 'x');"
   ]
  },
  {
   "cell_type": "code",
   "execution_count": null,
   "metadata": {},
   "outputs": [],
   "source": [
    "npixels = 15\n",
    "improved_xval_guesses_h = [np.average(xaxis[g-npixels:g+npixels],\n",
    "                                    weights=h_spectrum[g-npixels:g+npixels] - np.median(h_spectrum))\n",
    "                         for g in map(int, h_pixel_vals)]\n",
    "improved_xval_guesses_h"
   ]
  },
  {
   "cell_type": "code",
   "execution_count": null,
   "metadata": {},
   "outputs": [],
   "source": [
    "pl.plot(improved_xval_guesses_h, h_wl_final, 'x', label='Hydrogen')\n",
    "pl.plot(improved_xval_guesses_he, he_wl_final, '^', label='Helium')\n",
    "pl.plot(improved_xval_guesses_ne, ne_wl_final, '+', label='Neon')\n",
    "pl.plot(xaxis, wavelengths, zorder=-5)\n",
    "pl.plot(xaxis, linfit_wlmodel(xaxis), zorder=-5)\n",
    "pl.legend(loc='best')\n",
    "pl.xlabel(\"Pixel Coordinate\")\n",
    "pl.ylabel(\"Wavelength (nm)\");"
   ]
  },
  {
   "cell_type": "markdown",
   "metadata": {},
   "source": [
    "This looks surprisingly good for the quality of data that I was processing. All of the datapoints seems like lie pretty well along the line that we fitted earler."
   ]
  },
  {
   "cell_type": "markdown",
   "metadata": {},
   "source": [
    "Now we will concatenate all of the data into one fit."
   ]
  },
  {
   "cell_type": "code",
   "execution_count": null,
   "metadata": {},
   "outputs": [],
   "source": [
    "xvals_ne_plus_he_plus_h = list(improved_xval_guesses_ne) + list(improved_xval_guesses_he) + list(improved_xval_guesses_h)\n",
    "waves_ne_plus_he_plus_h = list(ne_wl_final) + list(he_wl_final) + list(h_wl_final)\n",
    "linfit_wlmodel_neheh = linfitter(model=wlmodel, x=xvals_ne_plus_he_plus_h, y=waves_ne_plus_he_plus_h)\n",
    "linfit_wlmodel_neheh"
   ]
  },
  {
   "cell_type": "code",
   "execution_count": null,
   "metadata": {},
   "outputs": [],
   "source": [
    "pl.plot(improved_xval_guesses_h, h_wl_final, 'x', label='Hydrogen')\n",
    "pl.plot(improved_xval_guesses_he, he_wl_final, '^', label='Helium')\n",
    "pl.plot(improved_xval_guesses_ne, ne_wl_final, '+', label='Neon')\n",
    "pl.plot(xaxis, wavelengths, zorder=-5)\n",
    "# Plotting the same thing but with the final wavelength solution!\n",
    "pl.plot(xaxis, linfit_wlmodel_neheh(xaxis), zorder=-5, color='r')\n",
    "pl.legend(loc='best')\n",
    "pl.xlabel(\"Pixel Coordinate\")\n",
    "pl.ylabel(\"Wavelength (nm)\");"
   ]
  },
  {
   "cell_type": "markdown",
   "metadata": {},
   "source": [
    "This is our final wavelength solution, now all we need to solve for is the angle that Pepito is at. We can do this by taking the median of all of the wavelengths we identified (h_wl_final, he_wl_final, ne_wl_final) and plugging them into the grating equation."
   ]
  },
  {
   "cell_type": "code",
   "execution_count": null,
   "metadata": {},
   "outputs": [],
   "source": [
    "np.median(h_wl_final)"
   ]
  },
  {
   "cell_type": "code",
   "execution_count": null,
   "metadata": {},
   "outputs": [],
   "source": [
    "np.median(he_wl_final)"
   ]
  },
  {
   "cell_type": "code",
   "execution_count": null,
   "metadata": {},
   "outputs": [],
   "source": []
  }
 ],
 "metadata": {
  "kernelspec": {
   "display_name": "Python 3",
   "language": "python",
   "name": "python3"
  },
  "language_info": {
   "codemirror_mode": {
    "name": "ipython",
    "version": 3
   },
   "file_extension": ".py",
   "mimetype": "text/x-python",
   "name": "python",
   "nbconvert_exporter": "python",
   "pygments_lexer": "ipython3",
   "version": "3.8.5"
  }
 },
 "nbformat": 4,
 "nbformat_minor": 5
}

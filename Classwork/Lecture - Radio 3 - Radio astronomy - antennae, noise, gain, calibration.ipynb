{
 "cells": [
  {
   "cell_type": "code",
   "execution_count": 1,
   "metadata": {
    "hideCode": false,
    "slideshow": {
     "slide_type": "skip"
    }
   },
   "outputs": [
    {
     "data": {
      "text/plain": [
       "<astropy.visualization.units.quantity_support.<locals>.MplQuantityConverter at 0x2143b6ef430>"
      ]
     },
     "execution_count": 1,
     "metadata": {},
     "output_type": "execute_result"
    }
   ],
   "source": [
    "import pylab as pl\n",
    "import numpy as np\n",
    "from astropy.modeling.physical_models import BlackBody\n",
    "from astropy import units as u\n",
    "from astropy import constants\n",
    "from astropy import visualization\n",
    "pl.style.use('dark_background')\n",
    "pl.rcParams['font.size'] = 18\n",
    "visualization.quantity_support()"
   ]
  },
  {
   "cell_type": "markdown",
   "metadata": {
    "slideshow": {
     "slide_type": "slide"
    }
   },
   "source": [
    "# More Radio Astronomy - Sensitivity Calculation\n",
    "\n",
    "AST 4723"
   ]
  },
  {
   "cell_type": "markdown",
   "metadata": {
    "slideshow": {
     "slide_type": "slide"
    }
   },
   "source": [
    "# Sensitivity\n",
    "Radio telescope *sensitivity* is similar to that for optical telescopes: the noise goes down as $t^{1/2}$ and as $1/area$."
   ]
  },
  {
   "cell_type": "markdown",
   "metadata": {},
   "source": [
    "bigger telescope - more sensitive\n",
    "\n",
    "longer esposure time - more sensitive "
   ]
  },
  {
   "cell_type": "markdown",
   "metadata": {
    "slideshow": {
     "slide_type": "slide"
    }
   },
   "source": [
    "# Noise\n",
    "\n",
    "The _thermal noise_ is the noise floor introduced by the fact that, at long wavelengths, everything glows.\n",
    "\n",
    "The *Power per unit frequency* $P_\\nu = P/\\Delta \\nu$ is the square of the signal.  It is always positive, and represents the astrophysical signal we're looking for.\n",
    "\n",
    "$$T_N \\equiv \\frac{P_\\nu}{k_B}$$\n",
    "\n",
    "The Noise Temperature $T_N$ is the more common way to express the Power."
   ]
  },
  {
   "cell_type": "markdown",
   "metadata": {},
   "source": [
    "everything glowing in radio including telescope and all components of it \n",
    "\n",
    "What are wee actually measuring with heterodyne ____er\n",
    "\n",
    "- measure square of that signal and call that the power \n",
    "- y axis sum of square of thaat signal at each specific frequency \n",
    "- take whatever that power is and convert it to temp by / by boltzman factor\n",
    "\n",
    "talk about everything in terms of noise temp b/c signal is oscillating, wee measure amplitude of that noise\n",
    "\n"
   ]
  },
  {
   "cell_type": "markdown",
   "metadata": {
    "slideshow": {
     "slide_type": "slide"
    }
   },
   "source": [
    "# Noise temperature?\n",
    "\n",
    "The *continuous* signals we're measuring are \"noise signals\".  We usually distinguish *signal* from *noise*, so what does \"Noise Temperature\" mean?\n",
    "\n",
    "The signals from a continuous source have random *phase* but non-random *amplitude*.  \n",
    "\n",
    "When we look at a bright continuum source - or through one - the total amount of electrical power arriving at the antenna determines how big the voltages are that we read out."
   ]
  },
  {
   "cell_type": "markdown",
   "metadata": {},
   "source": [
    " measuing noise signals but the oscillation is our signal but is also a type of noise \n",
    " \n",
    " we want the amplitude mostly\n",
    " \n",
    " amplitude of oscillation tells us how much voltage we're getting out\n",
    " \n",
    " want to convert voltz to something useful\n",
    " "
   ]
  },
  {
   "cell_type": "code",
   "execution_count": 4,
   "metadata": {
    "hideCode": true,
    "slideshow": {
     "slide_type": "fragment"
    }
   },
   "outputs": [
    {
     "ename": "AttributeError",
     "evalue": "'Figure' object has no attribute 'supxlabel'",
     "output_type": "error",
     "traceback": [
      "\u001b[1;31m---------------------------------------------------------------------------\u001b[0m",
      "\u001b[1;31mAttributeError\u001b[0m                            Traceback (most recent call last)",
      "\u001b[1;32m<ipython-input-4-eca7e1799501>\u001b[0m in \u001b[0;36m<module>\u001b[1;34m\u001b[0m\n\u001b[0;32m      2\u001b[0m \u001b[0msignal2\u001b[0m \u001b[1;33m=\u001b[0m \u001b[0mnp\u001b[0m\u001b[1;33m.\u001b[0m\u001b[0mrandom\u001b[0m\u001b[1;33m.\u001b[0m\u001b[0mrandn\u001b[0m\u001b[1;33m(\u001b[0m\u001b[1;36m1000\u001b[0m\u001b[1;33m)\u001b[0m \u001b[1;33m*\u001b[0m \u001b[1;36m5\u001b[0m\u001b[1;33m\u001b[0m\u001b[1;33m\u001b[0m\u001b[0m\n\u001b[0;32m      3\u001b[0m \u001b[0mfig\u001b[0m \u001b[1;33m=\u001b[0m \u001b[0mpl\u001b[0m\u001b[1;33m.\u001b[0m\u001b[0mfigure\u001b[0m\u001b[1;33m(\u001b[0m\u001b[0mfigsize\u001b[0m\u001b[1;33m=\u001b[0m\u001b[1;33m(\u001b[0m\u001b[1;36m12\u001b[0m\u001b[1;33m,\u001b[0m\u001b[1;36m4\u001b[0m\u001b[1;33m)\u001b[0m\u001b[1;33m)\u001b[0m\u001b[1;33m\u001b[0m\u001b[1;33m\u001b[0m\u001b[0m\n\u001b[1;32m----> 4\u001b[1;33m \u001b[0mfig\u001b[0m\u001b[1;33m.\u001b[0m\u001b[0msupxlabel\u001b[0m\u001b[1;33m(\u001b[0m\u001b[1;34m'Time [seconds]'\u001b[0m\u001b[1;33m,\u001b[0m \u001b[0my\u001b[0m\u001b[1;33m=\u001b[0m\u001b[1;33m-\u001b[0m\u001b[1;36m0.08\u001b[0m\u001b[1;33m)\u001b[0m\u001b[1;33m\u001b[0m\u001b[1;33m\u001b[0m\u001b[0m\n\u001b[0m\u001b[0;32m      5\u001b[0m \u001b[0mpl\u001b[0m\u001b[1;33m.\u001b[0m\u001b[0msubplot\u001b[0m\u001b[1;33m(\u001b[0m\u001b[1;36m1\u001b[0m\u001b[1;33m,\u001b[0m\u001b[1;36m2\u001b[0m\u001b[1;33m,\u001b[0m\u001b[1;36m1\u001b[0m\u001b[1;33m)\u001b[0m\u001b[1;33m.\u001b[0m\u001b[0mplot\u001b[0m\u001b[1;33m(\u001b[0m\u001b[0msignal1\u001b[0m\u001b[1;33m)\u001b[0m\u001b[1;33m\u001b[0m\u001b[1;33m\u001b[0m\u001b[0m\n\u001b[0;32m      6\u001b[0m \u001b[0mpl\u001b[0m\u001b[1;33m.\u001b[0m\u001b[0mtitle\u001b[0m\u001b[1;33m(\u001b[0m\u001b[1;34m\"Low noise temperature\"\u001b[0m\u001b[1;33m)\u001b[0m\u001b[1;33m\u001b[0m\u001b[1;33m\u001b[0m\u001b[0m\n",
      "\u001b[1;31mAttributeError\u001b[0m: 'Figure' object has no attribute 'supxlabel'"
     ]
    },
    {
     "data": {
      "text/plain": [
       "<Figure size 864x288 with 0 Axes>"
      ]
     },
     "metadata": {},
     "output_type": "display_data"
    }
   ],
   "source": [
    "signal1 = np.random.randn(1000)\n",
    "signal2 = np.random.randn(1000) * 5\n",
    "fig = pl.figure(figsize=(12,4))\n",
    "fig.supxlabel('Time [seconds]', y=-0.08)\n",
    "pl.subplot(1,2,1).plot(signal1)\n",
    "pl.title(\"Low noise temperature\")\n",
    "pl.ylim(-15,15)\n",
    "pl.ylabel(\"Amplitude [Volts]\")\n",
    "pl.subplot(1,2,2).plot(signal2)\n",
    "pl.title(\"High noise temperature\")\n",
    "pl.ylim(-15,15);"
   ]
  },
  {
   "cell_type": "markdown",
   "metadata": {
    "slideshow": {
     "slide_type": "slide"
    }
   },
   "source": [
    "# Noise Temperature\n",
    "\n",
    "If our \"signal\" is just rapidly varying noise, to measure its amplitude, we square it, then take the average, then square root that to obtain the _root mean squared_ (RMS) of the distribution"
   ]
  },
  {
   "cell_type": "markdown",
   "metadata": {},
   "source": [
    "if just interested in average over all series we can do the below\n",
    "\n",
    "how much total power is coming in\n",
    "\n",
    "if looking at continious source of radiation - sun/ground/moon"
   ]
  },
  {
   "cell_type": "code",
   "execution_count": 6,
   "metadata": {
    "slideshow": {
     "slide_type": "fragment"
    }
   },
   "outputs": [
    {
     "data": {
      "text/plain": [
       "(0.9662243030181618, 4.940266234558376)"
      ]
     },
     "execution_count": 6,
     "metadata": {},
     "output_type": "execute_result"
    }
   ],
   "source": [
    "(signal1**2).mean()**0.5, (signal2**2).mean()**0.5"
   ]
  },
  {
   "cell_type": "markdown",
   "metadata": {
    "slideshow": {
     "slide_type": "fragment"
    }
   },
   "source": [
    "This is equivalent to the standard deviation when the mean is zero"
   ]
  },
  {
   "cell_type": "code",
   "execution_count": 7,
   "metadata": {
    "slideshow": {
     "slide_type": "-"
    }
   },
   "outputs": [
    {
     "data": {
      "text/plain": [
       "(0.9650370371271612, 4.9397049179517545)"
      ]
     },
     "execution_count": 7,
     "metadata": {},
     "output_type": "execute_result"
    }
   ],
   "source": [
    "signal1.std(), signal2.std()"
   ]
  },
  {
   "cell_type": "markdown",
   "metadata": {
    "slideshow": {
     "slide_type": "fragment"
    }
   },
   "source": [
    "Standard Deviation vs RMS: \n",
    "$$\\sigma=\\sqrt{\\frac{1}{N}\\Sigma (y - \\bar{y})^2} $$\n",
    "$$RMS = \\sqrt{\\frac{1}{N} \\Sigma y^2}$$"
   ]
  },
  {
   "cell_type": "markdown",
   "metadata": {},
   "source": [
    "rms - sqrt of the mean squared\n",
    " - sqrt of sum of each element squared\n",
    " \n",
    "stdev - subtracts off the mean first \n",
    "-  sum of each value - mean squared\n",
    "\n",
    "if mean = 0 then they're the same"
   ]
  },
  {
   "cell_type": "markdown",
   "metadata": {
    "slideshow": {
     "slide_type": "slide"
    }
   },
   "source": [
    "# Noise\n",
    "\n",
    "The thermal noise level is:\n",
    "\n",
    "$$\\sigma_T \\propto \\frac{T_{sys}}{\\sqrt{\\Delta \\nu \\tau}}$$\n",
    "\n",
    "where $\\Delta \\nu$ is the bandwidth, $\\tau$ is the integration time, and $T_{sys}$ is the system temperature"
   ]
  },
  {
   "cell_type": "markdown",
   "metadata": {},
   "source": [
    "noise level present in our system from thermal background? sigma t\n",
    "\n",
    "system temp / sqrt of band width times integration time \n",
    "\n",
    "the warmer your background is the greater your noise\n",
    "\n",
    "Tsys - temp antenna records when looking at nothing\n",
    "\n",
    "lower with larger bandwidth - letting in more photons\n",
    "\n",
    "lower with longer integration time b/c letting more photons in"
   ]
  },
  {
   "cell_type": "markdown",
   "metadata": {
    "slideshow": {
     "slide_type": "slide"
    }
   },
   "source": [
    "# Terminology confusion: Our signal is noise.\n",
    "\n",
    "The _power_ we measure is the amplitude of our randomly-varying voltage.\n",
    "\n",
    "We measure the standard deviation of the voltage to determine the power.\n",
    "\n",
    "This _noise_ is our signal!"
   ]
  },
  {
   "cell_type": "markdown",
   "metadata": {
    "slideshow": {
     "slide_type": "slide"
    }
   },
   "source": [
    "# System Temperature $ $\n",
    "$$\\mathbf{{T_{sys}}} = T_{atmosphere} + T_{CMB} + T_{astrophysical source} + T_{spillover} + T_{receiver} + ...$$\n",
    "\n",
    "The System Temperature defines the total noise of our system, and it is comprised of many parts.\n"
   ]
  },
  {
   "cell_type": "markdown",
   "metadata": {},
   "source": [
    "what is actual Tsys we're measuring?\n",
    "\n",
    "Treceiver - would cryogenically cool if had the means to, intrinsic\n",
    "\n",
    "Tatmosphere - assume atmosphere at about 0 celcuius or 300 K muntiply times optical depth b/c using radio transfer equation\n",
    " - when looking at longer wavelengths this term is pretty much negligable\n",
    " - when you get up to 100 GHz then it starts to depend on how much water is above you\n",
    " \n",
    "Tspillover - radiation coming through or around telescope \n",
    " - picks up signals through mesh from the ground\n",
    " - can exclude alot of this 15 cm and longer, no wavelenght larger than seepperation b/t the slats\n",
    " - otherwise we can put filters to eliminate \n",
    " \n",
    "Tcmb - unavoidable \n",
    "\n",
    "Tsource - additional noise temp added by object we're looking at \n",
    " - usually rlly small then all other things\n"
   ]
  },
  {
   "cell_type": "markdown",
   "metadata": {
    "slideshow": {
     "slide_type": "slide"
    }
   },
   "source": [
    "# System Temperature: $T_{receiver}$\n",
    "\n",
    "$$T_{sys} = T_{atmosphere} + T_{CMB} + T_{astrophysical source} + T_{spillover} + \\mathbf{T_{receiver}} + ...$$\n",
    "\n",
    "\n",
    "$T_{receiver}$ is intrinsic to the receiver system.  "
   ]
  },
  {
   "cell_type": "markdown",
   "metadata": {
    "slideshow": {
     "slide_type": "slide"
    }
   },
   "source": [
    "# System Temperature: $T_{atmosphere}$\n",
    "\n",
    "$$T_{sys} = \\mathbf{T_{atmosphere}} + T_{CMB} + T_{astrophysical source} + T_{spillover} + T_{receiver} + ...$$\n",
    "\n",
    "\n",
    "$T_{atmosphere}$ is the noise from the atmosphere, usually assumed to be 273 K times the optical depth $\\tau$ (formally, times $(1-e^{-\\tau})$, but this approximates to $\\tau$ when $\\tau<<1$).  \n",
    "\n",
    "At 20 cm, the atmosphere is nearly transparent, with $\\tau<<1$, so $T_{atmosphere} \\approx 0$"
   ]
  },
  {
   "cell_type": "markdown",
   "metadata": {
    "slideshow": {
     "slide_type": "slide"
    }
   },
   "source": [
    "# System Temperature: $T_{spillover}$\n",
    "\n",
    "$$T_{sys} = T_{atmosphere} + T_{CMB} + T_{astrophysical source} + \\mathbf{T_{spillover}} + T_{receiver} + ...$$\n",
    "\n",
    "\n",
    "$T_{spillover}$ is from radiation coming through the telescope structure - our telescope has holes, so the ground radiation actually comes through it into the receiver.\n",
    "\n",
    "We exclude most of this radiation using our *bandpass filter* that keeps out unwanted frequencies."
   ]
  },
  {
   "cell_type": "markdown",
   "metadata": {
    "slideshow": {
     "slide_type": "slide"
    }
   },
   "source": [
    "# System Temperature: $T_{CMB}$\n",
    "\n",
    "$$T_{sys} = T_{atmosphere} + \\mathbf{T_{CMB}} + T_{astrophysical source} + T_{spillover} + T_{receiver} + ...$$\n",
    "\n",
    "\n",
    "$T_{CMB}$ is the CMB temperature of 2.73 degrees.  If we're looking up, it's there."
   ]
  },
  {
   "cell_type": "markdown",
   "metadata": {
    "slideshow": {
     "slide_type": "slide"
    }
   },
   "source": [
    "# System Temperature: $T_{source}$\n",
    "\n",
    "$$T_{sys} = T_{atmosphere} + T_{CMB} + \\mathbf{T_{astrophysical~ source}} + T_{spillover} + T_{receiver} + ...$$\n",
    "\n",
    "\n",
    "$T_{astrophysical~source}$ is the noise temperature added by whatever we're looking at.\n",
    "\n",
    "It's usually *tiny* compared to everything else!"
   ]
  },
  {
   "cell_type": "markdown",
   "metadata": {
    "slideshow": {
     "slide_type": "slide"
    }
   },
   "source": [
    "# System Temperature: Measurement\n",
    "\n",
    "How do we know the system temperature?\n",
    "\n",
    "Usually we measure it by measuring some known source.  We use *calibration* measurements."
   ]
  },
  {
   "cell_type": "markdown",
   "metadata": {},
   "source": [
    "look at known source, to calibrate"
   ]
  },
  {
   "cell_type": "markdown",
   "metadata": {
    "slideshow": {
     "slide_type": "slide"
    }
   },
   "source": [
    "# System Gain\n",
    "\n",
    "\"Gain\" is a frequently-used term that can take on many meanings.  Here we define it as:\n",
    "\n",
    "$$P_\\nu = G k_B T_{\\rm sys}$$\n",
    "\n",
    "i.e., the gain $G$ is the additional multiplicative factor needed to convert from power to system temperature.  \n",
    "\n",
    "It is an \"efficiency factor\" that converts between the source brightness (which is intrinsic to the source) and the received power (which depends on your hardware)"
   ]
  },
  {
   "cell_type": "markdown",
   "metadata": {},
   "source": [
    "the way we translate from power on device to physical temperrature - gain\n",
    "\n",
    "antenna gain - used to convert from system temp to power \n"
   ]
  },
  {
   "cell_type": "markdown",
   "metadata": {
    "slideshow": {
     "slide_type": "slide"
    }
   },
   "source": [
    "# Signals, Temperatures, and Gain\n",
    "\n",
    "When we measure on-sky signals, we just get a number from the receiver.  It is in volts or some unit equivalent to volts.  What does this number mean about the target source, though?\n",
    "\n",
    "On face, we don't know - maybe an electronics guru could tell us approximately, but in practice, we just *measure* the gain by looking at a known source."
   ]
  },
  {
   "cell_type": "markdown",
   "metadata": {},
   "source": [
    "things we're actually measuring w/ sdr - related to electrical potential across some component in ADC\n",
    "\n",
    "interested in what it tells us abt the target source "
   ]
  },
  {
   "cell_type": "markdown",
   "metadata": {
    "slideshow": {
     "slide_type": "slide"
    }
   },
   "source": [
    "# Calibration: Measuring a known source\n",
    "\n",
    "We have talked about three things we can look at:\n",
    "\n",
    " 1. the Galaxy\n",
    " 1. the Sun\n",
    " 1. the Moon\n",
    "\n",
    "From lots of other independent measurements, we have a pretty good idea of what signal the sun and moon provide.  We can use them as calibrators!"
   ]
  },
  {
   "cell_type": "markdown",
   "metadata": {},
   "source": []
  },
  {
   "cell_type": "markdown",
   "metadata": {
    "slideshow": {
     "slide_type": "slide"
    }
   },
   "source": [
    "## Calibration: What do other telescopes do?\n",
    "\n",
    "Our telescope is not a typical radio astronomy telescope used for research today, it is much smaller and less sensitive.\n",
    "\n",
    "Big telescopes look at fainter targets for their calibration.\n",
    "\n"
   ]
  },
  {
   "cell_type": "markdown",
   "metadata": {
    "slideshow": {
     "slide_type": "slide"
    }
   },
   "source": [
    "Calibration approaches:\n",
    " * ALMA (big interferometer) looks at planets and asteroids, like Pluto, Uranus, and Ceres for its absolute calibration.  We know how warm these are.\n",
    " * The GBT (100m) sometimes looks at the moon and Jupiter\n",
    " * The VLA looks at \"known\" sources and... honestly I don't get how they know.\n",
    " * Medium-sized telescopes, like the Caltech Submillimeter Observatory (defunct), the James Clerk Maxwell Telescope, and the IRAM millimeter telescope use bright planets like Mars and sometimes Jupiter and Saturn\n",
    " * Some instruments will be calibrated with \"hot load\" / \"cold load\" calibration: have a human stand in front (T=309 K), then dip a block of material in liquid nitrogen (T=77 K) and wave it in front"
   ]
  },
  {
   "cell_type": "code",
   "execution_count": null,
   "metadata": {},
   "outputs": [],
   "source": []
  },
  {
   "cell_type": "markdown",
   "metadata": {
    "slideshow": {
     "slide_type": "slide"
    }
   },
   "source": [
    "# Calibration\n",
    "\n",
    "We observe a known source, then we observe away from that source:\n",
    "\n",
    "$$P_1 = G k_B (T_{sys} + T_{hot})$$\n",
    "$$P_2 = G k_B (T_{sys} + T_{cold})$$\n",
    "\n",
    "$G$ is Gain, $k_B$ is the Boltzmann constant, $T_{sys}$ is the system temperature, $T_{hot}$ is the hot load temperature (an actual physical temperature), and $T_{cold}$ is the cold load temperature.\n",
    "\n"
   ]
  },
  {
   "cell_type": "markdown",
   "metadata": {
    "slideshow": {
     "slide_type": "fragment"
    }
   },
   "source": [
    "If you know both $T_{hot}$ and $T_{cold}$, and you measure $P_1$ and $P_2$, you can measure $T_{sys}$ and $G$:\n"
   ]
  },
  {
   "cell_type": "markdown",
   "metadata": {
    "slideshow": {
     "slide_type": "slide"
    }
   },
   "source": [
    "$$P_2 = G k_B (T_{sys} + T_{cold})$$\n",
    "\n",
    "\n",
    "First, rearrange to solve for $T_{sys}$ as a function of $P_2$:  \n",
    "\n",
    "$$T_{sys} = \\frac{P_2}{G k_B} - T_{cold}$$\n"
   ]
  },
  {
   "cell_type": "markdown",
   "metadata": {
    "slideshow": {
     "slide_type": "fragment"
    }
   },
   "source": [
    "\n",
    "then plug that into the $P_1$ equation $P_1 = G k_B (T_{sys} + T_{hot})$\n",
    " to get:\n",
    "\n",
    "$$P_1 = G k_b \\left(\\frac{P_2}{G k_B} - T_{cold} + T_{hot}\\right) = P_2 + G k_B \\left(T_{hot} - T_{cold}\\right)$$"
   ]
  },
  {
   "cell_type": "markdown",
   "metadata": {
    "slideshow": {
     "slide_type": "fragment"
    }
   },
   "source": [
    "which, solved for G, gives:\n",
    "$$G = \\frac{P_1 - P_2}{k_B (T_{hot} - T_{cold})} $$"
   ]
  },
  {
   "cell_type": "markdown",
   "metadata": {
    "slideshow": {
     "slide_type": "slide"
    }
   },
   "source": [
    "This \"gain\" will have units of Watts per Hertz or ergs/second/Hertz.\n",
    "\n",
    "We often instead want to have our measurement in Janskys, erg / second / cm$^2$ / Hertz / steradian.\n",
    "\n",
    "The \"per centimeter squared\" comes from the collecting area of our telescope. - band width not frequency we're measuring at\n",
    "\n",
    "The \"per Hertz\" is the bandwidth of our observation.\n",
    "\n",
    "The \"per steradian\" is the area of our beam on the sky"
   ]
  },
  {
   "cell_type": "code",
   "execution_count": 8,
   "metadata": {},
   "outputs": [
    {
     "data": {
      "text/plain": [
       "1e-23"
      ]
     },
     "execution_count": 8,
     "metadata": {},
     "output_type": "execute_result"
    }
   ],
   "source": [
    "u.Jy.to(u.erg/u.s/u.cm**2/u.Hz)"
   ]
  },
  {
   "cell_type": "markdown",
   "metadata": {
    "slideshow": {
     "slide_type": "slide"
    }
   },
   "source": [
    "# Source Equivalent Flux Density (SEFD)\n",
    "\n",
    "The Power (which we write as *antenna temperature* $T_A$) is proportional to the SEFD in Jy\n",
    "\n",
    "$$T_{A} = \\frac{S_\\nu A_{eff}}{2 k_B} $$\n",
    "\n",
    "Where $S_\\nu$ is the flux of the target source in Janskys and $A_{eff}$ is the *effective* collecting area of the telescope.  \n",
    "\n",
    "The factor of 2 comes from only receiving one of two polarizations of light."
   ]
  },
  {
   "cell_type": "markdown",
   "metadata": {},
   "source": [
    "w any given receiver system generrally only measure 1 polorization of light "
   ]
  },
  {
   "cell_type": "markdown",
   "metadata": {
    "slideshow": {
     "slide_type": "slide"
    }
   },
   "source": [
    "# Effective Area\n",
    "\n",
    "Our telescope has some area, but it also has some *inefficiency*.  Not every photon that hits the reflector makes it into our receiver."
   ]
  },
  {
   "cell_type": "markdown",
   "metadata": {},
   "source": [
    "b/c we're not collecting all of the possible signal"
   ]
  },
  {
   "cell_type": "markdown",
   "metadata": {
    "slideshow": {
     "slide_type": "slide"
    }
   },
   "source": [
    "# Prediction: What signal will we receive if we look at a star?\n",
    "\n",
    "Let's say we look at Proxima Centauri.  \n",
    "\n",
    "It is at a distance $D=1.3$ pc.  It has a radius of 0.15 $R_\\odot$.  It has a temperature $T \\approx 3000$ K.\n",
    "\n",
    "What do we see?\n",
    "\n",
    "(do the math)"
   ]
  },
  {
   "cell_type": "markdown",
   "metadata": {
    "slideshow": {
     "slide_type": "slide"
    }
   },
   "source": [
    "This is the same calculation we used for the sun.  \n",
    "\n",
    " * We assume our beam area is $\\pi (0.45 \\lambda / Diameter)^2$ = 0.0113 steradians\n",
    " * The angular area of the star is $\\pi (sin^{-1}(R / Distance))^2 \\approx \\pi (R/D)^2= 2.1\\times10^{-17}$ steradians\n",
    " * The filling factor is $ff\\sim10^{-15}$!!\n",
    " * The *brightness temperature* $T_B \\sim 10^{-12}$ K.  We can't see that."
   ]
  },
  {
   "cell_type": "code",
   "execution_count": null,
   "metadata": {},
   "outputs": [],
   "source": []
  }
 ],
 "metadata": {
  "kernelspec": {
   "display_name": "Python 3",
   "language": "python",
   "name": "python3"
  },
  "language_info": {
   "codemirror_mode": {
    "name": "ipython",
    "version": 3
   },
   "file_extension": ".py",
   "mimetype": "text/x-python",
   "name": "python",
   "nbconvert_exporter": "python",
   "pygments_lexer": "ipython3",
   "version": "3.8.5"
  },
  "rise": {
   "transition": "none"
  }
 },
 "nbformat": 4,
 "nbformat_minor": 4
}

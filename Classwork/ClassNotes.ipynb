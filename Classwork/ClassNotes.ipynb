{
 "cells": [
  {
   "cell_type": "markdown",
   "metadata": {},
   "source": [
    "# Class Notes 8/29/2022"
   ]
  },
  {
   "cell_type": "markdown",
   "metadata": {},
   "source": [
    "## Spectroscopy\n",
    "Spectroscopy - measurement of light/intensity or brightness as a func of wavelength\n",
    "\n",
    "usually resserved for $ R = \\frac{\\lambda}{\\delta \\lambda} $"
   ]
  },
  {
   "cell_type": "markdown",
   "metadata": {},
   "source": [
    "### How increase spectral resolution\n",
    "\n",
    "1. Heterodyne measurement \n",
    " - radio R ` 10^6\n",
    " \n",
    "2. Energy-sensitive detectors \n",
    " - xray: each photon produces > 1 e- w/ n(e-) proportional E(\\lambda)\n",
    " - wavelengths shorter than xray\n",
    "\n",
    "3. Disperse (spread) such wavelength \\lambda corresponds to location on detector\n",
    " - used at all \\lambda"
   ]
  },
  {
   "cell_type": "markdown",
   "metadata": {},
   "source": [
    "### Light Dispersion\n",
    "\n",
    "1. Prisms\n",
    "2. Transmission Gratings\n",
    "3. Reflection Gratings\n",
    "4. Grisms "
   ]
  },
  {
   "cell_type": "markdown",
   "metadata": {},
   "source": [
    "Dispersion - spreading light so diff colors land in diff places\n",
    "\n",
    "W/ color sensitive camera w/ broad band filters you can see separated light\n",
    "\n",
    "problem - diff colors still land on top of eachother. CCDs generally insitive to color, therefore can't tell color ni overlap"
   ]
  },
  {
   "cell_type": "markdown",
   "metadata": {},
   "source": [
    "### Diffraction to spread light\n",
    "\n",
    "Once light is spread it needs to be brought into focus "
   ]
  },
  {
   "cell_type": "markdown",
   "metadata": {},
   "source": [
    "### Telescope Optics\n",
    "\n",
    "f number f/# or focal ratio is the ratio of the focal length to the entrance pupil diameter"
   ]
  },
  {
   "cell_type": "markdown",
   "metadata": {},
   "source": [
    "### Simple telescope\n",
    "\n",
    "single lense can bring light to focus on detector. Prime focus telescope.\n",
    "\n"
   ]
  },
  {
   "cell_type": "markdown",
   "metadata": {},
   "source": [
    "### Focal length and plate scale\n",
    "\n",
    "Plate scale is ratio of angular size of target to physical size of image \n",
    "\n",
    "$ p = \\frac{\\theta}{s} = \\frac{1}{f} $\n",
    "\n",
    "Image size $s$ is $ s = \\theta f$ in small angle approx, f is focal length\n",
    "\n",
    "In terms of $ N = f/# = f/D $ the size is then $ s=\\theta N D $\n",
    "\n",
    "Focal length will determine image size"
   ]
  },
  {
   "cell_type": "markdown",
   "metadata": {},
   "source": [
    "### Focal Ratio Ex\n",
    "\n",
    "f/8 telescope w/ 10 cm diameter\n",
    "\n",
    "How big will 2-arcsec image ( star blurred by atmosphere) appear?\n",
    "\n",
    "\n",
    "$ p = \\frac{\\theta}{s} = \\frac{1}{f} $\n",
    "\n",
    "2 arcsec = 9.6963e-6 radians \n",
    "\n",
    "$ p = \\frac{9.6963e-6}{10 m} $"
   ]
  },
  {
   "cell_type": "code",
   "execution_count": 2,
   "metadata": {},
   "outputs": [],
   "source": [
    "from astropy import units as u\n",
    "import numpy as np\n",
    "\n",
    "arcsec = 2*u.arcsec\n",
    "#starsize = \n",
    "\n",
    "#imagesize = np.sin(starsize) * focal_length\n"
   ]
  },
  {
   "cell_type": "markdown",
   "metadata": {},
   "source": [
    "### Detector\n",
    "\n",
    "Most CCDs 5-20 microns "
   ]
  },
  {
   "cell_type": "markdown",
   "metadata": {},
   "source": [
    "### How get bigger image size s?\n",
    "\n",
    "1. increase telescope diameter\n",
    "2. increase F/# which means changing shape of beam\n",
    "\n",
    "\\theta cant change, it's the size of the objext. For normal observations its always about 1 arcsecond"
   ]
  },
  {
   "cell_type": "markdown",
   "metadata": {},
   "source": [
    "### Professional Telescopes \n",
    "\n",
    "For prof telescoope where D = 8 the image is too big\n",
    "\n",
    "Don't want to reduce diameter so we reduce focal ratio F/#\n",
    "\n",
    "we do this with a focal reducer or reimager "
   ]
  },
  {
   "cell_type": "markdown",
   "metadata": {},
   "source": [
    "### Focal Reducer\n",
    "\n",
    "focal reducer can reduce focal ratio and length \n",
    "$ f_{new} = f_{old}( 1 - \\frac{d}{f_{reducer}}) $"
   ]
  },
  {
   "cell_type": "markdown",
   "metadata": {},
   "source": [
    "### Light Dispersers - Best w/ parallel rays\n",
    "\n",
    "want light incoming to be parallel\n",
    "\n",
    "Requirement for parallel rays isnt strict. Can design spectrgraphs that disperse converging beams\n",
    "\n",
    "To work w/ parallel rays can use incoming light before it hits telescope or can use collimator "
   ]
  },
  {
   "cell_type": "markdown",
   "metadata": {},
   "source": [
    "###"
   ]
  },
  {
   "cell_type": "markdown",
   "metadata": {},
   "source": [
    "### Reimager - tool for working w/ collimated light \n",
    "\n",
    "2nd lense is collimator - it has same f/# as telescope optics so brings light back out to be parallel but smaller so smaller set of rays to work with.\n",
    "\n",
    "Another lense behind collimater  camera lense.\n",
    "\n",
    "reimager has effective focal length of focal length of the camera so $ s = f_{cam} \\theta$\n",
    "\n",
    "Reimager gives access to collimated beam, parallel light rays"
   ]
  },
  {
   "cell_type": "markdown",
   "metadata": {},
   "source": [
    "### Collimated Beam\n",
    "\n",
    " incoming light stream w/ all parallel rays\n",
    " \n",
    " Rays coming in to telescope aperture are also parallel however in reimager they are compressed"
   ]
  },
  {
   "cell_type": "markdown",
   "metadata": {},
   "source": [
    "### Slits and Dispersed Light\n",
    "\n",
    "Reimager allows you to do things like block out part of the sky\n",
    "\n",
    "To blick out all light expect from the star, place a slit at the telescope focus\n",
    "\n",
    "Slits help avoid light overlap and block out unwanted light"
   ]
  },
  {
   "cell_type": "markdown",
   "metadata": {},
   "source": [
    "### Dispersers\n",
    "\n",
    "Most commonlyused light disperser is diffraction grating. Prisms are also used\n",
    "\n",
    "Diffraction - process of passing light through a gap"
   ]
  },
  {
   "cell_type": "markdown",
   "metadata": {},
   "source": [
    "### Diffraction Grating\n",
    "\n",
    "produces interfearence paterns. Use constructive and deconstructive to produce our pattern"
   ]
  },
  {
   "cell_type": "markdown",
   "metadata": {},
   "source": [
    "### Condition for constructive interfearance\n",
    "\n",
    "$$ n\\lambda = d sin\\theta $$\n",
    "\n",
    "Anywhere not straight along axis any two rays will reach the peak of their wave at some fixed position, whenever that number waves is an intiger then constructive interfearance.\n",
    "\n",
    "Red consctructive interfearance happens at diff place than green and blue b/c it is a function of wavelength. "
   ]
  },
  {
   "cell_type": "markdown",
   "metadata": {},
   "source": [
    "### Icident Angle Matters\n",
    "\n",
    "grating equation is modified for nonzero incident angle $ d(sin\\theta_i + sin\\theta_o) = n\\lambda $"
   ]
  },
  {
   "cell_type": "markdown",
   "metadata": {},
   "source": [
    "### Spectrograph w/ reflection grating\n",
    "\n",
    "need incident angle to be nonzero otherwise we get internal reflections, generally results in alot of reflection wich is bad"
   ]
  },
  {
   "cell_type": "markdown",
   "metadata": {},
   "source": [
    "### "
   ]
  },
  {
   "cell_type": "markdown",
   "metadata": {},
   "source": [
    "# Notes 8/31/2022"
   ]
  },
  {
   "cell_type": "markdown",
   "metadata": {},
   "source": [
    "### Diffraction Grating - # of slits\n",
    "\n",
    "2 element interferometer produces a peak\n",
    "\n",
    "Adding slits changes the pattern\n",
    "\n",
    "More gaps, more narrow, bottoms/nulls become more borad and flat"
   ]
  },
  {
   "cell_type": "markdown",
   "metadata": {},
   "source": [
    "### Real gaps have finite width\n",
    "\n",
    "infatesimaly small slits give nice flat plattern\n",
    "\n",
    "Slits w/ finite width gives gausian curve, gap size superimposed, more light straight on\n",
    "\n",
    "Aiery function - is Point Spread Function \n",
    "\n",
    "Aiery pattern w/ finite width"
   ]
  },
  {
   "cell_type": "markdown",
   "metadata": {},
   "source": [
    "### Overlapping Orders\n",
    "\n",
    "Largest peak, 0th peak, then st, and 2nd,\n",
    "\n",
    "Dispersion angle from orders > 0 changes w/ wavelength\n",
    "\n",
    "For monochromatic spectrum,  no problem. Real spectrum is polychromatic\n",
    "\n",
    "In this spectra short wavelengths of high orders overlap w/ long wavelengths of low orders\n",
    "\n",
    "Overlap provides 1 limitation on free spectral range - maximum wavelength range that can be observed w/ a given spectrograph\n",
    "\n",
    "FSR can be estemated on order of central wavelength $ ~ \\lambda $"
   ]
  },
  {
   "cell_type": "markdown",
   "metadata": {},
   "source": [
    "## End this lecture series"
   ]
  },
  {
   "cell_type": "markdown",
   "metadata": {},
   "source": []
  },
  {
   "cell_type": "markdown",
   "metadata": {},
   "source": [
    "### Grating Equation\n",
    " Grating eqn determines where constructive itergerence occurs - $ n \\lambda = D sin \\theta $\n",
    " \n",
    " - n order number must be integer\n",
    " - $\\lambda$ wavelength\n",
    " - D is distance b/t holes/gaps in grating\n",
    " - $\\theta$ is angle defined such $\\theta $= 0 is perpendicular \n",
    " \n",
    "What happens when theta = 0?\n",
    " \n",
    "$ n \\lambda = 0$ so $n = 0 $\n",
    "\n",
    "Theta = 30?\n",
    "\n",
    "$n \\lambda = Dsin(30)$\n",
    "\n",
    "$n \\lambda = D/2$\n",
    "\n",
    "\n",
    "Say gap sepperation D = 0.1 nm and we observe $\\lambda$ wavelength of\n",
    "\n",
    "we need $n = D/2/ \\lambda$ or n =100\n"
   ]
  },
  {
   "cell_type": "code",
   "execution_count": 6,
   "metadata": {},
   "outputs": [
    {
     "data": {
      "text/latex": [
       "$0.0001 \\; \\mathrm{}$"
      ],
      "text/plain": [
       "<Quantity 0.0001>"
      ]
     },
     "execution_count": 6,
     "metadata": {},
     "output_type": "execute_result"
    }
   ],
   "source": [
    "from astropy import units as u\n",
    "ordernum = (0.1*u.nm) / 2 / (500*u.nm)\n",
    "ordernum"
   ]
  },
  {
   "cell_type": "code",
   "execution_count": 7,
   "metadata": {},
   "outputs": [
    {
     "data": {
      "text/latex": [
       "$0.0001 \\; \\mathrm{}$"
      ],
      "text/plain": [
       "<Quantity 0.0001>"
      ]
     },
     "execution_count": 7,
     "metadata": {},
     "output_type": "execute_result"
    }
   ],
   "source": [
    "ordernum.decompose()"
   ]
  },
  {
   "cell_type": "markdown",
   "metadata": {},
   "source": [
    "Same example but d = 0.1 nm and theta = 30 degrees but lambda = 510 nm"
   ]
  },
  {
   "cell_type": "code",
   "execution_count": 11,
   "metadata": {},
   "outputs": [
    {
     "data": {
      "text/latex": [
       "$9.8039216 \\times 10^{-5} \\; \\mathrm{}$"
      ],
      "text/plain": [
       "<Quantity 9.80392157e-05>"
      ]
     },
     "execution_count": 11,
     "metadata": {},
     "output_type": "execute_result"
    }
   ],
   "source": [
    "d = 0.1*u.nm\n",
    "theta = 30\n",
    "wavelength = 510*u.nm\n",
    "\n",
    "ordernum1 = d / 2 / wavelength\n",
    "ordernum1.decompose()"
   ]
  },
  {
   "cell_type": "markdown",
   "metadata": {},
   "source": [
    "Gratings are rarely operated at high orders but sometimes other spectrographs will "
   ]
  },
  {
   "cell_type": "markdown",
   "metadata": {},
   "source": [
    "### Grating Eqn - Dispersion\n",
    "\n",
    "How much is light spread out?\n",
    "\n",
    "take derivaive d/d theta where lambda is treated as $\\lambda(\\theta)$\n",
    "\n",
    "$ d\\lambda / d\\theta = Dcos\\theta / n $ or the inverse\n",
    "\n",
    "Tells us how much we expect angle to change as a function of wavelength - tells you how far sepparated diff wavelengths will be at this theta\n",
    "\n",
    "We would like to know how far apart wavelengths will be on our detector\n",
    "\n",
    "$ S_{ize of image} = x = f_{ocal length} \\theta \\approx f_{cam} \\theta $\n",
    "\n",
    "Derivative of this $ \\frac{dx}{d\\theta} = f_{cam} $\n",
    "\n",
    "can expand dx/d\\lambda to $ dx/d\\lambda = \\frac{dx}{d\\theta} \\frac{d\\theta}{d\\lambda} $"
   ]
  },
  {
   "cell_type": "markdown",
   "metadata": {},
   "source": [
    "### Linear dispersion o Spectrograph\n",
    "$$ \\frac{dx}{d\\lambda} = \\frac{f_{cam}n}{Dcos\\theta} $$\n",
    "\n",
    "Increases linearly with order number and with camera focal length (longer focal length = greater dispersion)"
   ]
  },
  {
   "cell_type": "markdown",
   "metadata": {},
   "source": [
    "### Spectrograph and Detector Size\n",
    "\n",
    "spectroograph with camera focal lenght 10 cm and grating line sep of D = 0.1 nm and order 1 n= 1 what is wavelength separation b/t 10 nano meter pixles?"
   ]
  },
  {
   "cell_type": "code",
   "execution_count": 13,
   "metadata": {},
   "outputs": [
    {
     "data": {
      "text/latex": [
       "$0.1 \\; \\mathrm{\\frac{nm^{2}}{cm}}$"
      ],
      "text/plain": [
       "<Quantity 0.1 nm2 / cm>"
      ]
     },
     "execution_count": 13,
     "metadata": {},
     "output_type": "execute_result"
    }
   ],
   "source": [
    "f = 10*u.cm\n",
    "D = 0.1*u.nm\n",
    "n = 1 \n",
    "pix = 10*u.nm\n",
    "\n",
    "del_lam = (pix*D) / (f*n)\n",
    "del_lam"
   ]
  },
  {
   "cell_type": "markdown",
   "metadata": {},
   "source": [
    "answer 10 nm"
   ]
  },
  {
   "cell_type": "markdown",
   "metadata": {},
   "source": [
    "### Spectral Intensity Distribution\n",
    "\n",
    "$ I = I_0 (\\frac{sin\\alpha}{\\alpha})^2 (\\frac{sin(N\\beta)}{sin\\beta})^2 $\n",
    "\n",
    "- a - width of gap\n",
    "- d - separation b/t lines\n",
    "- alpha - pi a / wavelength sin theta\n",
    "- beta - pi D / lambda sin theta"
   ]
  },
  {
   "cell_type": "markdown",
   "metadata": {},
   "source": [
    "Pattern is usually 0 when sinN beta = 0, not interested in alpha = 0 or theta = 0, no dispersion\n",
    "\n",
    "Sin(N beta) = 0 if argument $ N \\beta = \\frac{N \\pi D}{\\lambda} sin\\theta = n' \\pi $"
   ]
  },
  {
   "cell_type": "markdown",
   "metadata": {},
   "source": []
  },
  {
   "cell_type": "markdown",
   "metadata": {},
   "source": []
  },
  {
   "cell_type": "markdown",
   "metadata": {},
   "source": []
  }
 ],
 "metadata": {
  "kernelspec": {
   "display_name": "Python 3",
   "language": "python",
   "name": "python3"
  },
  "language_info": {
   "codemirror_mode": {
    "name": "ipython",
    "version": 3
   },
   "file_extension": ".py",
   "mimetype": "text/x-python",
   "name": "python",
   "nbconvert_exporter": "python",
   "pygments_lexer": "ipython3",
   "version": "3.8.5"
  }
 },
 "nbformat": 4,
 "nbformat_minor": 4
}

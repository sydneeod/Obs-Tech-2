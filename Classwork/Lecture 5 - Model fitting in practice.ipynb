{
 "cells": [
  {
   "cell_type": "code",
   "execution_count": 2,
   "metadata": {},
   "outputs": [],
   "source": [
    "%matplotlib inline\n",
    "import pylab as pl\n",
    "from astropy import units as u, constants, visualization\n",
    "visualization.quantity_support()\n",
    "pl.style.use('dark_background')"
   ]
  },
  {
   "cell_type": "markdown",
   "metadata": {
    "slideshow": {
     "slide_type": "slide"
    }
   },
   "source": [
    "# Model Fitting & Measurement in practice\n",
    "\n",
    "AST 4723"
   ]
  },
  {
   "cell_type": "markdown",
   "metadata": {
    "slideshow": {
     "slide_type": "slide"
    }
   },
   "source": [
    "# Measurements\n",
    "\n",
    "We can make several measurements from the spectra we've obtained:\n",
    "\n",
    "1. The frequency of the line\n",
    "2. The intensity of the line"
   ]
  },
  {
   "cell_type": "markdown",
   "metadata": {
    "slideshow": {
     "slide_type": "slide"
    }
   },
   "source": [
    "# Line Profiles\n",
    "\n",
    "So what is a \"spectral line\" anyway?\n",
    "\n",
    "The HI spin-flip transition is a quantum process that produces a photon at a specific frequency, and it *always* produces a photon at that frequency - in the rest frame of the particle.  (exceptions to be discussed in a later lecture)"
   ]
  },
  {
   "cell_type": "markdown",
   "metadata": {
    "slideshow": {
     "slide_type": "slide"
    }
   },
   "source": [
    "# Line Profiles - Doppler Shift\n",
    "\n",
    "The \"line profile\" we observe is caused by *doppler shift* in the line center.\n",
    "\n",
    "The Doppler formula (in the \"radio convention\" approximation) is:\n",
    "\n",
    "$$ \\frac{\\Delta v}{c} = \\frac{\\nu_{rest} - \\nu_{observed}}{\\nu_{rest}} $$"
   ]
  },
  {
   "cell_type": "markdown",
   "metadata": {
    "slideshow": {
     "slide_type": "slide"
    }
   },
   "source": [
    "# Line Profiles - Doppler Shift\n",
    "\n",
    "What causes $\\nu_{observed}$ to vary, then?\n",
    "\n",
    "Often the most important process is *thermal broadening*.\n",
    "\n",
    "Particles in a gas move according to the Maxwell-Boltzmann Distribution"
   ]
  },
  {
   "cell_type": "markdown",
   "metadata": {
    "slideshow": {
     "slide_type": "slide"
    }
   },
   "source": [
    "# Maxwell-Boltzmann distribution\n",
    "\n",
    "<img src=\"https://upload.wikimedia.org/wikipedia/commons/thumb/8/82/Simulation_of_gas_for_relaxation_demonstration.gif/450px-Simulation_of_gas_for_relaxation_demonstration.gif\" style=\"max-height: 600px\">\n"
   ]
  },
  {
   "cell_type": "markdown",
   "metadata": {
    "slideshow": {
     "slide_type": "slide"
    }
   },
   "source": [
    "# Line Profiles - Maxwell-Boltzmann Distribution\n",
    "\n",
    "The Maxwell-Boltzmann velocity vector distribution tells you how fast a particle is moving along your line-of-sight.  \n",
    "\n",
    "$$c_s = \\sqrt{\\frac{k_B T}{m}}$$\n",
    "\n",
    "$k_B$ is Boltzmann's constant, $T$ is the gas temperature, and $m$ is the particle mass.  $c_s$ is the *speed of sound*, and is the width of the Boltzmann velocity distribution for an isothermal (single-temperature) gas. "
   ]
  },
  {
   "cell_type": "markdown",
   "metadata": {
    "slideshow": {
     "slide_type": "slide"
    }
   },
   "source": [
    "This gives a probability distribution:\n",
    "\n",
    "$$p(v_{los}) = \\exp\\left[\\frac{-v_{los}^2}{2 c_s^2}\\right] = \\exp\\left[\\frac{-m v_{los}^2}{2 k_B T}\\right]$$"
   ]
  },
  {
   "cell_type": "markdown",
   "metadata": {
    "slideshow": {
     "slide_type": "slide"
    }
   },
   "source": [
    "# Line Profiles - Maxwell-Boltzmann Distribution\n",
    "\n",
    "This is a Gaussian distribution, $f(x) \\propto e^{-x^2}$:\n",
    "\n",
    "$$p(v_{los}) = \\exp\\left[\\frac{-v_{los}^2}{2 c_s^2}\\right]$$\n",
    "\n",
    "It tells you how many particles are moving at each velocity.  For example..."
   ]
  },
  {
   "cell_type": "code",
   "execution_count": 4,
   "metadata": {
    "slideshow": {
     "slide_type": "slide"
    }
   },
   "outputs": [
    {
     "data": {
      "image/png": "[encoded data removed]",
      "text/plain": [
       "<Figure size 432x288 with 1 Axes>"
      ]
     },
     "metadata": {},
     "output_type": "display_data"
    }
   ],
   "source": [
    "# Example: There are 1000 Hydrogen particles with T=100 K\n",
    "import numpy as np\n",
    "temperature = 100*u.K\n",
    "hydrogen_mass = 1*u.Da # a \"Dalton\" is the Atomic Mass Unit\n",
    "soundspeed = ((constants.k_B * temperature / hydrogen_mass)**0.5).to(u.km/u.s)\n",
    "# sample particle velocities from a \"normal\" (Gaussian) distribution\n",
    "particle_velocities = np.random.randn(1000) * soundspeed\n",
    "_=pl.hist(particle_velocities, bins=25)"
   ]
  },
  {
   "cell_type": "markdown",
   "metadata": {
    "slideshow": {
     "slide_type": "slide"
    }
   },
   "source": [
    "# Line Profiles - Doppler Shift\n",
    "\n",
    "A moving particle produces a photon at a different frequency as determined by the doppler formula:\n",
    "\n",
    "$$ \\frac{\\Delta v}{c} = \\frac{\\nu_{rest} - \\nu_{moving}}{\\nu_{rest}} $$\n",
    "\n",
    "gives\n",
    "\n",
    "$$ \\nu_{moving} = \\nu_{rest} \\left(1 - \\frac{\\Delta v}{c}\\right) $$"
   ]
  },
  {
   "cell_type": "markdown",
   "metadata": {
    "slideshow": {
     "slide_type": "slide"
    }
   },
   "source": [
    "# Line Profiles - Doppler Shift\n",
    "The doppler formula combined with the Boltzmann distribution gives:\n",
    "$$ \\frac{\\Delta v}{c} = \\frac{\\nu_{rest} - \\nu_{moving}}{\\nu_{rest}} =  \\frac{\\nu_{rest} - \\nu_{los}}{\\nu_{rest}} $$\n",
    "\n",
    "$$p(v_{los}) = \\exp\\left[\\frac{-v_{los}^2}{2 c_s^2}\\right]$$\n",
    "\n"
   ]
  },
  {
   "cell_type": "markdown",
   "metadata": {
    "slideshow": {
     "slide_type": "fragment"
    }
   },
   "source": [
    "$$ p(\\nu_{los}) =  \\exp\\left[\\frac{-\\left[c(\\nu_{rest}-\\nu_{los})/\\nu_{rest}\\right]^2}{2 c_s^2}\\right] $$\n"
   ]
  },
  {
   "cell_type": "markdown",
   "metadata": {
    "slideshow": {
     "slide_type": "slide"
    }
   },
   "source": [
    "# Line Profiles - Doppler Shift\n",
    "\n",
    "This is the line profile produced by an isothermal gas:\n",
    "\n",
    "$$ p(\\nu_{los}) =  \\exp\\left[\\frac{-\\left[c (\\nu_{rest}-\\nu_{los})/( \\nu_{rest})\\right]^2}{2 c_s^2}\\right] $$\n"
   ]
  },
  {
   "cell_type": "markdown",
   "metadata": {
    "slideshow": {
     "slide_type": "slide"
    }
   },
   "source": [
    "# Line Profile - Measurement\n",
    "\n",
    "Most line profiles are dominated by motion and end up with Gaussian profiles.  There are other physical effects, including *pressure broadening* and *natural width* (from the Heisenberg uncertainty principle) that we'll discuss later, but for now we assume all line emission is broadened by motion.\n",
    "\n",
    "Given that starting assumption, we can measure physical properties of the gas from the line profile."
   ]
  },
  {
   "cell_type": "code",
   "execution_count": 5,
   "metadata": {
    "slideshow": {
     "slide_type": "skip"
    }
   },
   "outputs": [],
   "source": [
    "# a simulated line profile\n",
    "nu_hi = 1420.405751 * u.MHz\n",
    "bandwidth = 2.5 * u.MHz\n",
    "frequency_axis = np.linspace(nu_hi - bandwidth/2, nu_hi + bandwidth/2, 2048)\n",
    "# assume we're measuring something in Janskys\n",
    "model_line_profile = np.exp(-(constants.c * (nu_hi - frequency_axis)/(nu_hi * soundspeed ))**2 / 2) * u.Jy"
   ]
  },
  {
   "cell_type": "code",
   "execution_count": 6,
   "metadata": {
    "slideshow": {
     "slide_type": "slide"
    }
   },
   "outputs": [
    {
     "data": {
      "text/plain": [
       "(1420.3, 1420.5)"
      ]
     },
     "execution_count": 6,
     "metadata": {},
     "output_type": "execute_result"
    },
    {
     "data": {
      "image/png": "[encoded data removed]",
      "text/plain": [
       "<Figure size 432x288 with 1 Axes>"
      ]
     },
     "metadata": {},
     "output_type": "display_data"
    }
   ],
   "source": [
    "pl.plot(frequency_axis, model_line_profile, drawstyle='steps-mid')\n",
    "pl.xlim(1420.3,1420.5)"
   ]
  },
  {
   "cell_type": "markdown",
   "metadata": {
    "slideshow": {
     "slide_type": "slide"
    }
   },
   "source": [
    "# Line Profile - Measurement\n",
    "\n",
    "The *width* tells us about the *velocity distribution*, which can be used to infer the temperature (in some cases).\n",
    "\n",
    "How do we measure the width?  A few possibilities exist:\n",
    "1. Eyeball it\n",
    "2. Use *moment analysis*\n",
    "3. Fit a model function to the data"
   ]
  },
  {
   "cell_type": "markdown",
   "metadata": {
    "slideshow": {
     "slide_type": "slide"
    }
   },
   "source": [
    "# Line Profile - Measurement\n",
    "\n",
    "The eyeball method: A Gaussian distribution has a well-defined width.  \n",
    "\n",
    "The full-width at half-maximum (FWHM) is related to the width $\\sigma$ as:\n",
    "\n",
    "$$ FWHM = \\sqrt{8 \\ln 2}~\\sigma$$\n",
    "\n",
    "The width of a thermally broadened line is $\\sigma = c_s$, so if we can estimate how wide the line is \"by eye\", we can get a quick estimate of the sound speed and therefore the temperature."
   ]
  },
  {
   "cell_type": "code",
   "execution_count": 7,
   "metadata": {
    "slideshow": {
     "slide_type": "slide"
    }
   },
   "outputs": [
    {
     "data": {
      "text/plain": [
       "[<matplotlib.lines.Line2D at 0x1acb22d8c40>]"
      ]
     },
     "execution_count": 7,
     "metadata": {},
     "output_type": "execute_result"
    },
    {
     "data": {
      "image/png": "[encoded data removed]",
      "text/plain": [
       "<Figure size 432x288 with 1 Axes>"
      ]
     },
     "metadata": {},
     "output_type": "display_data"
    }
   ],
   "source": [
    "# drop a ruler onto the plot and measure the FWHM... you can get pretty close\n",
    "pl.plot(frequency_axis, model_line_profile, drawstyle='steps-mid')\n",
    "pl.xlim(1420.36,1420.45)\n",
    "pl.plot([1420.4,1420.4122], [0.5,0.5])"
   ]
  },
  {
   "cell_type": "markdown",
   "metadata": {
    "slideshow": {
     "slide_type": "slide"
    }
   },
   "source": [
    "# Line Profile - Measurement\n",
    "\n",
    "Moment Analysis is the quickest, simplest approach. \n",
    "\n",
    "The *zero'th moment* is the integral of the distribution:\n",
    "\n",
    "$$m_0 = \\int p(\\nu) d\\nu$$\n"
   ]
  },
  {
   "cell_type": "markdown",
   "metadata": {
    "slideshow": {
     "slide_type": "slide"
    }
   },
   "source": [
    "The first moment is the *centroid*:\n",
    "\n",
    "$$m_1 = \\frac{\\int \\nu p(\\nu) d\\nu}{\\int p(\\nu) d\\nu}$$"
   ]
  },
  {
   "cell_type": "markdown",
   "metadata": {
    "slideshow": {
     "slide_type": "slide"
    }
   },
   "source": [
    "The second *central* moment measures the width:\n",
    "\n",
    "$$m_2 = \\frac{\\int (\\nu - \\nu_{center})^2 p(\\nu) d \\nu}{\\int p(\\nu) d\\nu} $$"
   ]
  },
  {
   "cell_type": "markdown",
   "metadata": {
    "slideshow": {
     "slide_type": "slide"
    }
   },
   "source": [
    "# Line Profile - Measurement\n",
    "\n",
    "What does moment 0 mean?\n",
    "$$m_0 = \\int p(\\nu) d\\nu$$\n",
    "In practice, we calculate this as \n",
    "$$ m_0 = \\Sigma S_\\nu \\Delta \\nu$$\n",
    "\n",
    "$S_\\nu$ is the recorded brightness value, and $\\Delta \\nu$ is the width of a channel.  This is the \"total intensity\" or \"integrated intensity\" and represents the total amount of light received from the line.  It will have units of \"flux units\" times \"X-axis units\"; for example, Jy Hz or K km/s."
   ]
  },
  {
   "cell_type": "code",
   "execution_count": 8,
   "metadata": {
    "slideshow": {
     "slide_type": "slide"
    }
   },
   "outputs": [
    {
     "data": {
      "text/latex": [
       "$0.010829259 \\; \\mathrm{Jy\\,MHz}$"
      ],
      "text/plain": [
       "<Quantity 0.01082926 Jy MHz>"
      ]
     },
     "execution_count": 8,
     "metadata": {},
     "output_type": "execute_result"
    }
   ],
   "source": [
    "delta_nu = frequency_axis[1] - frequency_axis[0]\n",
    "moment0 = (model_line_profile * delta_nu).sum()\n",
    "moment0"
   ]
  },
  {
   "cell_type": "markdown",
   "metadata": {
    "slideshow": {
     "slide_type": "slide"
    }
   },
   "source": [
    "# Line Profile - Measurement\n",
    "\n",
    "What does moment 1 mean?\n",
    "\n",
    "$$m_1 = \\frac{\\int \\nu p(\\nu) d\\nu}{\\int p(\\nu) d\\nu}$$\n",
    "\n",
    "In practice, we calculate this as \n",
    "\n",
    "$$m_1 = \\frac{\\Sigma \\nu S_\\nu \\Delta \\nu}{m_0}$$\n",
    "\n",
    "$m_1$ is the *weighted average* of the X-axis $\\nu$.  It has the same units as $\\nu$ - frequency."
   ]
  },
  {
   "cell_type": "code",
   "execution_count": 9,
   "metadata": {
    "slideshow": {
     "slide_type": "slide"
    }
   },
   "outputs": [
    {
     "data": {
      "text/latex": [
       "$1420.4058 \\; \\mathrm{MHz}$"
      ],
      "text/plain": [
       "<Quantity 1420.405751 MHz>"
      ]
     },
     "execution_count": 9,
     "metadata": {},
     "output_type": "execute_result"
    }
   ],
   "source": [
    "moment1 = (frequency_axis * model_line_profile * delta_nu).sum() / moment0\n",
    "moment1"
   ]
  },
  {
   "cell_type": "markdown",
   "metadata": {
    "slideshow": {
     "slide_type": "slide"
    }
   },
   "source": [
    "# Line Profile - Measurement\n",
    "\n",
    "What does moment 2 mean?\n",
    "$$m_2 = \\frac{\\int (\\nu - \\nu_{center})^2 p(\\nu) d \\nu}{\\int p(\\nu) d\\nu} $$\n",
    "In practice, we calculate this as \n",
    "$$m_2 = \\frac{\\Sigma \\left(\\nu - m_1\\right)^2 S_\\nu \\Delta \\nu}{m_0}$$\n",
    "$m_2$ is the *intensity-weighted variance*.  It has units $[\\nu]^2$.  Recall that *variance* is the square of the *standard deviation*.  The *Gaussian width* $\\sigma=m_2^{1/2}$.\n",
    "\n",
    "We subtract out $m_1$ from each frequency because we're calculating the variance around a central point."
   ]
  },
  {
   "cell_type": "code",
   "execution_count": 10,
   "metadata": {
    "slideshow": {
     "slide_type": "slide"
    }
   },
   "outputs": [
    {
     "data": {
      "text/plain": [
       "(<Quantity 1.86645543e-05 MHz2>, <Quantity 0.00432025 MHz>)"
      ]
     },
     "execution_count": 10,
     "metadata": {},
     "output_type": "execute_result"
    }
   ],
   "source": [
    "moment2 = ( (frequency_axis - moment1)**2 * model_line_profile * delta_nu).sum() / moment0\n",
    "sigma = moment2**0.5\n",
    "moment2, sigma"
   ]
  },
  {
   "cell_type": "markdown",
   "metadata": {
    "slideshow": {
     "slide_type": "slide"
    }
   },
   "source": [
    "# Line Profile Measurement - moments work"
   ]
  },
  {
   "cell_type": "code",
   "execution_count": 11,
   "metadata": {
    "scrolled": true,
    "slideshow": {
     "slide_type": "-"
    }
   },
   "outputs": [
    {
     "data": {
      "text/plain": [
       "<matplotlib.collections.LineCollection at 0x1acb2379940>"
      ]
     },
     "execution_count": 11,
     "metadata": {},
     "output_type": "execute_result"
    },
    {
     "data": {
      "image/png": "[encoded data removed]",
      "text/plain": [
       "<Figure size 432x288 with 1 Axes>"
      ]
     },
     "metadata": {},
     "output_type": "display_data"
    }
   ],
   "source": [
    "pl.plot(frequency_axis, model_line_profile, drawstyle='steps-mid')\n",
    "pl.xlim(1420.36,1420.45)\n",
    "pl.vlines(moment1, 0*u.Jy, 1*u.Jy, color='w', linestyle='--')\n",
    "# the Gaussian width is the half-width at exp(-1/2)\n",
    "pl.hlines( np.exp(-0.5), moment1-sigma, moment1+sigma, color='y', linestyle='--')\n",
    "pl.hlines( 0.5, moment1-sigma*2.35/2, moment1+sigma*2.35/2, color='r', linestyle='--')"
   ]
  },
  {
   "cell_type": "markdown",
   "metadata": {
    "slideshow": {
     "slide_type": "slide"
    }
   },
   "source": [
    "# Line Profile Measurements - what about noise?\n",
    "\n",
    "Even in the presence of noise, moment analysis is very effective - but it can go awry."
   ]
  },
  {
   "cell_type": "code",
   "execution_count": 14,
   "metadata": {
    "slideshow": {
     "slide_type": "fragment"
    }
   },
   "outputs": [],
   "source": [
    "np.random.seed(0)\n",
    "uncertainty = 0.1 * model_line_profile.unit\n",
    "noisy_model_profile = model_line_profile + uncertainty * np.random.randn(model_line_profile.size)"
   ]
  },
  {
   "cell_type": "code",
   "execution_count": 15,
   "metadata": {},
   "outputs": [
    {
     "data": {
      "text/latex": [
       "$\\mathrm{Jy}$"
      ],
      "text/plain": [
       "Unit(\"Jy\")"
      ]
     },
     "execution_count": 15,
     "metadata": {},
     "output_type": "execute_result"
    }
   ],
   "source": [
    "model_line_profile.unit"
   ]
  },
  {
   "cell_type": "code",
   "execution_count": 16,
   "metadata": {
    "slideshow": {
     "slide_type": "slide"
    }
   },
   "outputs": [
    {
     "data": {
      "text/plain": [
       "(1420.33, 1420.48)"
      ]
     },
     "execution_count": 16,
     "metadata": {},
     "output_type": "execute_result"
    },
    {
     "data": {
      "image/png": "[encoded data removed]",
      "text/plain": [
       "<Figure size 432x288 with 1 Axes>"
      ]
     },
     "metadata": {},
     "output_type": "display_data"
    }
   ],
   "source": [
    "pl.plot(frequency_axis, noisy_model_profile, drawstyle='steps-mid')\n",
    "pl.xlim(1420.33,1420.48)"
   ]
  },
  {
   "cell_type": "code",
   "execution_count": 17,
   "metadata": {
    "slideshow": {
     "slide_type": "slide"
    }
   },
   "outputs": [
    {
     "name": "stderr",
     "output_type": "stream",
     "text": [
      "C:\\Users\\Sydnee O'Donnell\\AppData\\Roaming\\Python\\Python38\\site-packages\\astropy\\units\\quantity.py:486: RuntimeWarning: invalid value encountered in sqrt\n",
      "  result = super().__array_ufunc__(function, method, *arrays, **kwargs)\n"
     ]
    },
    {
     "data": {
      "text/plain": [
       "(<Quantity 0.00707108 Jy MHz>,\n",
       " <Quantity 1420.86404663 MHz>,\n",
       " <Quantity -0.43715543 MHz2>,\n",
       " <Quantity nan MHz>)"
      ]
     },
     "execution_count": 17,
     "metadata": {},
     "output_type": "execute_result"
    }
   ],
   "source": [
    "noisy_moment0 = noisy_model_profile.sum() * delta_nu\n",
    "noisy_moment1 = (frequency_axis * noisy_model_profile * delta_nu).sum() / noisy_moment0\n",
    "noisy_moment2 = ( (frequency_axis - noisy_moment1)**2 * noisy_model_profile * delta_nu).sum() / noisy_moment0\n",
    "noisy_sigma = noisy_moment2**0.5\n",
    "noisy_moment0, noisy_moment1, noisy_moment2, noisy_sigma"
   ]
  },
  {
   "cell_type": "markdown",
   "metadata": {
    "slideshow": {
     "slide_type": "slide"
    }
   },
   "source": [
    "What happened?  The centroid is wrong, and the noise won out over the signal.  If we re-measure over a subset... if we \"crop\" the spectrum.... we can get a reasonable answer again:"
   ]
  },
  {
   "cell_type": "code",
   "execution_count": 18,
   "metadata": {
    "slideshow": {
     "slide_type": "fragment"
    }
   },
   "outputs": [
    {
     "data": {
      "text/plain": [
       "[<matplotlib.lines.Line2D at 0x1acb232e820>]"
      ]
     },
     "execution_count": 18,
     "metadata": {},
     "output_type": "execute_result"
    },
    {
     "data": {
      "image/png": "[encoded data removed]",
      "text/plain": [
       "<Figure size 432x288 with 1 Axes>"
      ]
     },
     "metadata": {},
     "output_type": "display_data"
    }
   ],
   "source": [
    "selection = ((frequency_axis > 1420.39 * u.MHz) &\n",
    "             (frequency_axis < 1420.42*u.MHz))\n",
    "pl.plot(frequency_axis[selection],\n",
    "        noisy_model_profile[selection], drawstyle='steps-mid')"
   ]
  },
  {
   "cell_type": "code",
   "execution_count": 19,
   "metadata": {
    "slideshow": {
     "slide_type": "slide"
    }
   },
   "outputs": [
    {
     "data": {
      "text/plain": [
       "(<Quantity 0.01088147 Jy MHz>,\n",
       " <Quantity 1420.40551509 MHz>,\n",
       " <Quantity 2.4993493e-05 MHz2>,\n",
       " <Quantity 0.00499935 MHz>)"
      ]
     },
     "execution_count": 19,
     "metadata": {},
     "output_type": "execute_result"
    }
   ],
   "source": [
    "noisy_moment0 = noisy_model_profile[selection].sum() * delta_nu\n",
    "noisy_moment1 = (frequency_axis[selection] * noisy_model_profile[selection] * delta_nu).sum() / noisy_moment0\n",
    "noisy_moment2 = ( (frequency_axis[selection] - noisy_moment1)**2 * noisy_model_profile[selection] * delta_nu).sum() / noisy_moment0\n",
    "noisy_sigma = noisy_moment2**0.5\n",
    "noisy_moment0, noisy_moment1, noisy_moment2, noisy_sigma"
   ]
  },
  {
   "cell_type": "code",
   "execution_count": 20,
   "metadata": {
    "slideshow": {
     "slide_type": "slide"
    }
   },
   "outputs": [
    {
     "data": {
      "text/plain": [
       "<matplotlib.collections.LineCollection at 0x1acb23f9d60>"
      ]
     },
     "execution_count": 20,
     "metadata": {},
     "output_type": "execute_result"
    },
    {
     "data": {
      "image/png": "[encoded data removed]",
      "text/plain": [
       "<Figure size 432x288 with 1 Axes>"
      ]
     },
     "metadata": {},
     "output_type": "display_data"
    }
   ],
   "source": [
    "pl.plot(frequency_axis, noisy_model_profile, drawstyle='steps-mid')\n",
    "pl.xlim(1420.36,1420.45)\n",
    "pl.vlines(noisy_moment1, 0*u.Jy, 1.2*u.Jy, color='w', linestyle='--', linewidth=2)\n",
    "# the Gaussian width is the half-width at exp(-1/2)\n",
    "pl.hlines(np.exp(-0.5), noisy_moment1-noisy_sigma, noisy_moment1+noisy_sigma, color='y', linestyle='--')"
   ]
  },
  {
   "cell_type": "markdown",
   "metadata": {
    "slideshow": {
     "slide_type": "slide"
    }
   },
   "source": [
    "# Moment Analysis - Physical inference\n",
    "\n",
    "What do the various moments tell us about the thing we're looking at?\n",
    "\n",
    "Moment 0 is the integrated intensity.  It's how much light we get.\n",
    "\n",
    "Moment 1 is the line-of-sight velocity:"
   ]
  },
  {
   "cell_type": "code",
   "execution_count": 21,
   "metadata": {
    "slideshow": {
     "slide_type": "fragment"
    }
   },
   "outputs": [
    {
     "data": {
      "text/plain": [
       "(<Quantity -4.79897473e-08 m / s>, <Quantity 49.79126441 m / s>)"
      ]
     },
     "execution_count": 21,
     "metadata": {},
     "output_type": "execute_result"
    }
   ],
   "source": [
    "v_los_measured = (nu_hi - moment1) / nu_hi  * constants.c\n",
    "noisy_v_los_measured = (nu_hi - noisy_moment1) / nu_hi  * constants.c\n",
    "v_los_measured, noisy_v_los_measured"
   ]
  },
  {
   "cell_type": "markdown",
   "metadata": {
    "slideshow": {
     "slide_type": "slide"
    }
   },
   "source": [
    "# Moment Analysis - Physical inference\n",
    "\n",
    "Moment 2 is related to the *line width*, which in turn relates to the temperature (if the line is only thermally broadened).\n",
    "$$ c_s = \\sigma_v = \\sqrt{\\frac{k_B T}{m_H}} $$\n",
    "So the temperature is:\n",
    "$$ T = \\frac{\\sigma_v^2 m_H}{k_B} = \\frac{m_{2,v} m_H}{k_B} $$\n",
    "But we measured $\\sigma_\\nu$, the width in frequency.  \n",
    "$$ \\frac{\\sigma_\\nu}{\\nu} = \\frac{\\sigma_v}{c}$$"
   ]
  },
  {
   "cell_type": "markdown",
   "metadata": {},
   "source": [
    "So, we solve for $\\sigma_v = c \\sigma_\\nu / \\nu$ and plug in...\n",
    "\n",
    "$$ T = \\frac{\\sigma_v^2 m_H}{k_B} = \\frac{\\sigma_\\nu^2 c^2 m_H}{\\nu^2 k_B} = \\frac{m_{2,\\nu} c^2 m_H}{\\nu^2 k_B} $$\n"
   ]
  },
  {
   "cell_type": "code",
   "execution_count": 22,
   "metadata": {
    "slideshow": {
     "slide_type": "slide"
    }
   },
   "outputs": [
    {
     "data": {
      "text/plain": [
       "(<Quantity 100. K>, <Quantity 133.90886615 K>)"
      ]
     },
     "execution_count": 22,
     "metadata": {},
     "output_type": "execute_result"
    }
   ],
   "source": [
    "moment2_v = (moment2 / nu_hi**2) * constants.c**2\n",
    "noisy_moment2_v = (noisy_moment2 / nu_hi**2) * constants.c**2\n",
    "temperature_measured = (moment2_v * hydrogen_mass / constants.k_B).to(u.K)\n",
    "noisy_temperature_measured = (noisy_moment2_v * hydrogen_mass / constants.k_B).to(u.K)\n",
    "temperature_measured, noisy_temperature_measured"
   ]
  },
  {
   "cell_type": "markdown",
   "metadata": {
    "slideshow": {
     "slide_type": "-"
    }
   },
   "source": [
    "So we've recovered the temperature!"
   ]
  },
  {
   "cell_type": "markdown",
   "metadata": {
    "slideshow": {
     "slide_type": "slide"
    }
   },
   "source": [
    "# Moment Analysis - Physical inference\n",
    "\n",
    "This sort of measurement is at the heart of remote sensing and astrophysical spectroscopy:\n",
    "\n"
   ]
  },
  {
   "cell_type": "markdown",
   "metadata": {
    "slideshow": {
     "slide_type": "fragment"
    }
   },
   "source": [
    "From measuring properties of an emission line, the photons produced by a gas, we can infer the *local properties* of that gas.\n"
   ]
  },
  {
   "cell_type": "markdown",
   "metadata": {
    "slideshow": {
     "slide_type": "fragment"
    }
   },
   "source": [
    "\n",
    "We can \"take the temperature\" of a gas cloud anywhere in the universe just by measuring simple properties of its emitted spectrum!\n",
    "\n"
   ]
  },
  {
   "cell_type": "markdown",
   "metadata": {
    "slideshow": {
     "slide_type": "slide"
    }
   },
   "source": [
    "(of course, we made some simplifying assumptions; for cold gas, usually the line width is broader than thermal)"
   ]
  },
  {
   "cell_type": "markdown",
   "metadata": {
    "slideshow": {
     "slide_type": "slide"
    }
   },
   "source": [
    "# Moment analysis - what about uncertainty?\n",
    "\n",
    "You knew it was coming, right?\n",
    "\n",
    "We need to know what the uncertainty is on our measurements.  The uncertainty for these calculations follows the same sum-in-quadrature as with other Gaussian-noise-affected measurements.\n",
    "\n",
    "We'll keep this brief for now..."
   ]
  },
  {
   "cell_type": "markdown",
   "metadata": {
    "slideshow": {
     "slide_type": "slide"
    }
   },
   "source": [
    "# Moment 0 error\n",
    "\n",
    "We have an error per channel $\\sigma_S$; unfortunately, we use the same symbol ($\\sigma$) for both uncertainty distribution width and line width - you just have to be explicit and clear about what you mean!\n",
    "\n",
    "$$ m_0 = \\Sigma S_\\nu \\Delta \\nu $$\n",
    "\n",
    "This becomes, assuming a uniform noise (every channel / pixel has the same uncertainty) $\\sigma_S$:\n",
    "\n",
    "$$ \\sigma_{m_0}^2 = \\Sigma \\sigma_S^2 (\\Delta \\nu)^2 = N (\\Delta \\nu)^2 \\sigma_S^2 $$\n",
    "\n",
    "where $N$ is the number of channels."
   ]
  },
  {
   "cell_type": "code",
   "execution_count": 18,
   "metadata": {
    "slideshow": {
     "slide_type": "slide"
    }
   },
   "outputs": [
    {
     "data": {
      "text/plain": [
       "'m0 = 0.011 Jy MHz +/- 0.001 Jy MHz'"
      ]
     },
     "execution_count": 18,
     "metadata": {},
     "output_type": "execute_result"
    }
   ],
   "source": [
    "noisy_moment0 = (noisy_model_profile[selection] * delta_nu).sum()\n",
    "Npts = noisy_model_profile[selection].size\n",
    "noisy_moment0_uncertainty = (Npts * delta_nu**2 * (uncertainty**2))**0.5\n",
    "f\"m0 = {noisy_moment0:0.3f} +/- {noisy_moment0_uncertainty:0.3f}\""
   ]
  },
  {
   "cell_type": "markdown",
   "metadata": {
    "slideshow": {
     "slide_type": "slide"
    }
   },
   "source": [
    "# Moment 1 error\n",
    "\n",
    "\n",
    "$$ m_1 = \\frac{\\Sigma \\nu S_\\nu \\Delta \\nu}{m_0} $$\n",
    "\n",
    "There is no uncertainty on $\\nu$ - we know exactly what freqency each bin is.\n",
    "The propagation of uncertainty formulae come from Taylor expansion around the central moment, so when we calculate the uncertainty, we subtract off $m_1$ first; these propagations-of-uncertainty are approximations.\n",
    "\n"
   ]
  },
  {
   "cell_type": "markdown",
   "metadata": {
    "slideshow": {
     "slide_type": "slide"
    }
   },
   "source": [
    "For an equation like $z = y/x$, we use $ \\frac{\\sigma_z^2}{z^2} = \\frac{\\sigma_y^2}{y^2} + \\frac{\\sigma_x^2}{x^2}$ to propagate error, where $y$ is the numerator and $x$ is the denominator.\n",
    "\n",
    "$$ \\sigma_{numerator}^2 = \\Sigma (\\nu-m_1)^2 \\sigma_S^2 (\\Delta \\nu)^2 $$\n",
    "\n",
    "and $\\sigma_{denominator} = \\sigma_{m_0}$, so we get:\n",
    "\n",
    "$$\\sigma_{m_1}^2 =  \\left(\\frac{\\Sigma (\\nu-m_1)^2  (\\Delta \\nu)^2 \\sigma_S^2}{m_0^2}  +\n",
    "   \\frac{\\sigma_{m_0}^2 \\Sigma (\\nu-m_1)^2 S_\\nu^2 (\\Delta \\nu)^2}{m_0^4} \\right)$$\n"
   ]
  },
  {
   "cell_type": "code",
   "execution_count": 19,
   "metadata": {
    "slideshow": {
     "slide_type": "slide"
    }
   },
   "outputs": [
    {
     "data": {
      "text/plain": [
       "'m1 = 1420.4055 MHz +/- 0.0005 MHz'"
      ]
     },
     "execution_count": 19,
     "metadata": {},
     "output_type": "execute_result"
    }
   ],
   "source": [
    "left_term = ((delta_nu * uncertainty * (frequency_axis[selection] - noisy_moment1))**2).sum() / noisy_moment0**2\n",
    "right_term = (noisy_moment0_uncertainty**2 * (((frequency_axis[selection] - noisy_moment1) * \n",
    "                                              noisy_model_profile[selection] * delta_nu)**2).sum()) / noisy_moment0**4\n",
    "noisy_moment1_uncertainty = (left_term + right_term)**0.5\n",
    "    \n",
    "f\"m1 = {noisy_moment1:0.4f} +/- {noisy_moment1_uncertainty:0.4f}\""
   ]
  },
  {
   "cell_type": "markdown",
   "metadata": {
    "slideshow": {
     "slide_type": "slide"
    }
   },
   "source": [
    "That formula might look complicated, so we can make it into a function:"
   ]
  },
  {
   "cell_type": "code",
   "execution_count": 20,
   "metadata": {
    "slideshow": {
     "slide_type": "-"
    }
   },
   "outputs": [],
   "source": [
    "def moment1_uncertainty(xaxis, data, uncertainty):\n",
    "    deltax = xaxis[1] - xaxis[0]\n",
    "    moment0 = (data * deltax).sum()\n",
    "    moment0_uncertainty = (len(data) * deltax**2 * (uncertainty**2))**0.5\n",
    "    moment1 = (data * xaxis * deltax).sum() / moment0\n",
    "    left_term = ((deltax * uncertainty * (xaxis - moment1))**2).sum() / moment0**2\n",
    "    right_term = (moment0_uncertainty**2 *\n",
    "                  (((xaxis - moment1) * data * delta_nu)**2).sum()) / moment0**4\n",
    "    moment1_uncertainty = (left_term + right_term)**0.5\n",
    "    return moment1, moment1_uncertainty"
   ]
  },
  {
   "cell_type": "code",
   "execution_count": 21,
   "metadata": {
    "slideshow": {
     "slide_type": "fragment"
    }
   },
   "outputs": [
    {
     "data": {
      "text/plain": [
       "(<Quantity 1420.40551509 MHz>, <Quantity 0.00049757 MHz>)"
      ]
     },
     "execution_count": 21,
     "metadata": {},
     "output_type": "execute_result"
    }
   ],
   "source": [
    "moment1_uncertainty(frequency_axis[selection], noisy_model_profile[selection], uncertainty)"
   ]
  },
  {
   "cell_type": "markdown",
   "metadata": {
    "slideshow": {
     "slide_type": "slide"
    }
   },
   "source": [
    "# Moment 2 error\n",
    "$$m_2 = \\frac{\\Sigma \\left(\\nu - m_1\\right)^2 S_\\nu \\Delta \\nu}{m_0}$$\n",
    "\n",
    "We just invoke symmetry here (in other words, I cheated on the algebra, but it's a fair cheat) and replace all $\\nu$ (or $\\nu-m_1$) terms with $\\nu^2$.\n",
    "\n",
    "$$\\sigma_{m_2}^2 =  \\left(\\frac{\\Sigma (\\nu-m_1)^4  (\\Delta \\nu)^2 \\sigma_S^2}{m_0^2}  +\n",
    "   \\frac{\\sigma_{m_0}^2 \\Sigma (\\nu-m_1)^4 S_\\nu^2 (\\Delta \\nu)^2}{m_0^4} \\right)$$"
   ]
  },
  {
   "cell_type": "code",
   "execution_count": 22,
   "metadata": {
    "scrolled": true,
    "slideshow": {
     "slide_type": "skip"
    }
   },
   "outputs": [
    {
     "data": {
      "text/plain": [
       "'m2 = 0.0050 MHz +/- 0.0024 MHz'"
      ]
     },
     "execution_count": 22,
     "metadata": {},
     "output_type": "execute_result"
    }
   ],
   "source": [
    "left_term = ((delta_nu * uncertainty * (frequency_axis[selection] - noisy_moment1)**2)**2).sum() / noisy_moment0**2\n",
    "right_term = (noisy_moment0_uncertainty**2 * (((frequency_axis[selection] - noisy_moment1)**2 * \n",
    "                                              noisy_model_profile[selection] * delta_nu)**2).sum()) / noisy_moment0**4\n",
    "noisy_moment2_uncertainty = (left_term + right_term)**0.5\n",
    "    \n",
    "f\"m2 = {noisy_moment2**0.5:0.4f} +/- {noisy_moment2_uncertainty**0.5:0.4f}\""
   ]
  },
  {
   "cell_type": "code",
   "execution_count": 23,
   "metadata": {
    "slideshow": {
     "slide_type": "slide"
    }
   },
   "outputs": [],
   "source": [
    "# again, simplify this into a function\n",
    "def moment2_uncertainty(xaxis, data, uncertainty):\n",
    "    deltax = xaxis[1] - xaxis[0]\n",
    "    moment0 = (data * deltax).sum()\n",
    "    moment0_uncertainty = (len(data) * deltax**2 * (uncertainty**2))**0.5\n",
    "    moment1 = (data * xaxis * deltax).sum() / moment0\n",
    "    left_term = ((deltax * uncertainty * (xaxis - moment1)**2)**2).sum() / moment0**2\n",
    "    right_term = (moment0_uncertainty**2 *\n",
    "                  (((xaxis - moment1)**2 * data * delta_nu)**2).sum()) / moment0**4\n",
    "    moment2_uncertainty = (left_term + right_term)**0.5\n",
    "    moment2 = ((xaxis-moment1)**2 * deltax * data).sum() / moment0\n",
    "    return moment2, moment2_uncertainty"
   ]
  },
  {
   "cell_type": "code",
   "execution_count": 24,
   "metadata": {
    "slideshow": {
     "slide_type": "fragment"
    }
   },
   "outputs": [
    {
     "data": {
      "text/plain": [
       "'m2 = 0.0050 MHz +/- 0.0024 MHz'"
      ]
     },
     "execution_count": 24,
     "metadata": {},
     "output_type": "execute_result"
    }
   ],
   "source": [
    "m2,m2u = moment2_uncertainty(frequency_axis[selection], noisy_model_profile[selection], uncertainty)\n",
    "f\"m2 = {m2**0.5:0.4f} +/- {m2u**0.5:0.4f}\""
   ]
  },
  {
   "cell_type": "markdown",
   "metadata": {
    "slideshow": {
     "slide_type": "slide"
    }
   },
   "source": [
    "# Summarizing moment uncertainties"
   ]
  },
  {
   "cell_type": "code",
   "execution_count": 25,
   "metadata": {
    "slideshow": {
     "slide_type": "-"
    }
   },
   "outputs": [
    {
     "name": "stdout",
     "output_type": "stream",
     "text": [
      "m0 = 0.0109 Jy MHz +/- 0.0006 Jy MHz, S/N=17.8\n",
      "m1 = 1420.4055 MHz +/- 0.0005 MHz\n",
      "m2 = 2.499e-05 MHz2 +/- 5.866e-06 MHz2\n",
      "sqrt(m2) = 0.0050 MHz +/- 0.0024 MHz\n"
     ]
    }
   ],
   "source": [
    "print(f\"m0 = {noisy_moment0:0.4f} +/- {noisy_moment0_uncertainty:0.4f}, S/N={noisy_moment0/noisy_moment0_uncertainty:0.1f}\")\n",
    "print(f\"m1 = {noisy_moment1:0.4f} +/- {noisy_moment1_uncertainty:0.4f}\")\n",
    "print(f\"m2 = {noisy_moment2:0.4g} +/- {noisy_moment2_uncertainty:0.4g}\")\n",
    "print(f\"sqrt(m2) = {noisy_moment2**0.5:0.4f} +/- {noisy_moment2_uncertainty**0.5:0.4f}\")"
   ]
  },
  {
   "cell_type": "markdown",
   "metadata": {
    "slideshow": {
     "slide_type": "-"
    }
   },
   "source": [
    "Note there is an asymmetry here: moment 0 has a signal-to-noise of about 20, moment 2 has a signal-to-noise of about 2, but moment1 appears to have a HUGE signal-to-noise ratio.  That's not really right, because what we're actually measuring is the deviation from moment1.  Moment 1 makes more sense if expressed in velocity..."
   ]
  },
  {
   "cell_type": "code",
   "execution_count": 26,
   "metadata": {
    "scrolled": true,
    "slideshow": {
     "slide_type": "slide"
    }
   },
   "outputs": [
    {
     "name": "stdout",
     "output_type": "stream",
     "text": [
      "m1 = 49.8 m / s +/- 105.0 m / s\n"
     ]
    }
   ],
   "source": [
    "m1_velocity = (nu_hi - noisy_moment1) / nu_hi * constants.c\n",
    "m1_velocity_uncertainty = noisy_moment1_uncertainty / nu_hi * constants.c\n",
    "print(f\"m1 = {m1_velocity:0.1f} +/- {m1_velocity_uncertainty:0.1f}\")"
   ]
  },
  {
   "cell_type": "markdown",
   "metadata": {
    "slideshow": {
     "slide_type": "-"
    }
   },
   "source": [
    "This measurement now appears to have S/N < 1 - that's telling us that our measured moment 1 is consistent with zero velocity.  That makes sense, since the input model has zero velocity!"
   ]
  },
  {
   "cell_type": "markdown",
   "metadata": {
    "slideshow": {
     "slide_type": "slide"
    }
   },
   "source": [
    "FIN for now"
   ]
  },
  {
   "cell_type": "code",
   "execution_count": null,
   "metadata": {},
   "outputs": [],
   "source": []
  }
 ],
 "metadata": {
  "celltoolbar": "Slideshow",
  "kernelspec": {
   "display_name": "Python 3",
   "language": "python",
   "name": "python3"
  },
  "language_info": {
   "codemirror_mode": {
    "name": "ipython",
    "version": 3
   },
   "file_extension": ".py",
   "mimetype": "text/x-python",
   "name": "python",
   "nbconvert_exporter": "python",
   "pygments_lexer": "ipython3",
   "version": "3.8.5"
  },
  "rise": {
   "transition": "none"
  }
 },
 "nbformat": 4,
 "nbformat_minor": 4
}

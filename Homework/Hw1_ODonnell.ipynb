{
 "cells": [
  {
   "cell_type": "markdown",
   "metadata": {},
   "source": [
    "# Homework #1 Obs Tech 2\n",
    "\n",
    "Sydnee O'Donnell"
   ]
  },
  {
   "cell_type": "markdown",
   "metadata": {},
   "source": [
    "### 1. You want to observe the star Vega with a CCD at the Campus Teaching Observatory on campus. You are allowed to observe from 8pm to 10pm.\n",
    "\n",
    "#### a. When is the best time of year to observe Vega (give a range of months)?\n",
    "\n",
    " In the summer, generally from May to September \n",
    "\n",
    "#### b. What strategy would you use to obtain flat field calibration data? (what would you observe? when?)\n",
    "\n",
    " I would set up before the sun sets and take twilight flats as the sun is setting. Then, at some point in the night, I would take a few dark immages with the CCD cap on. Then I would focus on at least two known objects and take immages of those so we have immages where we have an idea of what the data should look like."
   ]
  },
  {
   "cell_type": "markdown",
   "metadata": {},
   "source": [
    "### 2. You now want to observe the binary star system Lyra Ba (AKA, * eps01 Lyr B and * eps 02 Lyr B).\n",
    "\n",
    "#### a. When is the best time of year to observe this system?\n",
    "The best time to see this system would be similar to the times to see Vega since these stars are so close. \n",
    "\n",
    "#### b. What tools will you need to find this system?\n",
    "To find this system I would use the astroplan, astropy, and astroqueary libraries to create a finder plot to get an idea of what the area of sky looks like for this star system. I would then create an airmass plot to see when the star system is visible in the sky.\n",
    "\n",
    "#### c. What strategy will you employ at the telescope to find the target?\n",
    "If I were using a celestron telescope, I would auto align the telescope and then use the telescopes gps to slew to the star system. Once there, I would verify with my finder plots and focus in on my target star. Then I would use the focusing feature on the CCD to focus more precisely."
   ]
  },
  {
   "cell_type": "markdown",
   "metadata": {},
   "source": [
    "### 3. You want to observe the Andromeda Galaxy. It is about 3x1 degrees (but for the purpose of this question, assume it's a rectangle that is exactly 3x1 degrees). Your detector has a field of view of 10x8 arcminutes.\n",
    "\n",
    "#### a. How will you create an image of the whole Galaxy?\n",
    "To create an image of the entire galaxy I would take pictures in sections with the same exposure times. I would repeat this process several times t get the best images to then stitch together. \n",
    "\n",
    "#### b. How many times will you need to re-point the telescope to observe the whole Galaxy?\n",
    "one degree is 60 arc minuites, so three degrees converts to 180 arcmin and on. This ends up resulting the need of 144 immages since we will need to take 18 immages across and 4 down. "
   ]
  },
  {
   "cell_type": "markdown",
   "metadata": {},
   "source": [
    "### 4. You have a \"broken\" telescope that is stuck pointing straight up.\n",
    "\n",
    "#### a. What declination(s) will it see?\n",
    "This woul be the declination of Gainesville so around 34 degrees\n",
    "\n",
    "#### b. What right ascension(s) will it see?\n",
    "The RA depends on the time of day you look into the telescope, it will go through a range of 0 to 24 hours. \n",
    "\n",
    "#### c. Using the tool of your choice (for example, worldwidetelescope, aladin, or a python tool), answer:\n",
    "    \n",
    "- in what constellation(s) will the telescope look at the Galactic Plane?\n",
    "If we looked straight up right now we would see part of the Hercules constelation. \n",
    "\n",
    "Tool I used - stellarium web\n",
    "\n",
    "- at Right Ascension ~ 20h50m, what nebula will be closest to where the telescope is pointing?\n",
    "The veil nebula"
   ]
  },
  {
   "cell_type": "markdown",
   "metadata": {},
   "source": [
    "### 5. The seeing at your observing site is generally about 1 arcsecond (1\"). You are observing at optical wavelengths.\n",
    "                                                                     \n",
    "#### a. What size telescope would you need to see the Airy pattern in the point spread function (PSF) caused by aperture diffraction?\n",
    "\n",
    "$ \\theta = 1.22\\frac{\\lambda}{Dist} $\n",
    "\n",
    "1 arcsec = 4.84814e-6\n",
    "\n",
    "$ 4.84814*10^{-6} radians = 1.22\\frac{700 (nm)}{D (nm)} $\n",
    "\n",
    "$ 1.76 * 10^8 nm = 0.176$ meters \n",
    "                                                                     \n",
    "#### b. If you use a bigger telescope, what point spread function will you see?\n",
    "The width of the PSF is inversley proportional to the appature diameter of a telescope\n",
    "\n",
    "\"https://www.open.edu/openlearn/science-maths-technology/telescopes-and-spectrographs/content-section-1.5.5\"\n",
    "                                                                     \n",
    "#### c. Under seeing-limited conditions, why do we build bigger telescopes?\n",
    "To collect more light to increase the data available to us.\n"
   ]
  },
  {
   "cell_type": "markdown",
   "metadata": {},
   "source": [
    "### 6. The accuracy of measuring arrival of objects coming at a constant average rate is limited by Poisson statistics.\n",
    "\n",
    "#### a. If you count 25 photons, what is the uncertainty on your count?\n",
    "The uncertainty would be +- 5 photons \n",
    "\n",
    "#### b. What is the signal-to-noise ratio for that measurement?\n",
    "The SNR would be +- 5 \n",
    "\n",
    "#### c. If you want to obtain a signal-to-noise ratio SNR=10, how many photons do you need to count?\n",
    " 100 / sqrt(100) = 10"
   ]
  },
  {
   "cell_type": "code",
   "execution_count": null,
   "metadata": {},
   "outputs": [],
   "source": []
  }
 ],
 "metadata": {
  "kernelspec": {
   "display_name": "Python 3",
   "language": "python",
   "name": "python3"
  },
  "language_info": {
   "codemirror_mode": {
    "name": "ipython",
    "version": 3
   },
   "file_extension": ".py",
   "mimetype": "text/x-python",
   "name": "python",
   "nbconvert_exporter": "python",
   "pygments_lexer": "ipython3",
   "version": "3.8.5"
  }
 },
 "nbformat": 4,
 "nbformat_minor": 4
}
